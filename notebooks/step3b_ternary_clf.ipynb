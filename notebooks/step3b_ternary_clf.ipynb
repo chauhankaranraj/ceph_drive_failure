{
 "cells": [
  {
   "cell_type": "markdown",
   "metadata": {
    "toc-hr-collapsed": false
   },
   "source": [
    "# Multiclass Classification\n",
    "An intermediate solution beween regression and classification is classifying in chunks (i.e. good, medium, bad)\n",
    "\n",
    "**NOTE**: For now, we are keeping the same classes as the upstream predictor system which is as follows:\n",
    "1. <2wk = bad\n",
    "2. 2wk-6wk = warning\n",
    "3. \\>6wk = good\n",
    "\n",
    "## Steps\n",
    "1. Segregate data into good medium bad. This way it can be used for ovo, ova, or multiclass classifier\n",
    "2. Train multiclass classifier\n",
    "3. ova\n",
    "4. ovo"
   ]
  },
  {
   "cell_type": "markdown",
   "metadata": {
    "toc-hr-collapsed": false
   },
   "source": [
    "## Get Data\n",
    "Get data in a format that is easier/more efficient to work with. e.g. only take columns that will be used for training, add rul column, etc"
   ]
  },
  {
   "cell_type": "code",
   "execution_count": 1,
   "metadata": {},
   "outputs": [],
   "source": [
    "import os\n",
    "import gc\n",
    "import sys\n",
    "SRC_PATH = '../src'\n",
    "if SRC_PATH not in sys.path:\n",
    "    sys.path.insert(0, SRC_PATH)\n",
    "import utils\n",
    "import datetime\n",
    "import pickle\n",
    "import cloudpickle\n",
    "\n",
    "import numpy as np\n",
    "import pandas as pd\n",
    "import dask.dataframe as dd\n",
    "from dask.distributed import Client\n",
    "from dask.diagnostics import ProgressBar\n",
    "\n",
    "from sklearn.metrics import confusion_matrix\n",
    "from sklearn.metrics import pairwise_distances_argmin\n",
    "from sklearn.metrics import classification_report, precision_recall_fscore_support\n",
    "\n",
    "import joblib\n",
    "from joblib import parallel_backend"
   ]
  },
  {
   "cell_type": "code",
   "execution_count": 2,
   "metadata": {},
   "outputs": [],
   "source": [
    "from matplotlib import pyplot as plt\n",
    "import seaborn as sns\n",
    "\n",
    "# Display all cell outputs\n",
    "from IPython.core.interactiveshell import InteractiveShell\n",
    "InteractiveShell.ast_node_interactivity = 'all'"
   ]
  },
  {
   "cell_type": "code",
   "execution_count": 3,
   "metadata": {},
   "outputs": [],
   "source": [
    "pbar = ProgressBar()\n",
    "pbar.register()\n",
    "# client = Client()"
   ]
  },
  {
   "cell_type": "code",
   "execution_count": 4,
   "metadata": {},
   "outputs": [],
   "source": [
    "# inferred int64 types cause a type mismatch (int vs float) error when dask sees a null value\n",
    "# null values cannot be interpreted as ints\n",
    "custom_dtypes = {\n",
    "    \"seagate\": {\n",
    "    \"date\": \"object\",\n",
    "    \"serial_number\": \"object\",\n",
    "    \"capacity_bytes\": \"float32\",\n",
    "    \"failure\": \"float32\",\n",
    "    \"smart_1_normalized\": \"float32\",\n",
    "    \"smart_1_raw\": \"float32\",\n",
    "    \"smart_5_normalized\": \"float32\",\n",
    "    \"smart_5_raw\": \"float32\",\n",
    "    \"smart_7_normalized\": \"float32\",\n",
    "    \"smart_7_raw\": \"float32\",\n",
    "    \"smart_9_normalized\": \"float32\",\n",
    "    \"smart_9_raw\": \"float32\",\n",
    "    \"smart_10_normalized\": \"float32\",\n",
    "    \"smart_10_raw\": \"float32\",\n",
    "    \"smart_184_normalized\": \"float32\",\n",
    "    \"smart_184_raw\": \"float32\",\n",
    "    \"smart_187_normalized\": \"float32\",\n",
    "    \"smart_187_raw\": \"float32\",\n",
    "    \"smart_188_normalized\": \"float32\",\n",
    "    \"smart_188_raw\": \"float32\",\n",
    "    \"smart_189_normalized\": \"float32\",\n",
    "    \"smart_189_raw\": \"float32\",\n",
    "    \"smart_190_normalized\": \"float32\",\n",
    "    \"smart_190_raw\": \"float32\",\n",
    "    \"smart_193_normalized\": \"float32\",\n",
    "    \"smart_193_raw\": \"float32\",\n",
    "    \"smart_194_normalized\": \"float32\",\n",
    "    \"smart_194_raw\": \"float32\",\n",
    "    \"smart_197_normalized\": \"float32\",\n",
    "    \"smart_197_raw\": \"float32\",\n",
    "    \"smart_198_normalized\": \"float32\",\n",
    "    \"smart_198_raw\": \"float32\",\n",
    "    \"smart_240_normalized\": \"float32\",\n",
    "    \"smart_240_raw\": \"float32\",\n",
    "    \"smart_241_normalized\": \"float32\",\n",
    "    \"smart_241_raw\": \"float32\",\n",
    "    \"smart_242_normalized\": \"float32\",\n",
    "    \"smart_242_raw\": \"float32\"\n",
    "},\n",
    "    \"hgst\": {\n",
    "    \"date\": \"object\",\n",
    "    \"serial_number\": \"object\",\n",
    "    \"model\": \"object\",\n",
    "    \"capacity_bytes\": \"float32\",\n",
    "    \"failure\": \"float32\",\n",
    "    \"smart_1_normalized\": \"float32\",\n",
    "    \"smart_1_raw\": \"float32\",\n",
    "    \"smart_2_normalized\": \"float32\",\n",
    "    \"smart_2_raw\": \"float32\",\n",
    "    \"smart_3_normalized\": \"float32\",\n",
    "    \"smart_3_raw\": \"float32\",\n",
    "    \"smart_4_normalized\": \"float32\",\n",
    "    \"smart_4_raw\": \"float32\",\n",
    "    \"smart_5_normalized\": \"float32\",\n",
    "    \"smart_5_raw\": \"float32\",\n",
    "    \"smart_7_normalized\": \"float32\",\n",
    "    \"smart_7_raw\": \"float32\",\n",
    "    \"smart_8_normalized\": \"float32\",\n",
    "    \"smart_8_raw\": \"float32\",\n",
    "    \"smart_9_normalized\": \"float32\",\n",
    "    \"smart_9_raw\": \"float32\",\n",
    "    \"smart_10_normalized\": \"float32\",\n",
    "    \"smart_10_raw\": \"float32\",\n",
    "    \"smart_12_normalized\": \"float32\",\n",
    "    \"smart_12_raw\": \"float32\",\n",
    "    \"smart_22_normalized\": \"float32\",\n",
    "    \"smart_22_raw\": \"float32\",\n",
    "    \"smart_192_normalized\": \"float32\",\n",
    "    \"smart_192_raw\": \"float32\",\n",
    "    \"smart_193_normalized\": \"float32\",\n",
    "    \"smart_193_raw\": \"float32\",\n",
    "    \"smart_194_normalized\": \"float32\",\n",
    "    \"smart_194_raw\": \"float32\",\n",
    "    \"smart_196_normalized\": \"float32\",\n",
    "    \"smart_196_raw\": \"float32\",\n",
    "    \"smart_197_normalized\": \"float32\",\n",
    "    \"smart_197_raw\": \"float32\",\n",
    "    \"smart_198_normalized\": \"float32\",\n",
    "    \"smart_198_raw\": \"float32\",\n",
    "    \"smart_199_normalized\": \"float32\",\n",
    "    \"smart_199_raw\": \"float32\"\n",
    "}}"
   ]
  },
  {
   "cell_type": "code",
   "execution_count": 5,
   "metadata": {},
   "outputs": [
    {
     "name": "stdout",
     "output_type": "stream",
     "text": [
      "[########################################] | 100% Completed | 37.6s\n"
     ]
    }
   ],
   "source": [
    "# read all the cleaned seagate data into one dataframe\n",
    "MANUFACTURER = \"seagate\"\n",
    "DATA_DIR = \"/home/kachauha/Downloads\"\n",
    "df4 = dd.read_csv(os.path.join(DATA_DIR, 'data_Q4_2018_{}_clean'.format(MANUFACTURER), '*.csv'), dtype=custom_dtypes[MANUFACTURER])\n",
    "df3 = dd.read_csv(os.path.join(DATA_DIR, 'data_Q3_2018_{}_clean'.format(MANUFACTURER), '*.csv'), dtype=custom_dtypes[MANUFACTURER])\n",
    "df = dd.concat([df3, df4], interleave_partitions=True)\n",
    "df = utils.optimal_repartition_df(df)"
   ]
  },
  {
   "cell_type": "code",
   "execution_count": 6,
   "metadata": {},
   "outputs": [],
   "source": [
    "# define thresholds as timedelta\n",
    "BAD_THRESHOLD_NDAYS = np.timedelta64(14, 'D')\n",
    "WARNING_THRESHOLD_NDAYS = np.timedelta64(42, 'D')"
   ]
  },
  {
   "cell_type": "markdown",
   "metadata": {},
   "source": [
    "### Get Failed Drives Data"
   ]
  },
  {
   "cell_type": "code",
   "execution_count": 7,
   "metadata": {},
   "outputs": [
    {
     "name": "stdout",
     "output_type": "stream",
     "text": [
      "[########################################] | 100% Completed | 24.0s\n",
      "[########################################] | 100% Completed |  1.0s\n"
     ]
    },
    {
     "data": {
      "text/html": [
       "<div>\n",
       "<style scoped>\n",
       "    .dataframe tbody tr th:only-of-type {\n",
       "        vertical-align: middle;\n",
       "    }\n",
       "\n",
       "    .dataframe tbody tr th {\n",
       "        vertical-align: top;\n",
       "    }\n",
       "\n",
       "    .dataframe thead th {\n",
       "        text-align: right;\n",
       "    }\n",
       "</style>\n",
       "<table border=\"1\" class=\"dataframe\">\n",
       "  <thead>\n",
       "    <tr style=\"text-align: right;\">\n",
       "      <th></th>\n",
       "      <th>date</th>\n",
       "      <th>serial_number</th>\n",
       "      <th>capacity_bytes</th>\n",
       "      <th>failure</th>\n",
       "      <th>smart_1_raw</th>\n",
       "      <th>smart_5_raw</th>\n",
       "      <th>smart_7_raw</th>\n",
       "      <th>smart_9_raw</th>\n",
       "      <th>smart_10_raw</th>\n",
       "      <th>smart_184_raw</th>\n",
       "      <th>...</th>\n",
       "      <th>smart_188_normalized</th>\n",
       "      <th>smart_189_normalized</th>\n",
       "      <th>smart_190_normalized</th>\n",
       "      <th>smart_193_normalized</th>\n",
       "      <th>smart_194_normalized</th>\n",
       "      <th>smart_197_normalized</th>\n",
       "      <th>smart_198_normalized</th>\n",
       "      <th>smart_240_normalized</th>\n",
       "      <th>smart_241_normalized</th>\n",
       "      <th>smart_242_normalized</th>\n",
       "    </tr>\n",
       "  </thead>\n",
       "  <tbody>\n",
       "    <tr>\n",
       "      <th>60</th>\n",
       "      <td>2018-07-01</td>\n",
       "      <td>S301GMGW</td>\n",
       "      <td>4.000787e+12</td>\n",
       "      <td>0.0</td>\n",
       "      <td>171832640.0</td>\n",
       "      <td>0.0</td>\n",
       "      <td>6.912202e+07</td>\n",
       "      <td>25241.0</td>\n",
       "      <td>0.0</td>\n",
       "      <td>0.0</td>\n",
       "      <td>...</td>\n",
       "      <td>100.0</td>\n",
       "      <td>100.0</td>\n",
       "      <td>78.0</td>\n",
       "      <td>63.0</td>\n",
       "      <td>22.0</td>\n",
       "      <td>100.0</td>\n",
       "      <td>100.0</td>\n",
       "      <td>100.0</td>\n",
       "      <td>100.0</td>\n",
       "      <td>100.0</td>\n",
       "    </tr>\n",
       "    <tr>\n",
       "      <th>243</th>\n",
       "      <td>2018-07-01</td>\n",
       "      <td>Z304KR3C</td>\n",
       "      <td>4.000787e+12</td>\n",
       "      <td>0.0</td>\n",
       "      <td>230540768.0</td>\n",
       "      <td>0.0</td>\n",
       "      <td>2.555230e+08</td>\n",
       "      <td>23960.0</td>\n",
       "      <td>0.0</td>\n",
       "      <td>0.0</td>\n",
       "      <td>...</td>\n",
       "      <td>100.0</td>\n",
       "      <td>100.0</td>\n",
       "      <td>81.0</td>\n",
       "      <td>98.0</td>\n",
       "      <td>19.0</td>\n",
       "      <td>100.0</td>\n",
       "      <td>100.0</td>\n",
       "      <td>100.0</td>\n",
       "      <td>100.0</td>\n",
       "      <td>100.0</td>\n",
       "    </tr>\n",
       "    <tr>\n",
       "      <th>613</th>\n",
       "      <td>2018-07-01</td>\n",
       "      <td>ZCH0CDHJ</td>\n",
       "      <td>1.200014e+13</td>\n",
       "      <td>0.0</td>\n",
       "      <td>125181424.0</td>\n",
       "      <td>0.0</td>\n",
       "      <td>2.146338e+08</td>\n",
       "      <td>2901.0</td>\n",
       "      <td>0.0</td>\n",
       "      <td>-100.0</td>\n",
       "      <td>...</td>\n",
       "      <td>100.0</td>\n",
       "      <td>-100.0</td>\n",
       "      <td>71.0</td>\n",
       "      <td>100.0</td>\n",
       "      <td>29.0</td>\n",
       "      <td>100.0</td>\n",
       "      <td>100.0</td>\n",
       "      <td>100.0</td>\n",
       "      <td>100.0</td>\n",
       "      <td>100.0</td>\n",
       "    </tr>\n",
       "    <tr>\n",
       "      <th>840</th>\n",
       "      <td>2018-07-01</td>\n",
       "      <td>ZA171RYT</td>\n",
       "      <td>8.001563e+12</td>\n",
       "      <td>0.0</td>\n",
       "      <td>116709632.0</td>\n",
       "      <td>56.0</td>\n",
       "      <td>2.516390e+09</td>\n",
       "      <td>10216.0</td>\n",
       "      <td>0.0</td>\n",
       "      <td>0.0</td>\n",
       "      <td>...</td>\n",
       "      <td>100.0</td>\n",
       "      <td>100.0</td>\n",
       "      <td>77.0</td>\n",
       "      <td>94.0</td>\n",
       "      <td>23.0</td>\n",
       "      <td>100.0</td>\n",
       "      <td>100.0</td>\n",
       "      <td>100.0</td>\n",
       "      <td>100.0</td>\n",
       "      <td>100.0</td>\n",
       "    </tr>\n",
       "    <tr>\n",
       "      <th>1144</th>\n",
       "      <td>2018-07-01</td>\n",
       "      <td>ZCH07J8T</td>\n",
       "      <td>1.200014e+13</td>\n",
       "      <td>0.0</td>\n",
       "      <td>182899248.0</td>\n",
       "      <td>0.0</td>\n",
       "      <td>7.768506e+08</td>\n",
       "      <td>5908.0</td>\n",
       "      <td>0.0</td>\n",
       "      <td>-100.0</td>\n",
       "      <td>...</td>\n",
       "      <td>100.0</td>\n",
       "      <td>-100.0</td>\n",
       "      <td>66.0</td>\n",
       "      <td>100.0</td>\n",
       "      <td>34.0</td>\n",
       "      <td>100.0</td>\n",
       "      <td>100.0</td>\n",
       "      <td>100.0</td>\n",
       "      <td>100.0</td>\n",
       "      <td>100.0</td>\n",
       "    </tr>\n",
       "  </tbody>\n",
       "</table>\n",
       "<p>5 rows × 38 columns</p>\n",
       "</div>"
      ],
      "text/plain": [
       "            date serial_number  capacity_bytes  failure  smart_1_raw  \\\n",
       "60    2018-07-01      S301GMGW    4.000787e+12      0.0  171832640.0   \n",
       "243   2018-07-01      Z304KR3C    4.000787e+12      0.0  230540768.0   \n",
       "613   2018-07-01      ZCH0CDHJ    1.200014e+13      0.0  125181424.0   \n",
       "840   2018-07-01      ZA171RYT    8.001563e+12      0.0  116709632.0   \n",
       "1144  2018-07-01      ZCH07J8T    1.200014e+13      0.0  182899248.0   \n",
       "\n",
       "      smart_5_raw   smart_7_raw  smart_9_raw  smart_10_raw  smart_184_raw  \\\n",
       "60            0.0  6.912202e+07      25241.0           0.0            0.0   \n",
       "243           0.0  2.555230e+08      23960.0           0.0            0.0   \n",
       "613           0.0  2.146338e+08       2901.0           0.0         -100.0   \n",
       "840          56.0  2.516390e+09      10216.0           0.0            0.0   \n",
       "1144          0.0  7.768506e+08       5908.0           0.0         -100.0   \n",
       "\n",
       "      ...  smart_188_normalized  smart_189_normalized  smart_190_normalized  \\\n",
       "60    ...                 100.0                 100.0                  78.0   \n",
       "243   ...                 100.0                 100.0                  81.0   \n",
       "613   ...                 100.0                -100.0                  71.0   \n",
       "840   ...                 100.0                 100.0                  77.0   \n",
       "1144  ...                 100.0                -100.0                  66.0   \n",
       "\n",
       "      smart_193_normalized  smart_194_normalized  smart_197_normalized  \\\n",
       "60                    63.0                  22.0                 100.0   \n",
       "243                   98.0                  19.0                 100.0   \n",
       "613                  100.0                  29.0                 100.0   \n",
       "840                   94.0                  23.0                 100.0   \n",
       "1144                 100.0                  34.0                 100.0   \n",
       "\n",
       "      smart_198_normalized  smart_240_normalized  smart_241_normalized  \\\n",
       "60                   100.0                 100.0                 100.0   \n",
       "243                  100.0                 100.0                 100.0   \n",
       "613                  100.0                 100.0                 100.0   \n",
       "840                  100.0                 100.0                 100.0   \n",
       "1144                 100.0                 100.0                 100.0   \n",
       "\n",
       "      smart_242_normalized  \n",
       "60                   100.0  \n",
       "243                  100.0  \n",
       "613                  100.0  \n",
       "840                  100.0  \n",
       "1144                 100.0  \n",
       "\n",
       "[5 rows x 38 columns]"
      ]
     },
     "execution_count": 7,
     "metadata": {},
     "output_type": "execute_result"
    }
   ],
   "source": [
    "# get the serial numbers for all the failed hard drives\n",
    "failed_serials = df[df['failure']==1]['serial_number'].compute()\n",
    "\n",
    "# failed drives data\n",
    "failed_df = df[df['serial_number'].isin(failed_serials)]\n",
    "failed_df.head()"
   ]
  },
  {
   "cell_type": "code",
   "execution_count": 8,
   "metadata": {},
   "outputs": [
    {
     "name": "stdout",
     "output_type": "stream",
     "text": [
      "[########################################] | 100% Completed | 25.1s\n"
     ]
    },
    {
     "data": {
      "text/plain": [
       "(array([110.,  94., 105.,  81.,  83.,  94.,  77.]),\n",
       " array([  1.        ,  27.14285714,  53.28571429,  79.42857143,\n",
       "        105.57142857, 131.71428571, 157.85714286, 184.        ]),\n",
       " <a list of 7 Patch objects>)"
      ]
     },
     "execution_count": 8,
     "metadata": {},
     "output_type": "execute_result"
    },
    {
     "data": {
      "image/png": "[encoded data removed]",
      "text/plain": [
       "<Figure size 432x288 with 1 Axes>"
      ]
     },
     "metadata": {
      "needs_background": "light"
     },
     "output_type": "display_data"
    }
   ],
   "source": [
    "# number of days of data available for failed drives\n",
    "days = failed_df[['date', 'serial_number', 'failure']].groupby('serial_number').size().compute()\n",
    "plt.hist(days, bins=7)    # 92 days / 2 weeks = 7 bins"
   ]
  },
  {
   "cell_type": "markdown",
   "metadata": {},
   "source": [
    "### Downsample Working Drives"
   ]
  },
  {
   "cell_type": "code",
   "execution_count": 9,
   "metadata": {},
   "outputs": [
    {
     "name": "stdout",
     "output_type": "stream",
     "text": [
      "[########################################] | 100% Completed |  1min 11.7s\n"
     ]
    },
    {
     "data": {
      "text/html": [
       "<div>\n",
       "<style scoped>\n",
       "    .dataframe tbody tr th:only-of-type {\n",
       "        vertical-align: middle;\n",
       "    }\n",
       "\n",
       "    .dataframe tbody tr th {\n",
       "        vertical-align: top;\n",
       "    }\n",
       "\n",
       "    .dataframe thead th {\n",
       "        text-align: right;\n",
       "    }\n",
       "</style>\n",
       "<table border=\"1\" class=\"dataframe\">\n",
       "  <thead>\n",
       "    <tr style=\"text-align: right;\">\n",
       "      <th></th>\n",
       "      <th>mean_smart_1_raw</th>\n",
       "      <th>mean_smart_5_raw</th>\n",
       "      <th>mean_smart_7_raw</th>\n",
       "      <th>mean_smart_9_raw</th>\n",
       "      <th>mean_smart_10_raw</th>\n",
       "      <th>mean_smart_184_raw</th>\n",
       "      <th>mean_smart_187_raw</th>\n",
       "      <th>mean_smart_188_raw</th>\n",
       "      <th>mean_smart_189_raw</th>\n",
       "      <th>mean_smart_190_raw</th>\n",
       "      <th>...</th>\n",
       "      <th>std_smart_190_normalized</th>\n",
       "      <th>std_smart_193_normalized</th>\n",
       "      <th>std_smart_194_normalized</th>\n",
       "      <th>std_smart_197_normalized</th>\n",
       "      <th>std_smart_198_normalized</th>\n",
       "      <th>std_smart_240_normalized</th>\n",
       "      <th>std_smart_241_normalized</th>\n",
       "      <th>std_smart_242_normalized</th>\n",
       "      <th>capacity_bytes</th>\n",
       "      <th>num_days</th>\n",
       "    </tr>\n",
       "    <tr>\n",
       "      <th>serial_number</th>\n",
       "      <th></th>\n",
       "      <th></th>\n",
       "      <th></th>\n",
       "      <th></th>\n",
       "      <th></th>\n",
       "      <th></th>\n",
       "      <th></th>\n",
       "      <th></th>\n",
       "      <th></th>\n",
       "      <th></th>\n",
       "      <th></th>\n",
       "      <th></th>\n",
       "      <th></th>\n",
       "      <th></th>\n",
       "      <th></th>\n",
       "      <th></th>\n",
       "      <th></th>\n",
       "      <th></th>\n",
       "      <th></th>\n",
       "      <th></th>\n",
       "      <th></th>\n",
       "    </tr>\n",
       "  </thead>\n",
       "  <tbody>\n",
       "    <tr>\n",
       "      <th>6VDHZ71D</th>\n",
       "      <td>1.120956e+08</td>\n",
       "      <td>0.0</td>\n",
       "      <td>3.795581e+08</td>\n",
       "      <td>40377.923077</td>\n",
       "      <td>0.0</td>\n",
       "      <td>0.0</td>\n",
       "      <td>0.0</td>\n",
       "      <td>17.0</td>\n",
       "      <td>0.0</td>\n",
       "      <td>26.318681</td>\n",
       "      <td>...</td>\n",
       "      <td>0.837115</td>\n",
       "      <td>0.0</td>\n",
       "      <td>0.837042</td>\n",
       "      <td>0.0</td>\n",
       "      <td>0.0</td>\n",
       "      <td>0.0</td>\n",
       "      <td>0.0</td>\n",
       "      <td>0.0</td>\n",
       "      <td>3.200729e+11</td>\n",
       "      <td>91</td>\n",
       "    </tr>\n",
       "    <tr>\n",
       "      <th>6VDHZ9H9</th>\n",
       "      <td>1.234109e+08</td>\n",
       "      <td>0.0</td>\n",
       "      <td>2.872033e+08</td>\n",
       "      <td>39796.008696</td>\n",
       "      <td>0.0</td>\n",
       "      <td>0.0</td>\n",
       "      <td>0.0</td>\n",
       "      <td>18.0</td>\n",
       "      <td>0.0</td>\n",
       "      <td>27.530435</td>\n",
       "      <td>...</td>\n",
       "      <td>0.772789</td>\n",
       "      <td>0.0</td>\n",
       "      <td>0.772593</td>\n",
       "      <td>0.0</td>\n",
       "      <td>0.0</td>\n",
       "      <td>0.0</td>\n",
       "      <td>0.0</td>\n",
       "      <td>0.0</td>\n",
       "      <td>3.200729e+11</td>\n",
       "      <td>115</td>\n",
       "    </tr>\n",
       "    <tr>\n",
       "      <th>6VDHZA4H</th>\n",
       "      <td>1.271050e+08</td>\n",
       "      <td>0.0</td>\n",
       "      <td>3.796565e+08</td>\n",
       "      <td>40328.606742</td>\n",
       "      <td>0.0</td>\n",
       "      <td>0.0</td>\n",
       "      <td>0.0</td>\n",
       "      <td>12.0</td>\n",
       "      <td>0.0</td>\n",
       "      <td>25.404494</td>\n",
       "      <td>...</td>\n",
       "      <td>0.817295</td>\n",
       "      <td>0.0</td>\n",
       "      <td>0.817218</td>\n",
       "      <td>0.0</td>\n",
       "      <td>0.0</td>\n",
       "      <td>0.0</td>\n",
       "      <td>0.0</td>\n",
       "      <td>0.0</td>\n",
       "      <td>3.200729e+11</td>\n",
       "      <td>89</td>\n",
       "    </tr>\n",
       "    <tr>\n",
       "      <th>6VDHZAFY</th>\n",
       "      <td>1.205417e+08</td>\n",
       "      <td>0.0</td>\n",
       "      <td>3.796991e+08</td>\n",
       "      <td>40089.560440</td>\n",
       "      <td>0.0</td>\n",
       "      <td>0.0</td>\n",
       "      <td>0.0</td>\n",
       "      <td>8.0</td>\n",
       "      <td>0.0</td>\n",
       "      <td>31.439560</td>\n",
       "      <td>...</td>\n",
       "      <td>0.682824</td>\n",
       "      <td>0.0</td>\n",
       "      <td>0.682735</td>\n",
       "      <td>0.0</td>\n",
       "      <td>0.0</td>\n",
       "      <td>0.0</td>\n",
       "      <td>0.0</td>\n",
       "      <td>0.0</td>\n",
       "      <td>3.200729e+11</td>\n",
       "      <td>91</td>\n",
       "    </tr>\n",
       "    <tr>\n",
       "      <th>6VDHZAKY</th>\n",
       "      <td>1.320863e+08</td>\n",
       "      <td>0.0</td>\n",
       "      <td>2.881417e+08</td>\n",
       "      <td>40232.347826</td>\n",
       "      <td>0.0</td>\n",
       "      <td>0.0</td>\n",
       "      <td>0.0</td>\n",
       "      <td>19.0</td>\n",
       "      <td>0.0</td>\n",
       "      <td>27.147826</td>\n",
       "      <td>...</td>\n",
       "      <td>2.258360</td>\n",
       "      <td>0.0</td>\n",
       "      <td>2.258293</td>\n",
       "      <td>0.0</td>\n",
       "      <td>0.0</td>\n",
       "      <td>0.0</td>\n",
       "      <td>0.0</td>\n",
       "      <td>0.0</td>\n",
       "      <td>3.200729e+11</td>\n",
       "      <td>115</td>\n",
       "    </tr>\n",
       "  </tbody>\n",
       "</table>\n",
       "<p>5 rows × 70 columns</p>\n",
       "</div>"
      ],
      "text/plain": [
       "               mean_smart_1_raw  mean_smart_5_raw  mean_smart_7_raw  \\\n",
       "serial_number                                                         \n",
       "6VDHZ71D           1.120956e+08               0.0      3.795581e+08   \n",
       "6VDHZ9H9           1.234109e+08               0.0      2.872033e+08   \n",
       "6VDHZA4H           1.271050e+08               0.0      3.796565e+08   \n",
       "6VDHZAFY           1.205417e+08               0.0      3.796991e+08   \n",
       "6VDHZAKY           1.320863e+08               0.0      2.881417e+08   \n",
       "\n",
       "               mean_smart_9_raw  mean_smart_10_raw  mean_smart_184_raw  \\\n",
       "serial_number                                                            \n",
       "6VDHZ71D           40377.923077                0.0                 0.0   \n",
       "6VDHZ9H9           39796.008696                0.0                 0.0   \n",
       "6VDHZA4H           40328.606742                0.0                 0.0   \n",
       "6VDHZAFY           40089.560440                0.0                 0.0   \n",
       "6VDHZAKY           40232.347826                0.0                 0.0   \n",
       "\n",
       "               mean_smart_187_raw  mean_smart_188_raw  mean_smart_189_raw  \\\n",
       "serial_number                                                               \n",
       "6VDHZ71D                      0.0                17.0                 0.0   \n",
       "6VDHZ9H9                      0.0                18.0                 0.0   \n",
       "6VDHZA4H                      0.0                12.0                 0.0   \n",
       "6VDHZAFY                      0.0                 8.0                 0.0   \n",
       "6VDHZAKY                      0.0                19.0                 0.0   \n",
       "\n",
       "               mean_smart_190_raw  ...  std_smart_190_normalized  \\\n",
       "serial_number                      ...                             \n",
       "6VDHZ71D                26.318681  ...                  0.837115   \n",
       "6VDHZ9H9                27.530435  ...                  0.772789   \n",
       "6VDHZA4H                25.404494  ...                  0.817295   \n",
       "6VDHZAFY                31.439560  ...                  0.682824   \n",
       "6VDHZAKY                27.147826  ...                  2.258360   \n",
       "\n",
       "               std_smart_193_normalized  std_smart_194_normalized  \\\n",
       "serial_number                                                       \n",
       "6VDHZ71D                            0.0                  0.837042   \n",
       "6VDHZ9H9                            0.0                  0.772593   \n",
       "6VDHZA4H                            0.0                  0.817218   \n",
       "6VDHZAFY                            0.0                  0.682735   \n",
       "6VDHZAKY                            0.0                  2.258293   \n",
       "\n",
       "               std_smart_197_normalized  std_smart_198_normalized  \\\n",
       "serial_number                                                       \n",
       "6VDHZ71D                            0.0                       0.0   \n",
       "6VDHZ9H9                            0.0                       0.0   \n",
       "6VDHZA4H                            0.0                       0.0   \n",
       "6VDHZAFY                            0.0                       0.0   \n",
       "6VDHZAKY                            0.0                       0.0   \n",
       "\n",
       "               std_smart_240_normalized  std_smart_241_normalized  \\\n",
       "serial_number                                                       \n",
       "6VDHZ71D                            0.0                       0.0   \n",
       "6VDHZ9H9                            0.0                       0.0   \n",
       "6VDHZA4H                            0.0                       0.0   \n",
       "6VDHZAFY                            0.0                       0.0   \n",
       "6VDHZAKY                            0.0                       0.0   \n",
       "\n",
       "               std_smart_242_normalized  capacity_bytes  num_days  \n",
       "serial_number                                                      \n",
       "6VDHZ71D                            0.0    3.200729e+11        91  \n",
       "6VDHZ9H9                            0.0    3.200729e+11       115  \n",
       "6VDHZA4H                            0.0    3.200729e+11        89  \n",
       "6VDHZAFY                            0.0    3.200729e+11        91  \n",
       "6VDHZAKY                            0.0    3.200729e+11       115  \n",
       "\n",
       "[5 rows x 70 columns]"
      ]
     },
     "execution_count": 9,
     "metadata": {},
     "output_type": "execute_result"
    }
   ],
   "source": [
    "# extract mean,std,capacity for working drives\n",
    "# but first, drop the columns for which it doesnt make sense the \"aggregate\" values\n",
    "drop_cols = ['date', 'capacity_bytes', 'failure']\n",
    "\n",
    "# FIXME: this is a temp fix. ideally, we should remove model column from the clean data for hgst\n",
    "if MANUFACTURER.lower() != \"seagate\":\n",
    "    drop_cols.append(\"model\")\n",
    "working_feats_df = utils.featurize_ts(df[~df['serial_number'].isin(failed_serials)],\n",
    "                                      drop_cols=drop_cols,\n",
    "                                      num_days=True)\n",
    "working_feats_df.head()"
   ]
  },
  {
   "cell_type": "code",
   "execution_count": 8,
   "metadata": {},
   "outputs": [],
   "source": [
    "from sklearn.cluster import SpectralClustering, MiniBatchKMeans\n",
    "from sklearn.metrics.pairwise import cosine_similarity"
   ]
  },
  {
   "cell_type": "markdown",
   "metadata": {},
   "source": [
    "**FIXME** euclidean distance is not a good measure for such a high dimensional data, but even dask spectral clustering runs out of memory so we dont have an option."
   ]
  },
  {
   "cell_type": "markdown",
   "metadata": {},
   "source": [
    "**TODO** Try dask kmeans or spectral clustering to get more working serials"
   ]
  },
  {
   "cell_type": "markdown",
   "metadata": {},
   "source": [
    "#### TODO: kmeans does not reach >350 centers"
   ]
  },
  {
   "cell_type": "code",
   "execution_count": 9,
   "metadata": {},
   "outputs": [
    {
     "name": "stdout",
     "output_type": "stream",
     "text": [
      "[########################################] | 100% Completed | 25.7s\n",
      "[########################################] | 100% Completed | 25.3s\n",
      "[########################################] | 100% Completed |  0.8s\n"
     ]
    },
    {
     "data": {
      "text/html": [
       "<div>\n",
       "<style scoped>\n",
       "    .dataframe tbody tr th:only-of-type {\n",
       "        vertical-align: middle;\n",
       "    }\n",
       "\n",
       "    .dataframe tbody tr th {\n",
       "        vertical-align: top;\n",
       "    }\n",
       "\n",
       "    .dataframe thead th {\n",
       "        text-align: right;\n",
       "    }\n",
       "</style>\n",
       "<table border=\"1\" class=\"dataframe\">\n",
       "  <thead>\n",
       "    <tr style=\"text-align: right;\">\n",
       "      <th></th>\n",
       "      <th>date</th>\n",
       "      <th>serial_number</th>\n",
       "      <th>capacity_bytes</th>\n",
       "      <th>failure</th>\n",
       "      <th>smart_1_raw</th>\n",
       "      <th>smart_5_raw</th>\n",
       "      <th>smart_7_raw</th>\n",
       "      <th>smart_9_raw</th>\n",
       "      <th>smart_10_raw</th>\n",
       "      <th>smart_184_raw</th>\n",
       "      <th>...</th>\n",
       "      <th>smart_188_normalized</th>\n",
       "      <th>smart_189_normalized</th>\n",
       "      <th>smart_190_normalized</th>\n",
       "      <th>smart_193_normalized</th>\n",
       "      <th>smart_194_normalized</th>\n",
       "      <th>smart_197_normalized</th>\n",
       "      <th>smart_198_normalized</th>\n",
       "      <th>smart_240_normalized</th>\n",
       "      <th>smart_241_normalized</th>\n",
       "      <th>smart_242_normalized</th>\n",
       "    </tr>\n",
       "  </thead>\n",
       "  <tbody>\n",
       "    <tr>\n",
       "      <th>8</th>\n",
       "      <td>2018-07-01</td>\n",
       "      <td>ZJV02XWV</td>\n",
       "      <td>1.200014e+13</td>\n",
       "      <td>0.0</td>\n",
       "      <td>53340920.0</td>\n",
       "      <td>0.0</td>\n",
       "      <td>1.717476e+08</td>\n",
       "      <td>1259.0</td>\n",
       "      <td>0.0</td>\n",
       "      <td>-100.0</td>\n",
       "      <td>...</td>\n",
       "      <td>100.0</td>\n",
       "      <td>-100.0</td>\n",
       "      <td>75.0</td>\n",
       "      <td>100.0</td>\n",
       "      <td>25.0</td>\n",
       "      <td>100.0</td>\n",
       "      <td>100.0</td>\n",
       "      <td>100.0</td>\n",
       "      <td>100.0</td>\n",
       "      <td>100.0</td>\n",
       "    </tr>\n",
       "    <tr>\n",
       "      <th>20</th>\n",
       "      <td>2018-07-01</td>\n",
       "      <td>ZA13YGBG</td>\n",
       "      <td>8.001563e+12</td>\n",
       "      <td>0.0</td>\n",
       "      <td>158767616.0</td>\n",
       "      <td>0.0</td>\n",
       "      <td>3.104080e+09</td>\n",
       "      <td>13910.0</td>\n",
       "      <td>0.0</td>\n",
       "      <td>0.0</td>\n",
       "      <td>...</td>\n",
       "      <td>100.0</td>\n",
       "      <td>100.0</td>\n",
       "      <td>73.0</td>\n",
       "      <td>95.0</td>\n",
       "      <td>27.0</td>\n",
       "      <td>100.0</td>\n",
       "      <td>100.0</td>\n",
       "      <td>100.0</td>\n",
       "      <td>100.0</td>\n",
       "      <td>100.0</td>\n",
       "    </tr>\n",
       "    <tr>\n",
       "      <th>27</th>\n",
       "      <td>2018-07-01</td>\n",
       "      <td>S301NGZV</td>\n",
       "      <td>4.000787e+12</td>\n",
       "      <td>0.0</td>\n",
       "      <td>31363312.0</td>\n",
       "      <td>0.0</td>\n",
       "      <td>8.219142e+07</td>\n",
       "      <td>23424.0</td>\n",
       "      <td>0.0</td>\n",
       "      <td>0.0</td>\n",
       "      <td>...</td>\n",
       "      <td>100.0</td>\n",
       "      <td>100.0</td>\n",
       "      <td>76.0</td>\n",
       "      <td>92.0</td>\n",
       "      <td>24.0</td>\n",
       "      <td>100.0</td>\n",
       "      <td>100.0</td>\n",
       "      <td>100.0</td>\n",
       "      <td>100.0</td>\n",
       "      <td>100.0</td>\n",
       "    </tr>\n",
       "    <tr>\n",
       "      <th>46</th>\n",
       "      <td>2018-07-01</td>\n",
       "      <td>Z305AJF7</td>\n",
       "      <td>4.000787e+12</td>\n",
       "      <td>0.0</td>\n",
       "      <td>5959552.0</td>\n",
       "      <td>0.0</td>\n",
       "      <td>7.817990e+07</td>\n",
       "      <td>21588.0</td>\n",
       "      <td>0.0</td>\n",
       "      <td>0.0</td>\n",
       "      <td>...</td>\n",
       "      <td>100.0</td>\n",
       "      <td>100.0</td>\n",
       "      <td>81.0</td>\n",
       "      <td>96.0</td>\n",
       "      <td>19.0</td>\n",
       "      <td>100.0</td>\n",
       "      <td>100.0</td>\n",
       "      <td>100.0</td>\n",
       "      <td>100.0</td>\n",
       "      <td>100.0</td>\n",
       "    </tr>\n",
       "    <tr>\n",
       "      <th>50</th>\n",
       "      <td>2018-07-01</td>\n",
       "      <td>ZA10RYBR</td>\n",
       "      <td>8.001563e+12</td>\n",
       "      <td>0.0</td>\n",
       "      <td>37112328.0</td>\n",
       "      <td>0.0</td>\n",
       "      <td>1.575094e+09</td>\n",
       "      <td>17024.0</td>\n",
       "      <td>0.0</td>\n",
       "      <td>0.0</td>\n",
       "      <td>...</td>\n",
       "      <td>100.0</td>\n",
       "      <td>100.0</td>\n",
       "      <td>58.0</td>\n",
       "      <td>100.0</td>\n",
       "      <td>42.0</td>\n",
       "      <td>100.0</td>\n",
       "      <td>100.0</td>\n",
       "      <td>100.0</td>\n",
       "      <td>100.0</td>\n",
       "      <td>100.0</td>\n",
       "    </tr>\n",
       "  </tbody>\n",
       "</table>\n",
       "<p>5 rows × 38 columns</p>\n",
       "</div>"
      ],
      "text/plain": [
       "          date serial_number  capacity_bytes  failure  smart_1_raw  \\\n",
       "8   2018-07-01      ZJV02XWV    1.200014e+13      0.0   53340920.0   \n",
       "20  2018-07-01      ZA13YGBG    8.001563e+12      0.0  158767616.0   \n",
       "27  2018-07-01      S301NGZV    4.000787e+12      0.0   31363312.0   \n",
       "46  2018-07-01      Z305AJF7    4.000787e+12      0.0    5959552.0   \n",
       "50  2018-07-01      ZA10RYBR    8.001563e+12      0.0   37112328.0   \n",
       "\n",
       "    smart_5_raw   smart_7_raw  smart_9_raw  smart_10_raw  smart_184_raw  ...  \\\n",
       "8           0.0  1.717476e+08       1259.0           0.0         -100.0  ...   \n",
       "20          0.0  3.104080e+09      13910.0           0.0            0.0  ...   \n",
       "27          0.0  8.219142e+07      23424.0           0.0            0.0  ...   \n",
       "46          0.0  7.817990e+07      21588.0           0.0            0.0  ...   \n",
       "50          0.0  1.575094e+09      17024.0           0.0            0.0  ...   \n",
       "\n",
       "    smart_188_normalized  smart_189_normalized  smart_190_normalized  \\\n",
       "8                  100.0                -100.0                  75.0   \n",
       "20                 100.0                 100.0                  73.0   \n",
       "27                 100.0                 100.0                  76.0   \n",
       "46                 100.0                 100.0                  81.0   \n",
       "50                 100.0                 100.0                  58.0   \n",
       "\n",
       "    smart_193_normalized  smart_194_normalized  smart_197_normalized  \\\n",
       "8                  100.0                  25.0                 100.0   \n",
       "20                  95.0                  27.0                 100.0   \n",
       "27                  92.0                  24.0                 100.0   \n",
       "46                  96.0                  19.0                 100.0   \n",
       "50                 100.0                  42.0                 100.0   \n",
       "\n",
       "    smart_198_normalized  smart_240_normalized  smart_241_normalized  \\\n",
       "8                  100.0                 100.0                 100.0   \n",
       "20                 100.0                 100.0                 100.0   \n",
       "27                 100.0                 100.0                 100.0   \n",
       "46                 100.0                 100.0                 100.0   \n",
       "50                 100.0                 100.0                 100.0   \n",
       "\n",
       "    smart_242_normalized  \n",
       "8                  100.0  \n",
       "20                 100.0  \n",
       "27                 100.0  \n",
       "46                 100.0  \n",
       "50                 100.0  \n",
       "\n",
       "[5 rows x 38 columns]"
      ]
     },
     "execution_count": 9,
     "metadata": {},
     "output_type": "execute_result"
    }
   ],
   "source": [
    "# apply clustering to get the serial numbers that best represent the working drives\n",
    "num_working_serials = 5000\n",
    "# sc = SpectralClustering(n_clusters=num_working_serials, \n",
    "#                         affinity=cosine_similarity, \n",
    "# #                         n_neighbors=50,\n",
    "#                         n_jobs=-1)\n",
    "# sc = SpectralClustering(n_clusters=num_working_serials, n_jobs=-1)\n",
    "# minikm = MiniBatchKMeans(n_clusters=num_working_serials, max_iter=1e5, batch_size=500)\n",
    "# working_repr_sers = utils.get_downsampled_working_sers(working_feats_df.compute(), num_working_serials, model=minikm)\n",
    "working_sers = df[~df['serial_number'].isin(failed_serials)]['serial_number'].unique()\n",
    "working_repr_sers = working_sers.sample(frac=(num_working_serials/len(working_sers))).compute()\n",
    "\n",
    "# downsample the dataset\n",
    "working_df = df[df['serial_number'].isin(working_repr_sers)]\n",
    "working_df.head()"
   ]
  },
  {
   "cell_type": "markdown",
   "metadata": {},
   "source": [
    "### Combine Failed and Working Drives\n",
    "Even the combined data should be small enough since we have downsampled significantly. Therefore bring the combined df in memory so it is easier to work with"
   ]
  },
  {
   "cell_type": "code",
   "execution_count": 10,
   "metadata": {},
   "outputs": [
    {
     "name": "stdout",
     "output_type": "stream",
     "text": [
      "[########################################] | 100% Completed |  0.8s\n"
     ]
    },
    {
     "data": {
      "text/html": [
       "<div>\n",
       "<style scoped>\n",
       "    .dataframe tbody tr th:only-of-type {\n",
       "        vertical-align: middle;\n",
       "    }\n",
       "\n",
       "    .dataframe tbody tr th {\n",
       "        vertical-align: top;\n",
       "    }\n",
       "\n",
       "    .dataframe thead th {\n",
       "        text-align: right;\n",
       "    }\n",
       "</style>\n",
       "<table border=\"1\" class=\"dataframe\">\n",
       "  <thead>\n",
       "    <tr style=\"text-align: right;\">\n",
       "      <th></th>\n",
       "      <th>date</th>\n",
       "      <th>serial_number</th>\n",
       "      <th>capacity_bytes</th>\n",
       "      <th>failure</th>\n",
       "      <th>smart_1_raw</th>\n",
       "      <th>smart_5_raw</th>\n",
       "      <th>smart_7_raw</th>\n",
       "      <th>smart_9_raw</th>\n",
       "      <th>smart_10_raw</th>\n",
       "      <th>smart_184_raw</th>\n",
       "      <th>...</th>\n",
       "      <th>smart_188_normalized</th>\n",
       "      <th>smart_189_normalized</th>\n",
       "      <th>smart_190_normalized</th>\n",
       "      <th>smart_193_normalized</th>\n",
       "      <th>smart_194_normalized</th>\n",
       "      <th>smart_197_normalized</th>\n",
       "      <th>smart_198_normalized</th>\n",
       "      <th>smart_240_normalized</th>\n",
       "      <th>smart_241_normalized</th>\n",
       "      <th>smart_242_normalized</th>\n",
       "    </tr>\n",
       "  </thead>\n",
       "  <tbody>\n",
       "    <tr>\n",
       "      <th>60</th>\n",
       "      <td>2018-07-01</td>\n",
       "      <td>S301GMGW</td>\n",
       "      <td>4.000787e+12</td>\n",
       "      <td>0.0</td>\n",
       "      <td>171832640.0</td>\n",
       "      <td>0.0</td>\n",
       "      <td>6.912202e+07</td>\n",
       "      <td>25241.0</td>\n",
       "      <td>0.0</td>\n",
       "      <td>0.0</td>\n",
       "      <td>...</td>\n",
       "      <td>100.0</td>\n",
       "      <td>100.0</td>\n",
       "      <td>78.0</td>\n",
       "      <td>63.0</td>\n",
       "      <td>22.0</td>\n",
       "      <td>100.0</td>\n",
       "      <td>100.0</td>\n",
       "      <td>100.0</td>\n",
       "      <td>100.0</td>\n",
       "      <td>100.0</td>\n",
       "    </tr>\n",
       "    <tr>\n",
       "      <th>243</th>\n",
       "      <td>2018-07-01</td>\n",
       "      <td>Z304KR3C</td>\n",
       "      <td>4.000787e+12</td>\n",
       "      <td>0.0</td>\n",
       "      <td>230540768.0</td>\n",
       "      <td>0.0</td>\n",
       "      <td>2.555230e+08</td>\n",
       "      <td>23960.0</td>\n",
       "      <td>0.0</td>\n",
       "      <td>0.0</td>\n",
       "      <td>...</td>\n",
       "      <td>100.0</td>\n",
       "      <td>100.0</td>\n",
       "      <td>81.0</td>\n",
       "      <td>98.0</td>\n",
       "      <td>19.0</td>\n",
       "      <td>100.0</td>\n",
       "      <td>100.0</td>\n",
       "      <td>100.0</td>\n",
       "      <td>100.0</td>\n",
       "      <td>100.0</td>\n",
       "    </tr>\n",
       "    <tr>\n",
       "      <th>613</th>\n",
       "      <td>2018-07-01</td>\n",
       "      <td>ZCH0CDHJ</td>\n",
       "      <td>1.200014e+13</td>\n",
       "      <td>0.0</td>\n",
       "      <td>125181424.0</td>\n",
       "      <td>0.0</td>\n",
       "      <td>2.146338e+08</td>\n",
       "      <td>2901.0</td>\n",
       "      <td>0.0</td>\n",
       "      <td>-100.0</td>\n",
       "      <td>...</td>\n",
       "      <td>100.0</td>\n",
       "      <td>-100.0</td>\n",
       "      <td>71.0</td>\n",
       "      <td>100.0</td>\n",
       "      <td>29.0</td>\n",
       "      <td>100.0</td>\n",
       "      <td>100.0</td>\n",
       "      <td>100.0</td>\n",
       "      <td>100.0</td>\n",
       "      <td>100.0</td>\n",
       "    </tr>\n",
       "    <tr>\n",
       "      <th>840</th>\n",
       "      <td>2018-07-01</td>\n",
       "      <td>ZA171RYT</td>\n",
       "      <td>8.001563e+12</td>\n",
       "      <td>0.0</td>\n",
       "      <td>116709632.0</td>\n",
       "      <td>56.0</td>\n",
       "      <td>2.516390e+09</td>\n",
       "      <td>10216.0</td>\n",
       "      <td>0.0</td>\n",
       "      <td>0.0</td>\n",
       "      <td>...</td>\n",
       "      <td>100.0</td>\n",
       "      <td>100.0</td>\n",
       "      <td>77.0</td>\n",
       "      <td>94.0</td>\n",
       "      <td>23.0</td>\n",
       "      <td>100.0</td>\n",
       "      <td>100.0</td>\n",
       "      <td>100.0</td>\n",
       "      <td>100.0</td>\n",
       "      <td>100.0</td>\n",
       "    </tr>\n",
       "    <tr>\n",
       "      <th>1144</th>\n",
       "      <td>2018-07-01</td>\n",
       "      <td>ZCH07J8T</td>\n",
       "      <td>1.200014e+13</td>\n",
       "      <td>0.0</td>\n",
       "      <td>182899248.0</td>\n",
       "      <td>0.0</td>\n",
       "      <td>7.768506e+08</td>\n",
       "      <td>5908.0</td>\n",
       "      <td>0.0</td>\n",
       "      <td>-100.0</td>\n",
       "      <td>...</td>\n",
       "      <td>100.0</td>\n",
       "      <td>-100.0</td>\n",
       "      <td>66.0</td>\n",
       "      <td>100.0</td>\n",
       "      <td>34.0</td>\n",
       "      <td>100.0</td>\n",
       "      <td>100.0</td>\n",
       "      <td>100.0</td>\n",
       "      <td>100.0</td>\n",
       "      <td>100.0</td>\n",
       "    </tr>\n",
       "  </tbody>\n",
       "</table>\n",
       "<p>5 rows × 38 columns</p>\n",
       "</div>"
      ],
      "text/plain": [
       "            date serial_number  capacity_bytes  failure  smart_1_raw  \\\n",
       "60    2018-07-01      S301GMGW    4.000787e+12      0.0  171832640.0   \n",
       "243   2018-07-01      Z304KR3C    4.000787e+12      0.0  230540768.0   \n",
       "613   2018-07-01      ZCH0CDHJ    1.200014e+13      0.0  125181424.0   \n",
       "840   2018-07-01      ZA171RYT    8.001563e+12      0.0  116709632.0   \n",
       "1144  2018-07-01      ZCH07J8T    1.200014e+13      0.0  182899248.0   \n",
       "\n",
       "      smart_5_raw   smart_7_raw  smart_9_raw  smart_10_raw  smart_184_raw  \\\n",
       "60            0.0  6.912202e+07      25241.0           0.0            0.0   \n",
       "243           0.0  2.555230e+08      23960.0           0.0            0.0   \n",
       "613           0.0  2.146338e+08       2901.0           0.0         -100.0   \n",
       "840          56.0  2.516390e+09      10216.0           0.0            0.0   \n",
       "1144          0.0  7.768506e+08       5908.0           0.0         -100.0   \n",
       "\n",
       "      ...  smart_188_normalized  smart_189_normalized  smart_190_normalized  \\\n",
       "60    ...                 100.0                 100.0                  78.0   \n",
       "243   ...                 100.0                 100.0                  81.0   \n",
       "613   ...                 100.0                -100.0                  71.0   \n",
       "840   ...                 100.0                 100.0                  77.0   \n",
       "1144  ...                 100.0                -100.0                  66.0   \n",
       "\n",
       "      smart_193_normalized  smart_194_normalized  smart_197_normalized  \\\n",
       "60                    63.0                  22.0                 100.0   \n",
       "243                   98.0                  19.0                 100.0   \n",
       "613                  100.0                  29.0                 100.0   \n",
       "840                   94.0                  23.0                 100.0   \n",
       "1144                 100.0                  34.0                 100.0   \n",
       "\n",
       "      smart_198_normalized  smart_240_normalized  smart_241_normalized  \\\n",
       "60                   100.0                 100.0                 100.0   \n",
       "243                  100.0                 100.0                 100.0   \n",
       "613                  100.0                 100.0                 100.0   \n",
       "840                  100.0                 100.0                 100.0   \n",
       "1144                 100.0                 100.0                 100.0   \n",
       "\n",
       "      smart_242_normalized  \n",
       "60                   100.0  \n",
       "243                  100.0  \n",
       "613                  100.0  \n",
       "840                  100.0  \n",
       "1144                 100.0  \n",
       "\n",
       "[5 rows x 38 columns]"
      ]
     },
     "execution_count": 10,
     "metadata": {},
     "output_type": "execute_result"
    }
   ],
   "source": [
    "# concatenate rows\n",
    "df = failed_df.append(working_df)\n",
    "\n",
    "# drop columns that wont be useful for prediction\n",
    "if MANUFACTURER == \"hgst\":\n",
    "    df = df.drop('model', axis=1)\n",
    "\n",
    "df.head()"
   ]
  },
  {
   "cell_type": "markdown",
   "metadata": {},
   "source": [
    "### Add RUL column\n",
    "**NOTE**: RUL values make sense only for the failed drives, because they have been observed to fail. For working drives, actual failure time is unknown and therefore RUL values are not meaningful. For the purposes of this notebook, RUL is used only as a tool for processing/labelling data "
   ]
  },
  {
   "cell_type": "code",
   "execution_count": 11,
   "metadata": {},
   "outputs": [],
   "source": [
    "# convert from str to datetime\n",
    "df['date'] = df['date'].astype('datetime64')\n",
    "\n",
    "# =============================== FOR DASK =============================== #\n",
    "# create meta of the resulting failed_df otherwise dask complains\n",
    "rul_meta = df._meta\n",
    "rul_meta = rul_meta.assign(rul_days=rul_meta['date'].max()-rul_meta['date'])\n",
    "# ======================================================================== #\n",
    "\n",
    "# get remaining useful life as diff(today, maxday)\n",
    "# reset index coz result is multiindexed. drop=True coz serial_number already exists as a col\n",
    "df = df.groupby('serial_number').apply(utils.append_rul_days_column, meta=rul_meta).reset_index(drop=True)"
   ]
  },
  {
   "cell_type": "code",
   "execution_count": 16,
   "metadata": {},
   "outputs": [
    {
     "name": "stdout",
     "output_type": "stream",
     "text": [
      "[########################################] | 100% Completed | 33.0s\n"
     ]
    },
    {
     "data": {
      "text/html": [
       "<div>\n",
       "<style scoped>\n",
       "    .dataframe tbody tr th:only-of-type {\n",
       "        vertical-align: middle;\n",
       "    }\n",
       "\n",
       "    .dataframe tbody tr th {\n",
       "        vertical-align: top;\n",
       "    }\n",
       "\n",
       "    .dataframe thead th {\n",
       "        text-align: right;\n",
       "    }\n",
       "</style>\n",
       "<table border=\"1\" class=\"dataframe\">\n",
       "  <thead>\n",
       "    <tr style=\"text-align: right;\">\n",
       "      <th></th>\n",
       "      <th>date</th>\n",
       "      <th>serial_number</th>\n",
       "      <th>capacity_bytes</th>\n",
       "      <th>failure</th>\n",
       "      <th>smart_1_raw</th>\n",
       "      <th>smart_5_raw</th>\n",
       "      <th>smart_7_raw</th>\n",
       "      <th>smart_9_raw</th>\n",
       "      <th>smart_10_raw</th>\n",
       "      <th>smart_184_raw</th>\n",
       "      <th>...</th>\n",
       "      <th>smart_189_normalized</th>\n",
       "      <th>smart_190_normalized</th>\n",
       "      <th>smart_193_normalized</th>\n",
       "      <th>smart_194_normalized</th>\n",
       "      <th>smart_197_normalized</th>\n",
       "      <th>smart_198_normalized</th>\n",
       "      <th>smart_240_normalized</th>\n",
       "      <th>smart_241_normalized</th>\n",
       "      <th>smart_242_normalized</th>\n",
       "      <th>rul_days</th>\n",
       "    </tr>\n",
       "  </thead>\n",
       "  <tbody>\n",
       "    <tr>\n",
       "      <th>0</th>\n",
       "      <td>2018-08-09</td>\n",
       "      <td>S300YQX2</td>\n",
       "      <td>4.000787e+12</td>\n",
       "      <td>0.0</td>\n",
       "      <td>50260496.0</td>\n",
       "      <td>0.0</td>\n",
       "      <td>402681536.0</td>\n",
       "      <td>27395.0</td>\n",
       "      <td>0.0</td>\n",
       "      <td>0.0</td>\n",
       "      <td>...</td>\n",
       "      <td>100.0</td>\n",
       "      <td>82.0</td>\n",
       "      <td>84.0</td>\n",
       "      <td>18.0</td>\n",
       "      <td>100.0</td>\n",
       "      <td>100.0</td>\n",
       "      <td>100.0</td>\n",
       "      <td>100.0</td>\n",
       "      <td>100.0</td>\n",
       "      <td>144 days</td>\n",
       "    </tr>\n",
       "    <tr>\n",
       "      <th>1</th>\n",
       "      <td>2018-08-10</td>\n",
       "      <td>S300YQX2</td>\n",
       "      <td>4.000787e+12</td>\n",
       "      <td>0.0</td>\n",
       "      <td>42453640.0</td>\n",
       "      <td>0.0</td>\n",
       "      <td>403738272.0</td>\n",
       "      <td>27419.0</td>\n",
       "      <td>0.0</td>\n",
       "      <td>0.0</td>\n",
       "      <td>...</td>\n",
       "      <td>100.0</td>\n",
       "      <td>82.0</td>\n",
       "      <td>84.0</td>\n",
       "      <td>18.0</td>\n",
       "      <td>100.0</td>\n",
       "      <td>100.0</td>\n",
       "      <td>100.0</td>\n",
       "      <td>100.0</td>\n",
       "      <td>100.0</td>\n",
       "      <td>143 days</td>\n",
       "    </tr>\n",
       "    <tr>\n",
       "      <th>2</th>\n",
       "      <td>2018-08-11</td>\n",
       "      <td>S300YQX2</td>\n",
       "      <td>4.000787e+12</td>\n",
       "      <td>0.0</td>\n",
       "      <td>11831192.0</td>\n",
       "      <td>0.0</td>\n",
       "      <td>405540256.0</td>\n",
       "      <td>27443.0</td>\n",
       "      <td>0.0</td>\n",
       "      <td>0.0</td>\n",
       "      <td>...</td>\n",
       "      <td>100.0</td>\n",
       "      <td>82.0</td>\n",
       "      <td>84.0</td>\n",
       "      <td>18.0</td>\n",
       "      <td>100.0</td>\n",
       "      <td>100.0</td>\n",
       "      <td>100.0</td>\n",
       "      <td>100.0</td>\n",
       "      <td>100.0</td>\n",
       "      <td>142 days</td>\n",
       "    </tr>\n",
       "    <tr>\n",
       "      <th>3</th>\n",
       "      <td>2018-08-12</td>\n",
       "      <td>S300YQX2</td>\n",
       "      <td>4.000787e+12</td>\n",
       "      <td>0.0</td>\n",
       "      <td>47472400.0</td>\n",
       "      <td>0.0</td>\n",
       "      <td>406959968.0</td>\n",
       "      <td>27467.0</td>\n",
       "      <td>0.0</td>\n",
       "      <td>0.0</td>\n",
       "      <td>...</td>\n",
       "      <td>100.0</td>\n",
       "      <td>81.0</td>\n",
       "      <td>84.0</td>\n",
       "      <td>19.0</td>\n",
       "      <td>100.0</td>\n",
       "      <td>100.0</td>\n",
       "      <td>100.0</td>\n",
       "      <td>100.0</td>\n",
       "      <td>100.0</td>\n",
       "      <td>141 days</td>\n",
       "    </tr>\n",
       "    <tr>\n",
       "      <th>4</th>\n",
       "      <td>2018-08-13</td>\n",
       "      <td>S300YQX2</td>\n",
       "      <td>4.000787e+12</td>\n",
       "      <td>0.0</td>\n",
       "      <td>203304240.0</td>\n",
       "      <td>0.0</td>\n",
       "      <td>407559328.0</td>\n",
       "      <td>27491.0</td>\n",
       "      <td>0.0</td>\n",
       "      <td>0.0</td>\n",
       "      <td>...</td>\n",
       "      <td>100.0</td>\n",
       "      <td>81.0</td>\n",
       "      <td>84.0</td>\n",
       "      <td>19.0</td>\n",
       "      <td>100.0</td>\n",
       "      <td>100.0</td>\n",
       "      <td>100.0</td>\n",
       "      <td>100.0</td>\n",
       "      <td>100.0</td>\n",
       "      <td>140 days</td>\n",
       "    </tr>\n",
       "  </tbody>\n",
       "</table>\n",
       "<p>5 rows × 39 columns</p>\n",
       "</div>"
      ],
      "text/plain": [
       "        date serial_number  capacity_bytes  failure  smart_1_raw  smart_5_raw  \\\n",
       "0 2018-08-09      S300YQX2    4.000787e+12      0.0   50260496.0          0.0   \n",
       "1 2018-08-10      S300YQX2    4.000787e+12      0.0   42453640.0          0.0   \n",
       "2 2018-08-11      S300YQX2    4.000787e+12      0.0   11831192.0          0.0   \n",
       "3 2018-08-12      S300YQX2    4.000787e+12      0.0   47472400.0          0.0   \n",
       "4 2018-08-13      S300YQX2    4.000787e+12      0.0  203304240.0          0.0   \n",
       "\n",
       "   smart_7_raw  smart_9_raw  smart_10_raw  smart_184_raw  ...  \\\n",
       "0  402681536.0      27395.0           0.0            0.0  ...   \n",
       "1  403738272.0      27419.0           0.0            0.0  ...   \n",
       "2  405540256.0      27443.0           0.0            0.0  ...   \n",
       "3  406959968.0      27467.0           0.0            0.0  ...   \n",
       "4  407559328.0      27491.0           0.0            0.0  ...   \n",
       "\n",
       "   smart_189_normalized  smart_190_normalized  smart_193_normalized  \\\n",
       "0                 100.0                  82.0                  84.0   \n",
       "1                 100.0                  82.0                  84.0   \n",
       "2                 100.0                  82.0                  84.0   \n",
       "3                 100.0                  81.0                  84.0   \n",
       "4                 100.0                  81.0                  84.0   \n",
       "\n",
       "   smart_194_normalized  smart_197_normalized  smart_198_normalized  \\\n",
       "0                  18.0                 100.0                 100.0   \n",
       "1                  18.0                 100.0                 100.0   \n",
       "2                  18.0                 100.0                 100.0   \n",
       "3                  19.0                 100.0                 100.0   \n",
       "4                  19.0                 100.0                 100.0   \n",
       "\n",
       "   smart_240_normalized  smart_241_normalized  smart_242_normalized  rul_days  \n",
       "0                 100.0                 100.0                 100.0  144 days  \n",
       "1                 100.0                 100.0                 100.0  143 days  \n",
       "2                 100.0                 100.0                 100.0  142 days  \n",
       "3                 100.0                 100.0                 100.0  141 days  \n",
       "4                 100.0                 100.0                 100.0  140 days  \n",
       "\n",
       "[5 rows x 39 columns]"
      ]
     },
     "execution_count": 16,
     "metadata": {},
     "output_type": "execute_result"
    }
   ],
   "source": [
    "df.head()"
   ]
  },
  {
   "cell_type": "markdown",
   "metadata": {},
   "source": [
    "## Create Rolling Aggregates\n",
    "Instead of having raw values in rows, use rolling aggregates of those values. This is closer to the setup we will have during inference time. Also, this will provide more data points because there will be multiple data points for a single hard drive.\n",
    "\n",
    "It turns out that almost all the values being used as features are already simple rolling counts, and not instantaneous counts. The only instantaneous features are temperature related."
   ]
  },
  {
   "cell_type": "markdown",
   "metadata": {},
   "source": [
    "## Add Multiclass Labels\n",
    "All data points will be treated as unique data points. Labels will be added according to rul. The numerical representation of labels are as follows:\n",
    "1. 0 = good\n",
    "2. 1 = warning\n",
    "3. 2 = bad"
   ]
  },
  {
   "cell_type": "code",
   "execution_count": 12,
   "metadata": {},
   "outputs": [
    {
     "name": "stdout",
     "output_type": "stream",
     "text": [
      "[########################################] | 100% Completed | 42.1s\n",
      "((669476, 39),)\n"
     ]
    }
   ],
   "source": [
    "# remove working drive data that is recorded after [quarter end minus 6 weeks]\n",
    "# because we dont know (as of quarter end) if those drives survived more than 6 weeks or not\n",
    "df = df[(df['serial_number'].isin(failed_serials)) | (df['rul_days'] >= WARNING_THRESHOLD_NDAYS)]\n",
    "print(dd.compute(df.shape))"
   ]
  },
  {
   "cell_type": "code",
   "execution_count": 13,
   "metadata": {},
   "outputs": [],
   "source": [
    "# NOTE: assignment must be done in th\n",
    "# df.head()is order otherwise it wont be correct. FIXME\n",
    "# assign all as good initially\n",
    "df['status'] = 0\n",
    "\n",
    "# overwrite those which have rul less than 6 weeks as warning\n",
    "df['status'] = df['status'].mask(df['rul_days'] < WARNING_THRESHOLD_NDAYS, 1)\n",
    "\n",
    "# overwrite those which have rul less than 2 weeks as bad\n",
    "df['status'] = df['status'].mask(df['rul_days'] < BAD_THRESHOLD_NDAYS, 2)"
   ]
  },
  {
   "cell_type": "code",
   "execution_count": 14,
   "metadata": {},
   "outputs": [
    {
     "name": "stdout",
     "output_type": "stream",
     "text": [
      "[########################################] | 100% Completed | 29.4s\n"
     ]
    },
    {
     "data": {
      "text/html": [
       "<div>\n",
       "<style scoped>\n",
       "    .dataframe tbody tr th:only-of-type {\n",
       "        vertical-align: middle;\n",
       "    }\n",
       "\n",
       "    .dataframe tbody tr th {\n",
       "        vertical-align: top;\n",
       "    }\n",
       "\n",
       "    .dataframe thead th {\n",
       "        text-align: right;\n",
       "    }\n",
       "</style>\n",
       "<table border=\"1\" class=\"dataframe\">\n",
       "  <thead>\n",
       "    <tr style=\"text-align: right;\">\n",
       "      <th></th>\n",
       "      <th>date</th>\n",
       "      <th>serial_number</th>\n",
       "      <th>capacity_bytes</th>\n",
       "      <th>failure</th>\n",
       "      <th>smart_1_raw</th>\n",
       "      <th>smart_5_raw</th>\n",
       "      <th>smart_7_raw</th>\n",
       "      <th>smart_9_raw</th>\n",
       "      <th>smart_10_raw</th>\n",
       "      <th>smart_184_raw</th>\n",
       "      <th>...</th>\n",
       "      <th>smart_190_normalized</th>\n",
       "      <th>smart_193_normalized</th>\n",
       "      <th>smart_194_normalized</th>\n",
       "      <th>smart_197_normalized</th>\n",
       "      <th>smart_198_normalized</th>\n",
       "      <th>smart_240_normalized</th>\n",
       "      <th>smart_241_normalized</th>\n",
       "      <th>smart_242_normalized</th>\n",
       "      <th>rul_days</th>\n",
       "      <th>status</th>\n",
       "    </tr>\n",
       "  </thead>\n",
       "  <tbody>\n",
       "    <tr>\n",
       "      <th>0</th>\n",
       "      <td>2018-08-09</td>\n",
       "      <td>S300X3ZR</td>\n",
       "      <td>4.000787e+12</td>\n",
       "      <td>0.0</td>\n",
       "      <td>96868704.0</td>\n",
       "      <td>0.0</td>\n",
       "      <td>127312976.0</td>\n",
       "      <td>31228.0</td>\n",
       "      <td>0.0</td>\n",
       "      <td>0.0</td>\n",
       "      <td>...</td>\n",
       "      <td>78.0</td>\n",
       "      <td>74.0</td>\n",
       "      <td>22.0</td>\n",
       "      <td>100.0</td>\n",
       "      <td>100.0</td>\n",
       "      <td>100.0</td>\n",
       "      <td>100.0</td>\n",
       "      <td>100.0</td>\n",
       "      <td>144 days</td>\n",
       "      <td>0</td>\n",
       "    </tr>\n",
       "    <tr>\n",
       "      <th>1</th>\n",
       "      <td>2018-08-10</td>\n",
       "      <td>S300X3ZR</td>\n",
       "      <td>4.000787e+12</td>\n",
       "      <td>0.0</td>\n",
       "      <td>116871608.0</td>\n",
       "      <td>0.0</td>\n",
       "      <td>127848144.0</td>\n",
       "      <td>31252.0</td>\n",
       "      <td>0.0</td>\n",
       "      <td>0.0</td>\n",
       "      <td>...</td>\n",
       "      <td>78.0</td>\n",
       "      <td>74.0</td>\n",
       "      <td>22.0</td>\n",
       "      <td>100.0</td>\n",
       "      <td>100.0</td>\n",
       "      <td>100.0</td>\n",
       "      <td>100.0</td>\n",
       "      <td>100.0</td>\n",
       "      <td>143 days</td>\n",
       "      <td>0</td>\n",
       "    </tr>\n",
       "    <tr>\n",
       "      <th>2</th>\n",
       "      <td>2018-08-11</td>\n",
       "      <td>S300X3ZR</td>\n",
       "      <td>4.000787e+12</td>\n",
       "      <td>0.0</td>\n",
       "      <td>205206688.0</td>\n",
       "      <td>0.0</td>\n",
       "      <td>128310592.0</td>\n",
       "      <td>31276.0</td>\n",
       "      <td>0.0</td>\n",
       "      <td>0.0</td>\n",
       "      <td>...</td>\n",
       "      <td>78.0</td>\n",
       "      <td>74.0</td>\n",
       "      <td>22.0</td>\n",
       "      <td>100.0</td>\n",
       "      <td>100.0</td>\n",
       "      <td>100.0</td>\n",
       "      <td>100.0</td>\n",
       "      <td>100.0</td>\n",
       "      <td>142 days</td>\n",
       "      <td>0</td>\n",
       "    </tr>\n",
       "    <tr>\n",
       "      <th>3</th>\n",
       "      <td>2018-08-12</td>\n",
       "      <td>S300X3ZR</td>\n",
       "      <td>4.000787e+12</td>\n",
       "      <td>0.0</td>\n",
       "      <td>42628720.0</td>\n",
       "      <td>0.0</td>\n",
       "      <td>128774160.0</td>\n",
       "      <td>31300.0</td>\n",
       "      <td>0.0</td>\n",
       "      <td>0.0</td>\n",
       "      <td>...</td>\n",
       "      <td>77.0</td>\n",
       "      <td>74.0</td>\n",
       "      <td>23.0</td>\n",
       "      <td>100.0</td>\n",
       "      <td>100.0</td>\n",
       "      <td>100.0</td>\n",
       "      <td>100.0</td>\n",
       "      <td>100.0</td>\n",
       "      <td>141 days</td>\n",
       "      <td>0</td>\n",
       "    </tr>\n",
       "    <tr>\n",
       "      <th>4</th>\n",
       "      <td>2018-08-13</td>\n",
       "      <td>S300X3ZR</td>\n",
       "      <td>4.000787e+12</td>\n",
       "      <td>0.0</td>\n",
       "      <td>140203584.0</td>\n",
       "      <td>0.0</td>\n",
       "      <td>129248848.0</td>\n",
       "      <td>31324.0</td>\n",
       "      <td>0.0</td>\n",
       "      <td>0.0</td>\n",
       "      <td>...</td>\n",
       "      <td>78.0</td>\n",
       "      <td>74.0</td>\n",
       "      <td>22.0</td>\n",
       "      <td>100.0</td>\n",
       "      <td>100.0</td>\n",
       "      <td>100.0</td>\n",
       "      <td>100.0</td>\n",
       "      <td>100.0</td>\n",
       "      <td>140 days</td>\n",
       "      <td>0</td>\n",
       "    </tr>\n",
       "  </tbody>\n",
       "</table>\n",
       "<p>5 rows × 40 columns</p>\n",
       "</div>"
      ],
      "text/plain": [
       "        date serial_number  capacity_bytes  failure  smart_1_raw  smart_5_raw  \\\n",
       "0 2018-08-09      S300X3ZR    4.000787e+12      0.0   96868704.0          0.0   \n",
       "1 2018-08-10      S300X3ZR    4.000787e+12      0.0  116871608.0          0.0   \n",
       "2 2018-08-11      S300X3ZR    4.000787e+12      0.0  205206688.0          0.0   \n",
       "3 2018-08-12      S300X3ZR    4.000787e+12      0.0   42628720.0          0.0   \n",
       "4 2018-08-13      S300X3ZR    4.000787e+12      0.0  140203584.0          0.0   \n",
       "\n",
       "   smart_7_raw  smart_9_raw  smart_10_raw  smart_184_raw  ...  \\\n",
       "0  127312976.0      31228.0           0.0            0.0  ...   \n",
       "1  127848144.0      31252.0           0.0            0.0  ...   \n",
       "2  128310592.0      31276.0           0.0            0.0  ...   \n",
       "3  128774160.0      31300.0           0.0            0.0  ...   \n",
       "4  129248848.0      31324.0           0.0            0.0  ...   \n",
       "\n",
       "   smart_190_normalized  smart_193_normalized  smart_194_normalized  \\\n",
       "0                  78.0                  74.0                  22.0   \n",
       "1                  78.0                  74.0                  22.0   \n",
       "2                  78.0                  74.0                  22.0   \n",
       "3                  77.0                  74.0                  23.0   \n",
       "4                  78.0                  74.0                  22.0   \n",
       "\n",
       "   smart_197_normalized  smart_198_normalized  smart_240_normalized  \\\n",
       "0                 100.0                 100.0                 100.0   \n",
       "1                 100.0                 100.0                 100.0   \n",
       "2                 100.0                 100.0                 100.0   \n",
       "3                 100.0                 100.0                 100.0   \n",
       "4                 100.0                 100.0                 100.0   \n",
       "\n",
       "   smart_241_normalized  smart_242_normalized  rul_days  status  \n",
       "0                 100.0                 100.0  144 days       0  \n",
       "1                 100.0                 100.0  143 days       0  \n",
       "2                 100.0                 100.0  142 days       0  \n",
       "3                 100.0                 100.0  141 days       0  \n",
       "4                 100.0                 100.0  140 days       0  \n",
       "\n",
       "[5 rows x 40 columns]"
      ]
     },
     "execution_count": 14,
     "metadata": {},
     "output_type": "execute_result"
    }
   ],
   "source": [
    "df.head()"
   ]
  },
  {
   "cell_type": "markdown",
   "metadata": {},
   "source": [
    "## Add diffs\n",
    "\n",
    "**NOTE** The following 3-4 cells show how the differentials from the previous 6 days, along with the rate of change, can be added as features to the dataframe. Initial experiments showed that this does not add much value for inference, and instead we will be generating some other features. But I will leave this here (but NOT run it) for experimentation purposes."
   ]
  },
  {
   "cell_type": "code",
   "execution_count": 67,
   "metadata": {},
   "outputs": [],
   "source": [
    "# columns for which diffs must be calculated\n",
    "diff_cols = [col for col in df.columns if col.lower().startswith('smart')]"
   ]
  },
  {
   "cell_type": "code",
   "execution_count": 93,
   "metadata": {},
   "outputs": [],
   "source": [
    "def add_deltas(group):\n",
    "    # FIXME: workaround for passing diff_cols as parameter\n",
    "    global diff_cols\n",
    "    for colname in diff_cols:\n",
    "        # add rate of change\n",
    "        roc_colname = \"d_\" + colname\n",
    "        group[roc_colname] = (group[colname] - group[colname].shift(1)).fillna(method='bfill')\n",
    "        # add rate of rate of change\n",
    "        roroc_colname = \"d2_\" + colname\n",
    "        group[roroc_colname] = (group[roc_colname] - group[roc_colname].shift(1)).fillna(method='bfill')\n",
    "    return group"
   ]
  },
  {
   "cell_type": "code",
   "execution_count": 95,
   "metadata": {},
   "outputs": [
    {
     "name": "stderr",
     "output_type": "stream",
     "text": [
      "/home/kachauha/.local/share/virtualenvs/ceph_drive_failure-3-2yJKyM/lib/python3.7/site-packages/ipykernel_launcher.py:9: UserWarning: `meta` is not specified, inferred from partial data. Please provide `meta` if the result is unexpected.\n",
      "  Before: .apply(func)\n",
      "  After:  .apply(func, meta={'x': 'f8', 'y': 'f8'}) for dataframe result\n",
      "  or:     .apply(func, meta=('x', 'f8'))            for series result\n",
      "  if __name__ == '__main__':\n"
     ]
    }
   ],
   "source": [
    "# # =============================== FOR DASK =============================== #\n",
    "# # create meta of the resulting failed_df otherwise dask complains\n",
    "# rul_meta = df._meta\n",
    "# rul_meta = rul_meta.assign(rul_days=rul_meta['date'].max()-rul_meta['date'])\n",
    "# # ======================================================================== #\n",
    "\n",
    "# get remaining useful life as diff(today, maxday)\n",
    "# reset index coz result is multiindexed. drop=True coz serial_number already exists as a col\n",
    "df = df.groupby('serial_number').apply(add_deltas).reset_index(drop=True)"
   ]
  },
  {
   "cell_type": "markdown",
   "metadata": {},
   "source": [
    "**FIXME** For now, just drop the cols that are nans (v v small fraction). in the future, would need an intelligent way of doing this"
   ]
  },
  {
   "cell_type": "code",
   "execution_count": 150,
   "metadata": {},
   "outputs": [
    {
     "name": "stdout",
     "output_type": "stream",
     "text": [
      "[########################################] | 100% Completed |  2min  2.6s\n"
     ]
    },
    {
     "data": {
      "text/plain": [
       "date                       False\n",
       "serial_number              False\n",
       "capacity_bytes             False\n",
       "failure                    False\n",
       "smart_1_raw                False\n",
       "                           ...  \n",
       "d2_smart_240_normalized    False\n",
       "d_smart_241_normalized     False\n",
       "d2_smart_241_normalized    False\n",
       "d_smart_242_normalized     False\n",
       "d2_smart_242_normalized    False\n",
       "Length: 108, dtype: bool"
      ]
     },
     "execution_count": 150,
     "metadata": {},
     "output_type": "execute_result"
    }
   ],
   "source": [
    "# dcols = [col for col in df.columns if ((col.lower().startswith('d_')) or (col.lower().startswith('d2_')))]\n",
    "# X_train.drop(dcols, axis=1).isna().any().any()    # False. this means nans arise from diffs\n",
    "df = df.fillna(0)\n",
    "df.isna().any().compute()"
   ]
  },
  {
   "cell_type": "code",
   "execution_count": 151,
   "metadata": {},
   "outputs": [
    {
     "name": "stdout",
     "output_type": "stream",
     "text": [
      "[########################################] | 100% Completed |  2min  3.9s\n"
     ]
    },
    {
     "data": {
      "text/plain": [
       "((110281, 108),)"
      ]
     },
     "execution_count": 151,
     "metadata": {},
     "output_type": "execute_result"
    }
   ],
   "source": [
    "dd.compute(df.shape)"
   ]
  },
  {
   "cell_type": "markdown",
   "metadata": {},
   "source": [
    "## Add Features: 6 days rolling mean, std, coefficient of variation"
   ]
  },
  {
   "cell_type": "markdown",
   "metadata": {},
   "source": [
    "The following function is an experimental version of the `featurize_df` function. It **REQUIRES** indices to be unique (and thus wont work with dask)."
   ]
  },
  {
   "cell_type": "code",
   "execution_count": 15,
   "metadata": {},
   "outputs": [],
   "source": [
    "def pandas_rolling_feats(df, window=6, drop_cols=('date', 'failure', 'capacity_bytes', 'rul'), group_cols=('serial_number'), cap=True):\n",
    "    # save the status labels\n",
    "    statuses = df['status']\n",
    "\n",
    "    # group by serials, drop cols which are not to be aggregated\n",
    "    if drop_cols is not None:\n",
    "        grouped_df = df.drop(drop_cols, axis=1).groupby(group_cols)\n",
    "    else:\n",
    "        grouped_df = df.groupby(group_cols)\n",
    "        \n",
    "    # feature columns\n",
    "    featcols = grouped_df.first().columns\n",
    "    \n",
    "    # get mean value in last 6 days\n",
    "    means = grouped_df.rolling(window)[featcols].mean()\n",
    "    \n",
    "    # get std in last 6 days\n",
    "    stds = grouped_df.rolling(window)[featcols].std()\n",
    "    \n",
    "    # coefficient of variation\n",
    "    cvs = stds.divide(means, fill_value=0)\n",
    "\n",
    "    # rename before mergeing\n",
    "    means = means.rename(columns={col: 'mean_' + col for col in means.columns})\n",
    "    stds = stds.rename(columns={col: 'std_' + col for col in stds.columns})\n",
    "    cvs = cvs.rename(columns={col: 'cv_' + col for col in cvs.columns})\n",
    "    \n",
    "    # combine features into one df\n",
    "    res = means.merge(stds, left_index=True, right_index=True)\n",
    "    res = res.merge(cvs, left_index=True, right_index=True)\n",
    "    \n",
    "    # drop rows where all columns are nans\n",
    "    res = res.dropna(how='all')\n",
    "    \n",
    "    # fill nans created by cv calculation\n",
    "    res = res.fillna(0)\n",
    "    \n",
    "    # capacity of hard drive\n",
    "    if cap:\n",
    "        capacities = df[['serial_number', 'capacity_bytes']].groupby('serial_number').max()\n",
    "        res = res.merge(capacities, left_index=True, right_index=True)\n",
    "        \n",
    "    # bring serial number back as a col instead of index, preserve the corresponding indices\n",
    "    res = res.reset_index(level=[0])\n",
    "    \n",
    "    # add status labels back.\n",
    "    res = res.merge(statuses, left_index=True, right_index=True)\n",
    "    \n",
    "    return res"
   ]
  },
  {
   "cell_type": "code",
   "execution_count": 16,
   "metadata": {},
   "outputs": [
    {
     "name": "stdout",
     "output_type": "stream",
     "text": [
      "[########################################] | 100% Completed | 41.8s\n"
     ]
    }
   ],
   "source": [
    "# must convert dask to pandas\n",
    "df = df.compute()\n",
    "\n",
    "# MUST make sure indices are unique before processing\n",
    "df = df.reset_index(drop=True)\n",
    "feats_df = pandas_rolling_feats(df,\n",
    "                                window=6,\n",
    "                                drop_cols=['date', 'capacity_bytes', 'failure', 'rul_days', 'status'],\n",
    "                                group_cols=['serial_number'])"
   ]
  },
  {
   "cell_type": "code",
   "execution_count": 17,
   "metadata": {},
   "outputs": [
    {
     "data": {
      "text/html": [
       "<div>\n",
       "<style scoped>\n",
       "    .dataframe tbody tr th:only-of-type {\n",
       "        vertical-align: middle;\n",
       "    }\n",
       "\n",
       "    .dataframe tbody tr th {\n",
       "        vertical-align: top;\n",
       "    }\n",
       "\n",
       "    .dataframe thead th {\n",
       "        text-align: right;\n",
       "    }\n",
       "</style>\n",
       "<table border=\"1\" class=\"dataframe\">\n",
       "  <thead>\n",
       "    <tr style=\"text-align: right;\">\n",
       "      <th></th>\n",
       "      <th>serial_number</th>\n",
       "      <th>mean_smart_1_raw</th>\n",
       "      <th>mean_smart_5_raw</th>\n",
       "      <th>mean_smart_7_raw</th>\n",
       "      <th>mean_smart_9_raw</th>\n",
       "      <th>mean_smart_10_raw</th>\n",
       "      <th>mean_smart_184_raw</th>\n",
       "      <th>mean_smart_187_raw</th>\n",
       "      <th>mean_smart_188_raw</th>\n",
       "      <th>mean_smart_189_raw</th>\n",
       "      <th>...</th>\n",
       "      <th>cv_smart_190_normalized</th>\n",
       "      <th>cv_smart_193_normalized</th>\n",
       "      <th>cv_smart_194_normalized</th>\n",
       "      <th>cv_smart_197_normalized</th>\n",
       "      <th>cv_smart_198_normalized</th>\n",
       "      <th>cv_smart_240_normalized</th>\n",
       "      <th>cv_smart_241_normalized</th>\n",
       "      <th>cv_smart_242_normalized</th>\n",
       "      <th>capacity_bytes</th>\n",
       "      <th>status</th>\n",
       "    </tr>\n",
       "  </thead>\n",
       "  <tbody>\n",
       "    <tr>\n",
       "      <th>401298</th>\n",
       "      <td>S2ZYJ9AF511164</td>\n",
       "      <td>308.0</td>\n",
       "      <td>0.0</td>\n",
       "      <td>0.0</td>\n",
       "      <td>27845.0</td>\n",
       "      <td>0.0</td>\n",
       "      <td>-100.0</td>\n",
       "      <td>0.078777</td>\n",
       "      <td>70935512.0</td>\n",
       "      <td>-100.0</td>\n",
       "      <td>...</td>\n",
       "      <td>0.0</td>\n",
       "      <td>0.0</td>\n",
       "      <td>0.0</td>\n",
       "      <td>0.0</td>\n",
       "      <td>0.0</td>\n",
       "      <td>-0.0</td>\n",
       "      <td>-0.0</td>\n",
       "      <td>-0.0</td>\n",
       "      <td>5.001079e+11</td>\n",
       "      <td>1</td>\n",
       "    </tr>\n",
       "    <tr>\n",
       "      <th>401299</th>\n",
       "      <td>S2ZYJ9AF511164</td>\n",
       "      <td>308.0</td>\n",
       "      <td>0.0</td>\n",
       "      <td>0.0</td>\n",
       "      <td>27845.0</td>\n",
       "      <td>0.0</td>\n",
       "      <td>-100.0</td>\n",
       "      <td>0.078777</td>\n",
       "      <td>70935512.0</td>\n",
       "      <td>-100.0</td>\n",
       "      <td>...</td>\n",
       "      <td>0.0</td>\n",
       "      <td>0.0</td>\n",
       "      <td>0.0</td>\n",
       "      <td>0.0</td>\n",
       "      <td>0.0</td>\n",
       "      <td>-0.0</td>\n",
       "      <td>-0.0</td>\n",
       "      <td>-0.0</td>\n",
       "      <td>5.001079e+11</td>\n",
       "      <td>1</td>\n",
       "    </tr>\n",
       "    <tr>\n",
       "      <th>401300</th>\n",
       "      <td>S2ZYJ9AF511164</td>\n",
       "      <td>308.0</td>\n",
       "      <td>0.0</td>\n",
       "      <td>0.0</td>\n",
       "      <td>27845.0</td>\n",
       "      <td>0.0</td>\n",
       "      <td>-100.0</td>\n",
       "      <td>0.078777</td>\n",
       "      <td>70935512.0</td>\n",
       "      <td>-100.0</td>\n",
       "      <td>...</td>\n",
       "      <td>0.0</td>\n",
       "      <td>0.0</td>\n",
       "      <td>0.0</td>\n",
       "      <td>0.0</td>\n",
       "      <td>0.0</td>\n",
       "      <td>-0.0</td>\n",
       "      <td>-0.0</td>\n",
       "      <td>-0.0</td>\n",
       "      <td>5.001079e+11</td>\n",
       "      <td>1</td>\n",
       "    </tr>\n",
       "    <tr>\n",
       "      <th>401301</th>\n",
       "      <td>S2ZYJ9AF511164</td>\n",
       "      <td>308.0</td>\n",
       "      <td>0.0</td>\n",
       "      <td>0.0</td>\n",
       "      <td>27845.0</td>\n",
       "      <td>0.0</td>\n",
       "      <td>-100.0</td>\n",
       "      <td>0.078777</td>\n",
       "      <td>70935512.0</td>\n",
       "      <td>-100.0</td>\n",
       "      <td>...</td>\n",
       "      <td>0.0</td>\n",
       "      <td>0.0</td>\n",
       "      <td>0.0</td>\n",
       "      <td>0.0</td>\n",
       "      <td>0.0</td>\n",
       "      <td>-0.0</td>\n",
       "      <td>-0.0</td>\n",
       "      <td>-0.0</td>\n",
       "      <td>5.001079e+11</td>\n",
       "      <td>1</td>\n",
       "    </tr>\n",
       "    <tr>\n",
       "      <th>401302</th>\n",
       "      <td>S2ZYJ9AF511164</td>\n",
       "      <td>308.0</td>\n",
       "      <td>0.0</td>\n",
       "      <td>0.0</td>\n",
       "      <td>27845.0</td>\n",
       "      <td>0.0</td>\n",
       "      <td>-100.0</td>\n",
       "      <td>0.078777</td>\n",
       "      <td>70935512.0</td>\n",
       "      <td>-100.0</td>\n",
       "      <td>...</td>\n",
       "      <td>0.0</td>\n",
       "      <td>0.0</td>\n",
       "      <td>0.0</td>\n",
       "      <td>0.0</td>\n",
       "      <td>0.0</td>\n",
       "      <td>-0.0</td>\n",
       "      <td>-0.0</td>\n",
       "      <td>-0.0</td>\n",
       "      <td>5.001079e+11</td>\n",
       "      <td>0</td>\n",
       "    </tr>\n",
       "  </tbody>\n",
       "</table>\n",
       "<p>5 rows × 105 columns</p>\n",
       "</div>"
      ],
      "text/plain": [
       "         serial_number  mean_smart_1_raw  mean_smart_5_raw  mean_smart_7_raw  \\\n",
       "401298  S2ZYJ9AF511164             308.0               0.0               0.0   \n",
       "401299  S2ZYJ9AF511164             308.0               0.0               0.0   \n",
       "401300  S2ZYJ9AF511164             308.0               0.0               0.0   \n",
       "401301  S2ZYJ9AF511164             308.0               0.0               0.0   \n",
       "401302  S2ZYJ9AF511164             308.0               0.0               0.0   \n",
       "\n",
       "        mean_smart_9_raw  mean_smart_10_raw  mean_smart_184_raw  \\\n",
       "401298           27845.0                0.0              -100.0   \n",
       "401299           27845.0                0.0              -100.0   \n",
       "401300           27845.0                0.0              -100.0   \n",
       "401301           27845.0                0.0              -100.0   \n",
       "401302           27845.0                0.0              -100.0   \n",
       "\n",
       "        mean_smart_187_raw  mean_smart_188_raw  mean_smart_189_raw  ...  \\\n",
       "401298            0.078777          70935512.0              -100.0  ...   \n",
       "401299            0.078777          70935512.0              -100.0  ...   \n",
       "401300            0.078777          70935512.0              -100.0  ...   \n",
       "401301            0.078777          70935512.0              -100.0  ...   \n",
       "401302            0.078777          70935512.0              -100.0  ...   \n",
       "\n",
       "        cv_smart_190_normalized  cv_smart_193_normalized  \\\n",
       "401298                      0.0                      0.0   \n",
       "401299                      0.0                      0.0   \n",
       "401300                      0.0                      0.0   \n",
       "401301                      0.0                      0.0   \n",
       "401302                      0.0                      0.0   \n",
       "\n",
       "        cv_smart_194_normalized  cv_smart_197_normalized  \\\n",
       "401298                      0.0                      0.0   \n",
       "401299                      0.0                      0.0   \n",
       "401300                      0.0                      0.0   \n",
       "401301                      0.0                      0.0   \n",
       "401302                      0.0                      0.0   \n",
       "\n",
       "        cv_smart_198_normalized  cv_smart_240_normalized  \\\n",
       "401298                      0.0                     -0.0   \n",
       "401299                      0.0                     -0.0   \n",
       "401300                      0.0                     -0.0   \n",
       "401301                      0.0                     -0.0   \n",
       "401302                      0.0                     -0.0   \n",
       "\n",
       "        cv_smart_241_normalized  cv_smart_242_normalized  capacity_bytes  \\\n",
       "401298                     -0.0                     -0.0    5.001079e+11   \n",
       "401299                     -0.0                     -0.0    5.001079e+11   \n",
       "401300                     -0.0                     -0.0    5.001079e+11   \n",
       "401301                     -0.0                     -0.0    5.001079e+11   \n",
       "401302                     -0.0                     -0.0    5.001079e+11   \n",
       "\n",
       "        status  \n",
       "401298       1  \n",
       "401299       1  \n",
       "401300       1  \n",
       "401301       1  \n",
       "401302       0  \n",
       "\n",
       "[5 rows x 105 columns]"
      ]
     },
     "execution_count": 17,
     "metadata": {},
     "output_type": "execute_result"
    }
   ],
   "source": [
    "# infinities get added to df - remove these\n",
    "feats_df = feats_df.replace([np.inf, -np.inf], np.nan).dropna()\n",
    "feats_df.head()"
   ]
  },
  {
   "cell_type": "markdown",
   "metadata": {},
   "source": [
    "## Drive-wise Split Data"
   ]
  },
  {
   "cell_type": "code",
   "execution_count": 18,
   "metadata": {},
   "outputs": [],
   "source": [
    "from sklearn.utils.class_weight import compute_class_weight\n",
    "from sklearn.model_selection import train_test_split\n",
    "\n",
    "from dask_ml.preprocessing import RobustScaler as ddRobustScaler\n",
    "from dask_ml.preprocessing import StandardScaler as ddStandardScaler\n",
    "from dask_ml.model_selection import train_test_split as ddtrain_test_split"
   ]
  },
  {
   "cell_type": "code",
   "execution_count": 19,
   "metadata": {},
   "outputs": [],
   "source": [
    "# ['date', 'serial_number', 'model', 'failure', 'rul_days', 'status']\n",
    "# ['serial_number', 'status']\n",
    "X_arr = feats_df.drop(['serial_number', 'status'], axis=1)\n",
    "Y_arr = feats_df[['serial_number', 'status']]"
   ]
  },
  {
   "cell_type": "code",
   "execution_count": 20,
   "metadata": {},
   "outputs": [],
   "source": [
    "# failed serials left after reduction\n",
    "failed_sers_red = pd.Series(Y_arr['serial_number'].unique())\n",
    "failed_sers_red = failed_sers_red[failed_sers_red.isin(failed_serials)]\n",
    "\n",
    "# working serials left after reduction\n",
    "working_sers_red = pd.Series(Y_arr['serial_number'].unique())\n",
    "working_sers_red = working_sers_red[~working_sers_red.isin(failed_serials)]\n",
    "\n",
    "# split working and failed\n",
    "working_train, working_test = train_test_split(working_sers_red, test_size=0.2, random_state=42)\n",
    "failed_train, failed_test = train_test_split(failed_sers_red, test_size=0.2, random_state=42)"
   ]
  },
  {
   "cell_type": "code",
   "execution_count": 21,
   "metadata": {},
   "outputs": [],
   "source": [
    "# use serial numbers to generate train/test set\n",
    "# CHECKED OK - train/test ratio 0.8, fail/work and overall both\n",
    "X_train_work = X_arr[Y_arr['serial_number'].isin(working_train)]\n",
    "X_train_fail = X_arr[Y_arr['serial_number'].isin(failed_train)]\n",
    "X_train = pd.concat([X_train_work, X_train_fail])\n",
    "\n",
    "Y_train_work = Y_arr[Y_arr['serial_number'].isin(working_train)]['status']\n",
    "Y_train_fail = Y_arr[Y_arr['serial_number'].isin(failed_train)]['status']\n",
    "Y_train = pd.concat([Y_train_work, Y_train_fail])\n",
    "\n",
    "X_test_work = X_arr[Y_arr['serial_number'].isin(working_test)]\n",
    "X_test_fail = X_arr[Y_arr['serial_number'].isin(failed_test)]\n",
    "X_test = pd.concat([X_test_work, X_test_fail])\n",
    "\n",
    "Y_test_work = Y_arr[Y_arr['serial_number'].isin(working_test)]['status']\n",
    "Y_test_fail = Y_arr[Y_arr['serial_number'].isin(failed_test)]['status']\n",
    "Y_test = pd.concat([Y_test_work, Y_test_fail])"
   ]
  },
  {
   "cell_type": "code",
   "execution_count": 22,
   "metadata": {},
   "outputs": [
    {
     "name": "stdout",
     "output_type": "stream",
     "text": [
      "(42373, 103)\n",
      "(10108, 103)\n",
      "(472593, 103)\n",
      "(117458, 103)\n"
     ]
    }
   ],
   "source": [
    "# verufy proportions\n",
    "print(X_train_fail.shape)\n",
    "print(X_test_fail.shape)\n",
    "print(X_train_work.shape)\n",
    "print(X_test_work.shape)"
   ]
  },
  {
   "cell_type": "markdown",
   "metadata": {},
   "source": [
    "## Scale"
   ]
  },
  {
   "cell_type": "code",
   "execution_count": 23,
   "metadata": {},
   "outputs": [],
   "source": [
    "from sklearn.preprocessing import StandardScaler, RobustScaler\n",
    "from sklearn.model_selection import train_test_split"
   ]
  },
  {
   "cell_type": "code",
   "execution_count": 24,
   "metadata": {},
   "outputs": [],
   "source": [
    "# robust scaling to not be outlier sensitive\n",
    "scaler = RobustScaler()\n",
    "X_train = scaler.fit_transform(X_train)"
   ]
  },
  {
   "cell_type": "code",
   "execution_count": 25,
   "metadata": {},
   "outputs": [
    {
     "data": {
      "text/plain": [
       "['../models/seagate_preprocessor_Sep_03_2019_13_14_49.joblib']"
      ]
     },
     "execution_count": 25,
     "metadata": {},
     "output_type": "execute_result"
    }
   ],
   "source": [
    "# FIXME: this would not work for dask objects (delayed objects) - MUST use cloudpickle for that\n",
    "fname = '../models/{}_preprocessor_{}.joblib'.format(MANUFACTURER, datetime.datetime.now().strftime(\"%b_%d_%Y_%H_%M_%S\"))\n",
    "joblib.dump(scaler, fname)"
   ]
  },
  {
   "cell_type": "markdown",
   "metadata": {
    "toc-hr-collapsed": false
   },
   "source": [
    "## Establish Baseline"
   ]
  },
  {
   "cell_type": "markdown",
   "metadata": {},
   "source": [
    "What would a baseline multiclass classifier look like? This can be found using a naive approach where drives are classified purely based on predefined/inferred thresholds.\n",
    "\n",
    "Thresholds can be set in a variety of ways. A simple and naive way would be to involve all the covariates to determine the threshold boundary using their mean, or std, or max, or min values. Then, based some distance metric, drive can be classified."
   ]
  },
  {
   "cell_type": "code",
   "execution_count": 40,
   "metadata": {},
   "outputs": [
    {
     "data": {
      "text/plain": [
       "array([[26593, 55425, 40595],\n",
       "       [  625,  1091,  1041],\n",
       "       [  285,   635,   669]])"
      ]
     },
     "execution_count": 40,
     "metadata": {},
     "output_type": "execute_result"
    },
    {
     "data": {
      "text/plain": [
       "array([[0.21688565, 0.452032  , 0.33108235],\n",
       "       [0.22669568, 0.39571999, 0.37758433],\n",
       "       [0.17935809, 0.3996224 , 0.42101951]])"
      ]
     },
     "execution_count": 40,
     "metadata": {},
     "output_type": "execute_result"
    }
   ],
   "source": [
    "# use mean values as threshold\n",
    "class0_mean = X_train[(Y_train==0).values, :].mean(axis=0, keepdims=True)\n",
    "class1_mean = X_train[(Y_train==1).values, :].mean(axis=0, keepdims=True)\n",
    "class2_mean = X_train[(Y_train==2).values, :].mean(axis=0, keepdims=True)\n",
    "class_means = np.vstack((class0_mean, class1_mean, class2_mean))\n",
    "\n",
    "# predict based on a distance metric from mean values\n",
    "# NOTE: canberra, cosine generally work better than l2,l1,etc\n",
    "preds = pairwise_distances_argmin(scaler.transform(X_test), class_means, metric='canberra')\n",
    "\n",
    "# how does the baseline look\n",
    "cm = confusion_matrix(Y_test, preds)\n",
    "cm\n",
    "cm / cm.sum(axis=1, keepdims=True)"
   ]
  },
  {
   "cell_type": "code",
   "execution_count": 41,
   "metadata": {},
   "outputs": [
    {
     "data": {
      "text/plain": [
       "array([[  2185,  16991, 103437],\n",
       "       [    51,    335,   2371],\n",
       "       [    14,    187,   1388]])"
      ]
     },
     "execution_count": 41,
     "metadata": {},
     "output_type": "execute_result"
    },
    {
     "data": {
      "text/plain": [
       "array([[0.0178203 , 0.13857421, 0.84360549],\n",
       "       [0.01849837, 0.12150889, 0.85999275],\n",
       "       [0.00881057, 0.11768408, 0.87350535]])"
      ]
     },
     "execution_count": 41,
     "metadata": {},
     "output_type": "execute_result"
    }
   ],
   "source": [
    "# use median values as threshold\n",
    "class0_median = np.median(X_train[(Y_train==0).values, :], axis=0, keepdims=True)\n",
    "class1_median = np.median(X_train[(Y_train==1).values, :], axis=0, keepdims=True)\n",
    "class2_median = np.median(X_train[(Y_train==2).values, :], axis=0, keepdims=True)\n",
    "class_medians = np.vstack((class0_median, class1_median, class2_median))\n",
    "\n",
    "# predict based on a distance metric from median values\n",
    "# NOTE: canberra, cosine generally work better than l2,l1,etc\n",
    "preds = pairwise_distances_argmin(scaler.transform(X_test), class_medians, metric='canberra')\n",
    "\n",
    "# how does the baseline look\n",
    "cm = confusion_matrix(Y_test, preds)\n",
    "cm\n",
    "cm / cm.sum(axis=1, keepdims=True)"
   ]
  },
  {
   "cell_type": "code",
   "execution_count": 42,
   "metadata": {},
   "outputs": [
    {
     "data": {
      "text/plain": [
       "array([[40628, 25678, 56307],\n",
       "       [  732,   842,  1183],\n",
       "       [  504,   551,   534]])"
      ]
     },
     "execution_count": 42,
     "metadata": {},
     "output_type": "execute_result"
    },
    {
     "data": {
      "text/plain": [
       "array([[0.33135149, 0.20942314, 0.45922537],\n",
       "       [0.26550598, 0.30540443, 0.42908959],\n",
       "       [0.31718062, 0.34675897, 0.33606042]])"
      ]
     },
     "execution_count": 42,
     "metadata": {},
     "output_type": "execute_result"
    }
   ],
   "source": [
    "# use min values as threshold\n",
    "class0_min = X_train[(Y_train==0).values, :].min(axis=0, keepdims=True)\n",
    "class1_min = X_train[(Y_train==1).values, :].min(axis=0, keepdims=True)\n",
    "class2_min = X_train[(Y_train==2).values, :].min(axis=0, keepdims=True)\n",
    "class_mins = np.vstack((class0_min, class1_min, class2_min))\n",
    "\n",
    "# predict based on a distance metric from min values\n",
    "# NOTE: canberra, cosine generally work better than l2,l1,etc\n",
    "preds = pairwise_distances_argmin(scaler.transform(X_test), class_mins, metric='cosine')\n",
    "\n",
    "# how does the baseline look\n",
    "cm = confusion_matrix(Y_test, preds)\n",
    "cm\n",
    "cm / cm.sum(axis=1, keepdims=True)"
   ]
  },
  {
   "cell_type": "code",
   "execution_count": 43,
   "metadata": {},
   "outputs": [
    {
     "data": {
      "text/plain": [
       "array([[120093,   1826,    694],\n",
       "       [  2715,     31,     11],\n",
       "       [  1524,     55,     10]])"
      ]
     },
     "execution_count": 43,
     "metadata": {},
     "output_type": "execute_result"
    },
    {
     "data": {
      "text/plain": [
       "array([[0.97944753, 0.01489238, 0.00566008],\n",
       "       [0.98476605, 0.01124411, 0.00398984],\n",
       "       [0.95909377, 0.03461296, 0.00629327]])"
      ]
     },
     "execution_count": 43,
     "metadata": {},
     "output_type": "execute_result"
    }
   ],
   "source": [
    "# use max values as threshold\n",
    "class0_max = X_train[(Y_train==0).values, :].max(axis=0, keepdims=True)\n",
    "class1_max = X_train[(Y_train==1).values, :].max(axis=0, keepdims=True)\n",
    "class2_max = X_train[(Y_train==2).values, :].max(axis=0, keepdims=True)\n",
    "class_maxs = np.vstack((class0_max, class1_max, class2_max))\n",
    "\n",
    "# predict based on a distance metric from max values\n",
    "# NOTE: canberra, cosine generally work better than l2,l1,etc\n",
    "# preds = pairwise_distances_argmin(X_test, class_maxs, metric='cosine')\n",
    "class0_confs = (scaler.transform(X_test) > class0_max).sum(axis=1, keepdims=True)\n",
    "class1_confs = (scaler.transform(X_test) > class1_max).sum(axis=1, keepdims=True)\n",
    "class2_confs = (scaler.transform(X_test) > class2_max).sum(axis=1, keepdims=True)\n",
    "class_confs = np.hstack((class0_confs, class1_confs, class2_confs))\n",
    "preds = np.argmax(class_confs, axis=1)\n",
    "\n",
    "# how does the baseline look\n",
    "cm = confusion_matrix(Y_test, preds)\n",
    "cm\n",
    "cm / cm.sum(axis=1, keepdims=True)"
   ]
  },
  {
   "cell_type": "markdown",
   "metadata": {
    "toc-hr-collapsed": false
   },
   "source": [
    "## Train"
   ]
  },
  {
   "cell_type": "markdown",
   "metadata": {},
   "source": [
    "**NOTE** As of today (September 3, 2019) it is difficult to integrate into Ceph models built using python libraries that are not rpm or deb packaged.  \n",
    "Therefore RGF and XGBoost just serve as comparisons as opposed to models that can be actually used in upstream Ceph today"
   ]
  },
  {
   "cell_type": "code",
   "execution_count": 26,
   "metadata": {},
   "outputs": [
    {
     "data": {
      "text/plain": [
       "182"
      ]
     },
     "execution_count": 26,
     "metadata": {},
     "output_type": "execute_result"
    }
   ],
   "source": [
    "# training is going to require a lot of memory. free as much as possible\n",
    "del df\n",
    "del feats_df\n",
    "del X_train_work\n",
    "del X_train_fail\n",
    "del Y_train_work\n",
    "del Y_train_fail\n",
    "del X_test_work\n",
    "del X_test_fail\n",
    "del Y_test_work\n",
    "del Y_test_fail\n",
    "gc.collect()"
   ]
  },
  {
   "cell_type": "markdown",
   "metadata": {},
   "source": [
    "### Vanilla Decision Tree"
   ]
  },
  {
   "cell_type": "code",
   "execution_count": 27,
   "metadata": {},
   "outputs": [],
   "source": [
    "from sklearn.tree import DecisionTreeClassifier, export_graphviz"
   ]
  },
  {
   "cell_type": "code",
   "execution_count": 28,
   "metadata": {},
   "outputs": [
    {
     "data": {
      "text/plain": [
       "DecisionTreeClassifier(class_weight=None, criterion='gini', max_depth=None,\n",
       "                       max_features=None, max_leaf_nodes=None,\n",
       "                       min_impurity_decrease=0.0, min_impurity_split=None,\n",
       "                       min_samples_leaf=1, min_samples_split=2,\n",
       "                       min_weight_fraction_leaf=0.0, presort=False,\n",
       "                       random_state=24, splitter='best')"
      ]
     },
     "execution_count": 28,
     "metadata": {},
     "output_type": "execute_result"
    }
   ],
   "source": [
    "# with joblib.parallel_backend('dask'):\n",
    "dt_clf = DecisionTreeClassifier(random_state=24)\n",
    "dt_clf.fit(X_train, Y_train)"
   ]
  },
  {
   "cell_type": "code",
   "execution_count": 29,
   "metadata": {},
   "outputs": [
    {
     "name": "stdout",
     "output_type": "stream",
     "text": [
      "[[119369   1797   2068]\n",
      " [  2137    272    343]\n",
      " [  1007    222    351]]\n",
      "              precision    recall  f1-score   support\n",
      "\n",
      "        good       0.97      0.97      0.97    123234\n",
      "     warning       0.12      0.10      0.11      2752\n",
      "         bad       0.13      0.22      0.16      1580\n",
      "\n",
      "    accuracy                           0.94    127566\n",
      "   macro avg       0.41      0.43      0.41    127566\n",
      "weighted avg       0.95      0.94      0.94    127566\n",
      "\n"
     ]
    }
   ],
   "source": [
    "# with joblib.parallel_backend('dask'):\n",
    "# get preds\n",
    "dt_preds = dt_clf.predict(scaler.transform(X_test))\n",
    "dt_confmat = confusion_matrix(Y_test, dt_preds)\n",
    "\n",
    "print(dt_confmat)\n",
    "print(classification_report(Y_test, dt_preds, target_names=['good', 'warning', 'bad']))"
   ]
  },
  {
   "cell_type": "code",
   "execution_count": 30,
   "metadata": {},
   "outputs": [
    {
     "data": {
      "text/plain": [
       "['../models/seagate_predictor_dt_Sep_03_2019_13_15_26.joblib']"
      ]
     },
     "execution_count": 30,
     "metadata": {},
     "output_type": "execute_result"
    }
   ],
   "source": [
    "# FIXME: this would not work for dask objects (delayed objects) - MUST use cloudpickle for that\n",
    "fname = '../models/{}_predictor_dt_{}.joblib'.format(MANUFACTURER, datetime.datetime.now().strftime(\"%b_%d_%Y_%H_%M_%S\"))\n",
    "joblib.dump(dt_clf, fname)"
   ]
  },
  {
   "cell_type": "markdown",
   "metadata": {},
   "source": [
    "### Vanilla Random Forest"
   ]
  },
  {
   "cell_type": "code",
   "execution_count": 31,
   "metadata": {},
   "outputs": [],
   "source": [
    "from sklearn.ensemble import RandomForestClassifier"
   ]
  },
  {
   "cell_type": "code",
   "execution_count": 32,
   "metadata": {},
   "outputs": [
    {
     "data": {
      "text/plain": [
       "RandomForestClassifier(bootstrap=True, class_weight='balanced',\n",
       "                       criterion='gini', max_depth=None, max_features='auto',\n",
       "                       max_leaf_nodes=None, min_impurity_decrease=0.0,\n",
       "                       min_impurity_split=None, min_samples_leaf=1,\n",
       "                       min_samples_split=2, min_weight_fraction_leaf=0.0,\n",
       "                       n_estimators=12, n_jobs=-1, oob_score=False,\n",
       "                       random_state=24, verbose=0, warm_start=False)"
      ]
     },
     "execution_count": 32,
     "metadata": {},
     "output_type": "execute_result"
    }
   ],
   "source": [
    "rf_clf = RandomForestClassifier(n_estimators=12, class_weight='balanced', n_jobs=-1, random_state=24)\n",
    "rf_clf.fit(X_train, Y_train)"
   ]
  },
  {
   "cell_type": "code",
   "execution_count": 33,
   "metadata": {},
   "outputs": [
    {
     "name": "stdout",
     "output_type": "stream",
     "text": [
      "[[122948    174    112]\n",
      " [  2545     87    120]\n",
      " [  1290     62    228]]\n",
      "              precision    recall  f1-score   support\n",
      "\n",
      "        good       0.97      1.00      0.98    123234\n",
      "     warning       0.27      0.03      0.06      2752\n",
      "         bad       0.50      0.14      0.22      1580\n",
      "\n",
      "    accuracy                           0.97    127566\n",
      "   macro avg       0.58      0.39      0.42    127566\n",
      "weighted avg       0.95      0.97      0.95    127566\n",
      "\n"
     ]
    }
   ],
   "source": [
    "# get preds\n",
    "rf_preds = rf_clf.predict(scaler.transform(X_test))\n",
    "rf_confmat = confusion_matrix(Y_test, rf_preds)\n",
    "\n",
    "print(rf_confmat)\n",
    "print(classification_report(Y_test, rf_preds, target_names=['good', 'warning', 'bad']))"
   ]
  },
  {
   "cell_type": "code",
   "execution_count": 34,
   "metadata": {},
   "outputs": [
    {
     "data": {
      "text/plain": [
       "['../models/seagate_predictor_rf_Sep_03_2019_13_15_34.joblib']"
      ]
     },
     "execution_count": 34,
     "metadata": {},
     "output_type": "execute_result"
    }
   ],
   "source": [
    "# FIXME: this would not work for dask objects (delayed objects) - MUST use cloudpickle for that\n",
    "fname = '../models/{}_predictor_rf_{}.joblib'.format(MANUFACTURER, datetime.datetime.now().strftime(\"%b_%d_%Y_%H_%M_%S\"))\n",
    "joblib.dump(dt_clf, fname)"
   ]
  },
  {
   "cell_type": "markdown",
   "metadata": {},
   "source": [
    "### SVM"
   ]
  },
  {
   "cell_type": "code",
   "execution_count": 74,
   "metadata": {},
   "outputs": [],
   "source": [
    "from sklearn.svm import SVC"
   ]
  },
  {
   "cell_type": "code",
   "execution_count": null,
   "metadata": {},
   "outputs": [],
   "source": [
    "svc = SVC(class_weight='balanced')\n",
    "svc.fit(X_train, Y_train)"
   ]
  },
  {
   "cell_type": "code",
   "execution_count": null,
   "metadata": {},
   "outputs": [],
   "source": [
    "# get preds\n",
    "svc_preds = svc.predict(scaler.transform(X_test))\n",
    "svc_confmat = confusion_matrix(Y_test, svc_preds)\n",
    "\n",
    "print(svc_confmat)\n",
    "print(classification_report(Y_test, svc_preds, target_names=['good', 'warning', 'bad']))"
   ]
  },
  {
   "cell_type": "markdown",
   "metadata": {},
   "source": [
    "### MLP"
   ]
  },
  {
   "cell_type": "code",
   "execution_count": 83,
   "metadata": {},
   "outputs": [],
   "source": [
    "from dask_ml.wrappers import Incremental\n",
    "from sklearn.neural_network import MLPClassifier"
   ]
  },
  {
   "cell_type": "code",
   "execution_count": null,
   "metadata": {},
   "outputs": [],
   "source": [
    "mlp = MLPClassifier(hidden_layer_sizes=(128, 512, 512, 128),\n",
    "                    activation='sigmoid',\n",
    "                    batch_size=256,\n",
    "                    warm_start=True,\n",
    "                    random_state=24)\n",
    "# clf = Incremental(mlp)\n",
    "mlp.fit(X_train, Y_train)"
   ]
  },
  {
   "cell_type": "code",
   "execution_count": null,
   "metadata": {},
   "outputs": [],
   "source": [
    "# with parallel_backend('dask'):\n",
    "# get preds\n",
    "mlp_preds = mlp.predict(scaler.transform(X_test))\n",
    "mlp_confmat = confusion_matrix(Y_test, mlp_preds)\n",
    "\n",
    "print(np.around(mlp_confmat / mlp_confmat.sum(axis=1, keepdims=True), decimals=2))\n",
    "print(classification_report(Y_test, mlp_preds, target_names=['good', 'warning', 'bad']))"
   ]
  },
  {
   "cell_type": "markdown",
   "metadata": {},
   "source": [
    "### RGF (depracated due to dependency issues)"
   ]
  },
  {
   "cell_type": "code",
   "execution_count": null,
   "metadata": {},
   "outputs": [],
   "source": [
    "from rgf.sklearn import RGFClassifier"
   ]
  },
  {
   "cell_type": "code",
   "execution_count": null,
   "metadata": {},
   "outputs": [],
   "source": [
    "# with parallel_backend('dask'):\n",
    "rgf_clf = RGFClassifier(max_leaf=2500, l2=1e-12, learning_rate=0.01)\n",
    "rgf_clf.fit(X_train, Y_train)"
   ]
  },
  {
   "cell_type": "code",
   "execution_count": null,
   "metadata": {},
   "outputs": [],
   "source": [
    "# get preds\n",
    "rgf_preds = rgf_clf.predict(scaler.transform(X_test))\n",
    "rgf_confmat = confusion_matrix(Y_test, rgf_preds)\n",
    "\n",
    "print(np.around(rgf_confmat / rgf_confmat.sum(axis=1, keepdims=True), decimals=2))\n",
    "print(classification_report(Y_test, rgf_preds, target_names=['good', 'warning', 'bad']))"
   ]
  },
  {
   "cell_type": "markdown",
   "metadata": {},
   "source": [
    "### XGBoost (depracated due to dependency issues)"
   ]
  },
  {
   "cell_type": "code",
   "execution_count": 78,
   "metadata": {},
   "outputs": [],
   "source": [
    "from xgboost import XGBClassifier"
   ]
  },
  {
   "cell_type": "code",
   "execution_count": null,
   "metadata": {},
   "outputs": [],
   "source": [
    "xgb_clf = XGBClassifier(max_depth=8, n_jobs=8)\n",
    "xgb_clf.fit(X_train, Y_train)"
   ]
  },
  {
   "cell_type": "code",
   "execution_count": null,
   "metadata": {},
   "outputs": [],
   "source": [
    "# get preds\n",
    "xgb_preds = xgb_clf.predict(scaler.transform(X_test))\n",
    "xgb_confmat = confusion_matrix(Y_test, xgb_preds)\n",
    "\n",
    "print(np.around(xgb_confmat / xgb_confmat.sum(axis=1, keepdims=True), decimals=2))\n",
    "print(classification_report(Y_test, xgb_preds, target_names=['good', 'warning', 'bad']))"
   ]
  },
  {
   "cell_type": "code",
   "execution_count": null,
   "metadata": {},
   "outputs": [],
   "source": []
  }
 ],
 "metadata": {
  "kernelspec": {
   "display_name": "Python 3",
   "language": "python",
   "name": "python3"
  },
  "language_info": {
   "codemirror_mode": {
    "name": "ipython",
    "version": 3
   },
   "file_extension": ".py",
   "mimetype": "text/x-python",
   "name": "python",
   "nbconvert_exporter": "python",
   "pygments_lexer": "ipython3",
   "version": "3.6.9"
  },
  "toc-showtags": false
 },
 "nbformat": 4,
 "nbformat_minor": 4
}
