{
 "cells": [
  {
   "cell_type": "markdown",
   "metadata": {},
   "source": [
    "# Step 0: Know Thy Data Format\n",
    "\n",
    "At Red Hat, Backblaze Q4 2018 dataset files (.csv) were downloaded and converted to look like the json output from `smartctl` command. These json files are quite complex structure (deeply nested). The purpose of this notebook is to identify and describe this structure/schema.\n",
    "\n",
    "**NOTE**: If you are not using the json-files-version of Bacblaze dataset at Red Hat, this notebook may not relevant for you.\n",
    "\n",
    "The Q4 2018 dataset consists of 92 json files. Each file contains features like SMART stats, model number, capacity, etc for ~96000 hard drives. Assuming that format is consistent across all 92 files, only one such file is needed to decipher the dataset schema."
   ]
  },
  {
   "cell_type": "code",
   "execution_count": 1,
   "metadata": {},
   "outputs": [],
   "source": [
    "import numpy as np\n",
    "import pandas as pd"
   ]
  },
  {
   "cell_type": "code",
   "execution_count": 12,
   "metadata": {},
   "outputs": [
    {
     "data": {
      "text/html": [
       "<div>\n",
       "<style scoped>\n",
       "    .dataframe tbody tr th:only-of-type {\n",
       "        vertical-align: middle;\n",
       "    }\n",
       "\n",
       "    .dataframe tbody tr th {\n",
       "        vertical-align: top;\n",
       "    }\n",
       "\n",
       "    .dataframe thead th {\n",
       "        text-align: right;\n",
       "    }\n",
       "</style>\n",
       "<table border=\"1\" class=\"dataframe\">\n",
       "  <thead>\n",
       "    <tr style=\"text-align: right;\">\n",
       "      <th></th>\n",
       "      <th>hints</th>\n",
       "      <th>smartctl_json</th>\n",
       "    </tr>\n",
       "  </thead>\n",
       "  <tbody>\n",
       "    <tr>\n",
       "      <th>0</th>\n",
       "      <td>{'is_backblaze': True, 'backblaze_ts': 1538352...</td>\n",
       "      <td>{'model_name': 'ST4000DM000', 'serial_number':...</td>\n",
       "    </tr>\n",
       "    <tr>\n",
       "      <th>1</th>\n",
       "      <td>{'is_backblaze': True, 'backblaze_ts': 1538352...</td>\n",
       "      <td>{'model_name': 'ST12000NM0007', 'serial_number...</td>\n",
       "    </tr>\n",
       "    <tr>\n",
       "      <th>2</th>\n",
       "      <td>{'is_backblaze': True, 'backblaze_ts': 1538352...</td>\n",
       "      <td>{'model_name': 'ST12000NM0007', 'serial_number...</td>\n",
       "    </tr>\n",
       "    <tr>\n",
       "      <th>3</th>\n",
       "      <td>{'is_backblaze': True, 'backblaze_ts': 1538352...</td>\n",
       "      <td>{'model_name': 'HGST HMS5C4040ALE640', 'serial...</td>\n",
       "    </tr>\n",
       "    <tr>\n",
       "      <th>4</th>\n",
       "      <td>{'is_backblaze': True, 'backblaze_ts': 1538352...</td>\n",
       "      <td>{'model_name': 'ST8000NM0055', 'serial_number'...</td>\n",
       "    </tr>\n",
       "  </tbody>\n",
       "</table>\n",
       "</div>"
      ],
      "text/plain": [
       "                                               hints  \\\n",
       "0  {'is_backblaze': True, 'backblaze_ts': 1538352...   \n",
       "1  {'is_backblaze': True, 'backblaze_ts': 1538352...   \n",
       "2  {'is_backblaze': True, 'backblaze_ts': 1538352...   \n",
       "3  {'is_backblaze': True, 'backblaze_ts': 1538352...   \n",
       "4  {'is_backblaze': True, 'backblaze_ts': 1538352...   \n",
       "\n",
       "                                       smartctl_json  \n",
       "0  {'model_name': 'ST4000DM000', 'serial_number':...  \n",
       "1  {'model_name': 'ST12000NM0007', 'serial_number...  \n",
       "2  {'model_name': 'ST12000NM0007', 'serial_number...  \n",
       "3  {'model_name': 'HGST HMS5C4040ALE640', 'serial...  \n",
       "4  {'model_name': 'ST8000NM0055', 'serial_number'...  "
      ]
     },
     "execution_count": 12,
     "metadata": {},
     "output_type": "execute_result"
    }
   ],
   "source": [
    "# reading the entire file is slow, and not very useful for this task\n",
    "# so read in a small chunk of it\n",
    "CHUNK_SIZE = 10000\n",
    "FILE_PATH = './smart_data_data_Q4_2018_2018-10-01.json'\n",
    "df_reader = pd.read_json(FILE_PATH, lines=True, chunksize=CHUNK_SIZE)\n",
    "\n",
    "# get the first chunk\n",
    "chunk = next(df_reader)\n",
    "chunk.head()"
   ]
  },
  {
   "cell_type": "code",
   "execution_count": 15,
   "metadata": {},
   "outputs": [],
   "source": [
    "# split the dataset into data and corresponding labels for inferring schema\n",
    "data = chunk['smartctl_json'].apply(pd.Series)\n",
    "labels = chunk['hints'].apply(pd.Series)"
   ]
  },
  {
   "cell_type": "code",
   "execution_count": 18,
   "metadata": {},
   "outputs": [
    {
     "name": "stdout",
     "output_type": "stream",
     "text": [
      "data shape = (10000, 5)\n"
     ]
    },
    {
     "data": {
      "text/html": [
       "<div>\n",
       "<style scoped>\n",
       "    .dataframe tbody tr th:only-of-type {\n",
       "        vertical-align: middle;\n",
       "    }\n",
       "\n",
       "    .dataframe tbody tr th {\n",
       "        vertical-align: top;\n",
       "    }\n",
       "\n",
       "    .dataframe thead th {\n",
       "        text-align: right;\n",
       "    }\n",
       "</style>\n",
       "<table border=\"1\" class=\"dataframe\">\n",
       "  <thead>\n",
       "    <tr style=\"text-align: right;\">\n",
       "      <th></th>\n",
       "      <th>model_name</th>\n",
       "      <th>serial_number</th>\n",
       "      <th>model_family</th>\n",
       "      <th>user_capacity</th>\n",
       "      <th>ata_smart_attributes</th>\n",
       "    </tr>\n",
       "  </thead>\n",
       "  <tbody>\n",
       "    <tr>\n",
       "      <th>0</th>\n",
       "      <td>ST4000DM000</td>\n",
       "      <td>Z305B2QN</td>\n",
       "      <td>ST4000DM000</td>\n",
       "      <td>{'bytes': 4000787030016}</td>\n",
       "      <td>{'table': [{'id': 1, 'value': 117, 'raw': {'va...</td>\n",
       "    </tr>\n",
       "    <tr>\n",
       "      <th>1</th>\n",
       "      <td>ST12000NM0007</td>\n",
       "      <td>ZJV0XJQ4</td>\n",
       "      <td>ST12000NM0007</td>\n",
       "      <td>{'bytes': 12000138625024}</td>\n",
       "      <td>{'table': [{'id': 1, 'value': 68, 'raw': {'val...</td>\n",
       "    </tr>\n",
       "    <tr>\n",
       "      <th>2</th>\n",
       "      <td>ST12000NM0007</td>\n",
       "      <td>ZJV0XJQ0</td>\n",
       "      <td>ST12000NM0007</td>\n",
       "      <td>{'bytes': 12000138625024}</td>\n",
       "      <td>{'table': [{'id': 1, 'value': 79, 'raw': {'val...</td>\n",
       "    </tr>\n",
       "    <tr>\n",
       "      <th>3</th>\n",
       "      <td>HGST HMS5C4040ALE640</td>\n",
       "      <td>PL1331LAHG1S4H</td>\n",
       "      <td>HGST HMS5C4040ALE640</td>\n",
       "      <td>{'bytes': 4000787030016}</td>\n",
       "      <td>{'table': [{'id': 1, 'value': 100, 'raw': {'va...</td>\n",
       "    </tr>\n",
       "    <tr>\n",
       "      <th>4</th>\n",
       "      <td>ST8000NM0055</td>\n",
       "      <td>ZA16NQJR</td>\n",
       "      <td>ST8000NM0055</td>\n",
       "      <td>{'bytes': 8001563222016}</td>\n",
       "      <td>{'table': [{'id': 1, 'value': 80, 'raw': {'val...</td>\n",
       "    </tr>\n",
       "  </tbody>\n",
       "</table>\n",
       "</div>"
      ],
      "text/plain": [
       "             model_name   serial_number          model_family  \\\n",
       "0           ST4000DM000        Z305B2QN           ST4000DM000   \n",
       "1         ST12000NM0007        ZJV0XJQ4         ST12000NM0007   \n",
       "2         ST12000NM0007        ZJV0XJQ0         ST12000NM0007   \n",
       "3  HGST HMS5C4040ALE640  PL1331LAHG1S4H  HGST HMS5C4040ALE640   \n",
       "4          ST8000NM0055        ZA16NQJR          ST8000NM0055   \n",
       "\n",
       "               user_capacity  \\\n",
       "0   {'bytes': 4000787030016}   \n",
       "1  {'bytes': 12000138625024}   \n",
       "2  {'bytes': 12000138625024}   \n",
       "3   {'bytes': 4000787030016}   \n",
       "4   {'bytes': 8001563222016}   \n",
       "\n",
       "                                ata_smart_attributes  \n",
       "0  {'table': [{'id': 1, 'value': 117, 'raw': {'va...  \n",
       "1  {'table': [{'id': 1, 'value': 68, 'raw': {'val...  \n",
       "2  {'table': [{'id': 1, 'value': 79, 'raw': {'val...  \n",
       "3  {'table': [{'id': 1, 'value': 100, 'raw': {'va...  \n",
       "4  {'table': [{'id': 1, 'value': 80, 'raw': {'val...  "
      ]
     },
     "execution_count": 18,
     "metadata": {},
     "output_type": "execute_result"
    }
   ],
   "source": [
    "print('data shape =', data.shape)\n",
    "data.head()"
   ]
  },
  {
   "cell_type": "code",
   "execution_count": 19,
   "metadata": {},
   "outputs": [
    {
     "name": "stdout",
     "output_type": "stream",
     "text": [
      "labels shape = (10000, 3)\n"
     ]
    },
    {
     "data": {
      "text/html": [
       "<div>\n",
       "<style scoped>\n",
       "    .dataframe tbody tr th:only-of-type {\n",
       "        vertical-align: middle;\n",
       "    }\n",
       "\n",
       "    .dataframe tbody tr th {\n",
       "        vertical-align: top;\n",
       "    }\n",
       "\n",
       "    .dataframe thead th {\n",
       "        text-align: right;\n",
       "    }\n",
       "</style>\n",
       "<table border=\"1\" class=\"dataframe\">\n",
       "  <thead>\n",
       "    <tr style=\"text-align: right;\">\n",
       "      <th></th>\n",
       "      <th>is_backblaze</th>\n",
       "      <th>backblaze_ts</th>\n",
       "      <th>backblaze_failure_label</th>\n",
       "    </tr>\n",
       "  </thead>\n",
       "  <tbody>\n",
       "    <tr>\n",
       "      <th>0</th>\n",
       "      <td>True</td>\n",
       "      <td>1.538352e+12</td>\n",
       "      <td>False</td>\n",
       "    </tr>\n",
       "    <tr>\n",
       "      <th>1</th>\n",
       "      <td>True</td>\n",
       "      <td>1.538352e+12</td>\n",
       "      <td>False</td>\n",
       "    </tr>\n",
       "    <tr>\n",
       "      <th>2</th>\n",
       "      <td>True</td>\n",
       "      <td>1.538352e+12</td>\n",
       "      <td>False</td>\n",
       "    </tr>\n",
       "    <tr>\n",
       "      <th>3</th>\n",
       "      <td>True</td>\n",
       "      <td>1.538352e+12</td>\n",
       "      <td>False</td>\n",
       "    </tr>\n",
       "    <tr>\n",
       "      <th>4</th>\n",
       "      <td>True</td>\n",
       "      <td>1.538352e+12</td>\n",
       "      <td>False</td>\n",
       "    </tr>\n",
       "  </tbody>\n",
       "</table>\n",
       "</div>"
      ],
      "text/plain": [
       "   is_backblaze  backblaze_ts  backblaze_failure_label\n",
       "0          True  1.538352e+12                    False\n",
       "1          True  1.538352e+12                    False\n",
       "2          True  1.538352e+12                    False\n",
       "3          True  1.538352e+12                    False\n",
       "4          True  1.538352e+12                    False"
      ]
     },
     "execution_count": 19,
     "metadata": {},
     "output_type": "execute_result"
    }
   ],
   "source": [
    "print('labels shape =', labels.shape)\n",
    "labels.head()"
   ]
  },
  {
   "cell_type": "code",
   "execution_count": 26,
   "metadata": {},
   "outputs": [
    {
     "data": {
      "text/plain": [
       "dict_keys(['table'])"
      ]
     },
     "execution_count": 26,
     "metadata": {},
     "output_type": "execute_result"
    }
   ],
   "source": [
    "# ata_smart_attributes seems to be a dictionary with multiple values. lets dive deeper into it\n",
    "# this section assumes key/value structure does not change across rows\n",
    "data['ata_smart_attributes'][0].keys()"
   ]
  },
  {
   "cell_type": "code",
   "execution_count": 27,
   "metadata": {},
   "outputs": [
    {
     "data": {
      "text/plain": [
       "[{'id': 1, 'value': 117, 'raw': {'value': 148579464, 'string': 148579464}},\n",
       " {'id': 3, 'value': 91, 'raw': {'value': 0, 'string': 0}},\n",
       " {'id': 4, 'value': 100, 'raw': {'value': 12, 'string': 12}},\n",
       " {'id': 5, 'value': 100, 'raw': {'value': 0, 'string': 0}},\n",
       " {'id': 7, 'value': 82, 'raw': {'value': 167981075, 'string': 167981075}},\n",
       " {'id': 9, 'value': 73, 'raw': {'value': 24506, 'string': 24506}},\n",
       " {'id': 10, 'value': 100, 'raw': {'value': 0, 'string': 0}},\n",
       " {'id': 12, 'value': 100, 'raw': {'value': 12, 'string': 12}},\n",
       " {'id': 183, 'value': 100.0, 'raw': {'value': 0.0, 'string': 0.0}},\n",
       " {'id': 184, 'value': 100.0, 'raw': {'value': 0.0, 'string': 0.0}},\n",
       " {'id': 187, 'value': 100.0, 'raw': {'value': 0.0, 'string': 0.0}},\n",
       " {'id': 188, 'value': 100.0, 'raw': {'value': 0.0, 'string': 0.0}},\n",
       " {'id': 189, 'value': 100.0, 'raw': {'value': 0.0, 'string': 0.0}},\n",
       " {'id': 190, 'value': 78.0, 'raw': {'value': 22.0, 'string': 22.0}},\n",
       " {'id': 191, 'value': 100.0, 'raw': {'value': 0.0, 'string': 0.0}},\n",
       " {'id': 192, 'value': 100.0, 'raw': {'value': 0.0, 'string': 0.0}},\n",
       " {'id': 193, 'value': 83.0, 'raw': {'value': 34164.0, 'string': 34164.0}},\n",
       " {'id': 194, 'value': 22, 'raw': {'value': 22, 'string': 22}},\n",
       " {'id': 197, 'value': 100, 'raw': {'value': 0, 'string': 0}},\n",
       " {'id': 198, 'value': 100, 'raw': {'value': 0, 'string': 0}},\n",
       " {'id': 199, 'value': 200, 'raw': {'value': 0, 'string': 0}},\n",
       " {'id': 240, 'value': 100.0, 'raw': {'value': 24254.0, 'string': 24254.0}},\n",
       " {'id': 241,\n",
       "  'value': 100.0,\n",
       "  'raw': {'value': 43695026832.0, 'string': 43695026832.0}},\n",
       " {'id': 242,\n",
       "  'value': 100.0,\n",
       "  'raw': {'value': 102475323768.0, 'string': 102475323768.0}}]"
      ]
     },
     "execution_count": 27,
     "metadata": {},
     "output_type": "execute_result"
    }
   ],
   "source": [
    "# what does the value at table look like\n",
    "data['ata_smart_attributes'][0]['table']"
   ]
  },
  {
   "cell_type": "markdown",
   "metadata": {},
   "source": [
    "# Results - Anatomy of a json file\n",
    "\n",
    "0. The dataset is made up of 92 such json files\n",
    "\n",
    "\n",
    "1. Each json file has two columns (keys) - hints and smartctl_json\n",
    "\n",
    "\n",
    "2. In hints column, each row is a json with keys backblaze_failure_label, is_backblaze, backblaze_ts. This means each of the ~96000 hard drives has values corresponding to these three keys.\n",
    "\n",
    "\n",
    "3. In smartctl_json column, each row is a json with keys ata_smart_attributes, model_name, serial_number, model_family, user_capacity. \n",
    "\n",
    "\n",
    "4. ata_smart_attributes itself is a json with ONLY ONE KEY - table. The value at table is a list. Each member of the list is a json with keys id, value, raw. id is the SMART stat number, value is its normalized value (**note**: not sure how this is normalized), raw is a json with keys value, string (its raw value as an int, and as a string).\n",
    "\n",
    "\n",
    "5. user_capacity is another json with ONLY ONE KEY - bytes."
   ]
  },
  {
   "cell_type": "code",
   "execution_count": null,
   "metadata": {},
   "outputs": [],
   "source": []
  }
 ],
 "metadata": {
  "kernelspec": {
   "display_name": "Python 3",
   "language": "python",
   "name": "python3"
  },
  "language_info": {
   "codemirror_mode": {
    "name": "ipython",
    "version": 3
   },
   "file_extension": ".py",
   "mimetype": "text/x-python",
   "name": "python",
   "nbconvert_exporter": "python",
   "pygments_lexer": "ipython3",
   "version": "3.6.9"
  }
 },
 "nbformat": 4,
 "nbformat_minor": 4
}
