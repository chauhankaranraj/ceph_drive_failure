{
 "cells": [
  {
   "cell_type": "markdown",
   "metadata": {},
   "source": [
    "# SMART Metrics Forecasting\n",
    "\n",
    "In previous notebooks in this project, we explored how machine learning models can be trained to predict whether a hard drive would fail or not in a given future time interval. The ceph team believes that in addition to the predictions provided by these models, another piece of information that users would find helpful is the forecast of values of specific SMART metrics coming from their hard drives.\n",
    "\n",
    "In this notebook, we explore how time series forecasting models can be used to predict future values of SMART metrics."
   ]
  },
  {
   "cell_type": "code",
   "execution_count": 1,
   "metadata": {
    "ExecuteTime": {
     "end_time": "2020-12-03T16:50:01.780334Z",
     "start_time": "2020-12-03T16:49:43.645366Z"
    },
    "code_folding": [
     0
    ]
   },
   "outputs": [],
   "source": [
    "# imports\n",
    "import pdb\n",
    "import datetime as dt\n",
    "from IPython.display import display\n",
    "\n",
    "import numpy as np\n",
    "import pandas as pd\n",
    "\n",
    "import dask.dataframe as dd\n",
    "from dask.diagnostics import ProgressBar\n",
    "\n",
    "import seaborn as sns; sns.set()\n",
    "from matplotlib import pyplot as plt\n",
    "\n",
    "from fbprophet import Prophet\n",
    "\n",
    "from statsmodels.tsa.arima.model import ARIMA\n",
    "from statsmodels.tsa.statespace.sarimax import SARIMAX\n",
    "\n",
    "from sklearn.preprocessing import StandardScaler\n",
    "from sklearn.linear_model import LinearRegression, BayesianRidge, Lasso"
   ]
  },
  {
   "cell_type": "code",
   "execution_count": 2,
   "metadata": {
    "ExecuteTime": {
     "end_time": "2020-12-03T16:50:01.784247Z",
     "start_time": "2020-12-03T16:50:01.782089Z"
    },
    "code_folding": [
     0
    ]
   },
   "outputs": [],
   "source": [
    "# dask tasks progress bar\n",
    "pbar = ProgressBar()\n",
    "pbar.register()"
   ]
  },
  {
   "cell_type": "markdown",
   "metadata": {},
   "source": [
    "# Read Data\n",
    "\n",
    "In this section we'll read in the data to be used for training models. For this notebook, we'll use the open source backblaze hard drive dataset. Since the dataset is quite large, it might not fit in memory for all devices. So we'll use dask for lazy and parallel processing. Note that we are only using one quarter worth of data for this POC, but we can increase this for production models."
   ]
  },
  {
   "cell_type": "code",
   "execution_count": 3,
   "metadata": {
    "ExecuteTime": {
     "end_time": "2020-12-03T16:50:02.087341Z",
     "start_time": "2020-12-03T16:50:01.785615Z"
    },
    "code_folding": []
   },
   "outputs": [],
   "source": [
    "# read df and keep seagate data\n",
    "df = dd.read_parquet(\n",
    "    path='../data/interim/data_Q3_2020_parquet',\n",
    ")\n",
    "df = df[(df['model'].str.startswith('S')) | (df['model'].str.startswith('ZA'))]"
   ]
  },
  {
   "cell_type": "code",
   "execution_count": 4,
   "metadata": {
    "ExecuteTime": {
     "end_time": "2020-12-03T16:51:40.929735Z",
     "start_time": "2020-12-03T16:50:02.088846Z"
    },
    "code_folding": [
     0
    ]
   },
   "outputs": [
    {
     "name": "stdout",
     "output_type": "stream",
     "text": [
      "[########################################] | 100% Completed | 48.8s\n",
      "[########################################] | 100% Completed | 49.1s\n"
     ]
    }
   ],
   "source": [
    "# failed vs working serials\n",
    "failed_serials = df[df['failure']==1]['serial_number'].unique().compute().values\n",
    "all_serials = df['serial_number'].unique().compute().values\n",
    "working_serials = np.setdiff1d(all_serials, failed_serials)"
   ]
  },
  {
   "cell_type": "markdown",
   "metadata": {},
   "source": [
    "# Clean Data\n",
    "\n",
    "In this section we will clean up the data. We'll begin with a small set of smart metrics to use for training (`smart_stats_to_keep`). Then we'll determine which columns have the most amount of missing data, and if this missing data is specific to models. Based on this information we'll refine the smart metrics being kept in the dataset (i.e. update the `smart_stats_to_keep` and re-rerun the following cells). Finally, from the results in the analysis here, we'll determine data from which serial numbers (i.e. hard drives) should be kept so that we have a clean dataset."
   ]
  },
  {
   "cell_type": "code",
   "execution_count": 5,
   "metadata": {
    "ExecuteTime": {
     "end_time": "2020-12-03T16:51:40.936036Z",
     "start_time": "2020-12-03T16:51:40.932113Z"
    }
   },
   "outputs": [],
   "source": [
    "# set which columns are metadata and which ones are smart attribuetes\n",
    "meta_cols = ['date', 'serial_number', 'model', 'capacity_bytes', 'failure']\n",
    "\n",
    "# set which columns to use in analysis\n",
    "# NOTE: this determined based on backblaze research, ibm paper, and SMART wiki\n",
    "smart_stats_to_keep = [\n",
    "    5,\n",
    "    10,\n",
    "#     184,    # too many nans\n",
    "    187,\n",
    "    188,\n",
    "    197,\n",
    "    198,\n",
    "#     222,    # too many nans\n",
    "]\n",
    "smart_cols = [f'smart_{i}_raw' for i in smart_stats_to_keep]\n",
    "smart_cols += [f'smart_{i}_normalized' for i in smart_stats_to_keep]"
   ]
  },
  {
   "cell_type": "markdown",
   "metadata": {},
   "source": [
    "## Failed Drives Data"
   ]
  },
  {
   "cell_type": "code",
   "execution_count": 6,
   "metadata": {
    "ExecuteTime": {
     "end_time": "2020-12-03T16:52:37.142778Z",
     "start_time": "2020-12-03T16:51:40.937175Z"
    },
    "code_folding": [
     0
    ],
    "scrolled": false
   },
   "outputs": [
    {
     "name": "stdout",
     "output_type": "stream",
     "text": [
      "\r",
      "[                                        ] | 0% Completed |  0.0s"
     ]
    },
    {
     "name": "stderr",
     "output_type": "stream",
     "text": [
      "/opt/app-root/src/.local/share/virtualenvs/ceph_drive_failure-6l7He7yy/lib/python3.6/site-packages/ipykernel_launcher.py:4: UserWarning:\n",
      "\n",
      "`meta` is not specified, inferred from partial data. Please provide `meta` if the result is unexpected.\n",
      "  Before: .apply(func)\n",
      "  After:  .apply(func, meta={'x': 'f8', 'y': 'f8'}) for dataframe result\n",
      "  or:     .apply(func, meta=('x', 'f8'))            for series result\n",
      "\n"
     ]
    },
    {
     "name": "stdout",
     "output_type": "stream",
     "text": [
      "[########################################] | 100% Completed | 56.1s\n"
     ]
    },
    {
     "data": {
      "text/plain": [
       "serial_number\n",
       "7LZ022BP          0.923077\n",
       "7LZ045HN          0.923077\n",
       "S2ZYJ9GGB04771    0.307692\n",
       "S2ZYJ9GGB04761    0.307692\n",
       "S2ZYJ9FFB18437    0.307692\n",
       "S2ZYJ9CF504020    0.307692\n",
       "S2ZYJ9FG404851    0.307692\n",
       "S2ZYJ9KG303913    0.307692\n",
       "ZA180XLA          0.014652\n",
       "ZHZ3SPDW          0.000000\n",
       "ZA18GX05          0.000000\n",
       "ZCH080S9          0.000000\n",
       "ZA12MET8          0.000000\n",
       "ZA180Q9Q          0.000000\n",
       "ZJV1BTSY          0.000000\n",
       "dtype: float64"
      ]
     },
     "execution_count": 6,
     "metadata": {},
     "output_type": "execute_result"
    }
   ],
   "source": [
    "# how much data is missing, device-wise and feature-wise\n",
    "serialwise_featurewise_pct_nans = df[df['serial_number'].isin(failed_serials)][['serial_number']+smart_cols]\\\n",
    "        .groupby('serial_number')\\\n",
    "        .apply(lambda x: x.isna().mean())\\\n",
    "        .compute()\n",
    "\n",
    "mean_serialwise_pct_nans = serialwise_featurewise_pct_nans.mean(axis=1).sort_values(ascending=False)\n",
    "mean_serialwise_pct_nans.head(15)"
   ]
  },
  {
   "cell_type": "code",
   "execution_count": 7,
   "metadata": {
    "ExecuteTime": {
     "end_time": "2020-12-03T16:55:06.625315Z",
     "start_time": "2020-12-03T16:52:37.144079Z"
    },
    "code_folding": [
     0
    ]
   },
   "outputs": [
    {
     "name": "stdout",
     "output_type": "stream",
     "text": [
      "7LZ022BP\n",
      "[########################################] | 100% Completed | 49.8s\n",
      "smart_198_normalized    1.0\n",
      "smart_197_normalized    1.0\n",
      "smart_188_normalized    1.0\n",
      "smart_187_normalized    1.0\n",
      "smart_10_normalized     1.0\n",
      "smart_5_normalized      1.0\n",
      "smart_198_raw           1.0\n",
      "smart_197_raw           1.0\n",
      "smart_188_raw           1.0\n",
      "smart_187_raw           1.0\n",
      "smart_10_raw            1.0\n",
      "smart_5_raw             1.0\n",
      "dtype: float64\n",
      "ZA180XLA\n",
      "[########################################] | 100% Completed | 50.2s\n",
      "smart_198_normalized    0.015873\n",
      "smart_197_normalized    0.015873\n",
      "smart_188_normalized    0.015873\n",
      "smart_187_normalized    0.015873\n",
      "smart_10_normalized     0.015873\n",
      "smart_5_normalized      0.015873\n",
      "smart_198_raw           0.015873\n",
      "smart_197_raw           0.015873\n",
      "smart_188_raw           0.015873\n",
      "smart_187_raw           0.015873\n",
      "smart_10_raw            0.015873\n",
      "smart_5_raw             0.015873\n",
      "dtype: float64\n",
      "S2ZYJ9GGB04771\n",
      "[########################################] | 100% Completed | 49.3s\n",
      "smart_188_normalized    1.0\n",
      "smart_187_normalized    1.0\n",
      "smart_188_raw           1.0\n",
      "smart_187_raw           1.0\n",
      "smart_198_normalized    0.0\n",
      "smart_197_normalized    0.0\n",
      "smart_10_normalized     0.0\n",
      "smart_5_normalized      0.0\n",
      "smart_198_raw           0.0\n",
      "smart_197_raw           0.0\n",
      "smart_10_raw            0.0\n",
      "smart_5_raw             0.0\n",
      "dtype: float64\n"
     ]
    }
   ],
   "source": [
    "# peek at a few samples to better understand how the nans occur\n",
    "\n",
    "# dive with 90% data missing\n",
    "print('7LZ022BP')\n",
    "print(df[df['serial_number']=='7LZ022BP'][smart_cols].isna().mean().compute().sort_values(ascending=False))\n",
    "\n",
    "# drive with 1% data missing\n",
    "print('ZA180XLA')\n",
    "print(df[df['serial_number']=='ZA180XLA'][smart_cols].isna().mean().compute().sort_values(ascending=False))\n",
    "\n",
    "# drive with 30% data missing\n",
    "print('S2ZYJ9GGB04771')\n",
    "print(df[df['serial_number']=='S2ZYJ9GGB04771'][smart_cols].isna().mean().compute().sort_values(ascending=False))"
   ]
  },
  {
   "cell_type": "markdown",
   "metadata": {},
   "source": [
    "**NOTE** From above samples we can see that nans occur either when a very few number of rows are missing, or when entire columns are missing."
   ]
  },
  {
   "cell_type": "code",
   "execution_count": 8,
   "metadata": {
    "ExecuteTime": {
     "end_time": "2020-12-03T16:55:55.185078Z",
     "start_time": "2020-12-03T16:55:06.627668Z"
    },
    "code_folding": [
     0
    ]
   },
   "outputs": [
    {
     "name": "stdout",
     "output_type": "stream",
     "text": [
      "[########################################] | 100% Completed | 48.5s\n"
     ]
    }
   ],
   "source": [
    "# keep only devices that have no missing data\n",
    "failed_ts_df = df[\n",
    "    df['serial_number'].isin(\n",
    "        mean_serialwise_pct_nans[mean_serialwise_pct_nans==0].index\n",
    "    )\n",
    "][meta_cols + smart_cols].compute()"
   ]
  },
  {
   "cell_type": "markdown",
   "metadata": {},
   "source": [
    "## Working Drives Data"
   ]
  },
  {
   "cell_type": "code",
   "execution_count": 9,
   "metadata": {
    "ExecuteTime": {
     "end_time": "2020-12-03T16:58:50.399789Z",
     "start_time": "2020-12-03T16:55:55.187098Z"
    },
    "code_folding": [
     0
    ],
    "scrolled": false
   },
   "outputs": [
    {
     "name": "stdout",
     "output_type": "stream",
     "text": [
      "[                                        ] | 0% Completed |  0.1s"
     ]
    },
    {
     "name": "stderr",
     "output_type": "stream",
     "text": [
      "/opt/app-root/src/.local/share/virtualenvs/ceph_drive_failure-6l7He7yy/lib/python3.6/site-packages/ipykernel_launcher.py:4: UserWarning:\n",
      "\n",
      "`meta` is not specified, inferred from partial data. Please provide `meta` if the result is unexpected.\n",
      "  Before: .apply(func)\n",
      "  After:  .apply(func, meta={'x': 'f8', 'y': 'f8'}) for dataframe result\n",
      "  or:     .apply(func, meta=('x', 'f8'))            for series result\n",
      "\n"
     ]
    },
    {
     "name": "stdout",
     "output_type": "stream",
     "text": [
      "[########################################] | 100% Completed |  2min 55.0s\n"
     ]
    },
    {
     "data": {
      "text/plain": [
       "serial_number\n",
       "7LZ01GHG    0.923077\n",
       "7LZ01NDE    0.923077\n",
       "7LZ032RA    0.923077\n",
       "7LZ029KM    0.923077\n",
       "NB120H9S    0.923077\n",
       "NB1206GH    0.923077\n",
       "7QT01D0F    0.923077\n",
       "7QT01BPW    0.923077\n",
       "7QT00H3G    0.923077\n",
       "7LZ047MH    0.923077\n",
       "7LZ045BC    0.923077\n",
       "7LZ044SF    0.923077\n",
       "7LZ036NC    0.923077\n",
       "7LZ036LY    0.923077\n",
       "7LZ02ZPX    0.923077\n",
       "dtype: float64"
      ]
     },
     "execution_count": 9,
     "metadata": {},
     "output_type": "execute_result"
    }
   ],
   "source": [
    "# how much data is missing, device-wise and feature-wise \n",
    "serialwise_featurewise_pct_nans = df[df['serial_number'].isin(working_serials)][['serial_number']+smart_cols]\\\n",
    "        .groupby('serial_number')\\\n",
    "        .apply(lambda x: x.isna().mean())\\\n",
    "        .compute()\n",
    "\n",
    "mean_serialwise_pct_nans = serialwise_featurewise_pct_nans.mean(axis=1).sort_values(ascending=False)\n",
    "mean_serialwise_pct_nans.head(15)"
   ]
  },
  {
   "cell_type": "code",
   "execution_count": 10,
   "metadata": {
    "ExecuteTime": {
     "end_time": "2020-12-03T16:59:39.084119Z",
     "start_time": "2020-12-03T16:58:50.401041Z"
    },
    "code_folding": [
     0
    ]
   },
   "outputs": [
    {
     "name": "stdout",
     "output_type": "stream",
     "text": [
      "[########################################] | 100% Completed | 48.5s\n"
     ]
    }
   ],
   "source": [
    "# downsample working drives data - randomly select for now, use clustering in\n",
    "# later improvement iterations\n",
    "pct_working_to_keep = 0.00125\n",
    "num_working_to_keep = int(pct_working_to_keep*len(working_serials))\n",
    "\n",
    "# keep devices that have no missing data\n",
    "working_ts_df = df[\n",
    "    df['serial_number'].isin(\n",
    "        mean_serialwise_pct_nans[mean_serialwise_pct_nans==0].index[:num_working_to_keep]\n",
    "    )\n",
    "][meta_cols + smart_cols].compute()"
   ]
  },
  {
   "cell_type": "code",
   "execution_count": 11,
   "metadata": {
    "ExecuteTime": {
     "end_time": "2020-12-03T16:59:39.088758Z",
     "start_time": "2020-12-03T16:59:39.085595Z"
    },
    "code_folding": [
     0
    ]
   },
   "outputs": [
    {
     "data": {
      "text/plain": [
       "((12405, 17), (11735, 17))"
      ]
     },
     "execution_count": 11,
     "metadata": {},
     "output_type": "execute_result"
    }
   ],
   "source": [
    "# amount of clean data left to work with\n",
    "working_ts_df.shape, failed_ts_df.shape"
   ]
  },
  {
   "cell_type": "code",
   "execution_count": 12,
   "metadata": {
    "ExecuteTime": {
     "end_time": "2020-12-03T17:00:28.780405Z",
     "start_time": "2020-12-03T16:59:39.089793Z"
    },
    "code_folding": [
     0
    ]
   },
   "outputs": [
    {
     "name": "stdout",
     "output_type": "stream",
     "text": [
      "[########################################] | 100% Completed | 49.7s\n"
     ]
    },
    {
     "data": {
      "text/plain": [
       "((12242, 131),)"
      ]
     },
     "execution_count": 12,
     "metadata": {},
     "output_type": "execute_result"
    }
   ],
   "source": [
    "# how much failing drive data do we lose?\n",
    "dd.compute(df[df['serial_number'].isin(failed_serials)].shape)"
   ]
  },
  {
   "cell_type": "code",
   "execution_count": 13,
   "metadata": {
    "ExecuteTime": {
     "end_time": "2020-12-03T17:00:28.783770Z",
     "start_time": "2020-12-03T17:00:28.781778Z"
    }
   },
   "outputs": [],
   "source": [
    "# wont need dask anymore\n",
    "pbar.unregister()"
   ]
  },
  {
   "cell_type": "markdown",
   "metadata": {},
   "source": [
    "## Results\n",
    "\n",
    "By dropping nans, we only lost about 4% of the data (for failed hard drives). Since this does not seem like a completely unreasonable number, we won't do any other data cleaning gymnastics here. The data that we have now is clean and ready for building forecasting models."
   ]
  },
  {
   "cell_type": "markdown",
   "metadata": {},
   "source": [
    "# Build Forecasting Models\n",
    "\n",
    "In this section we will create forecasting models using the clean data from above section. You can play around with the these variables in the cell below to configure the prediction settings.\n",
    "\n",
    "- `Y_COLS`: The metric to forecast. Since smart 5 was determined to be a valueable indicator of failure, we'll use smart 5 as the default.\n",
    "- `X_COLS`: Other features available. Some time series models can make use of other features too for generating a forecast. We will use smart 10, 187, 188, 197 and 198 as these additional features. These were determined to be useful from Google research, IBM research, backblaze, and the smart metrics wiki.\n",
    "- `NDAYS_DATA`: How many days of data available in at runtime. Since the `diskprediction_local` module of ceph stores only 6 days of smart data, our models will only have that much data available.\n",
    "- `NDAYS_TO_PREDICT`: How many days into the future to forecast. Since we have a short amount of historical data, we will be forecasting for a short period too."
   ]
  },
  {
   "cell_type": "code",
   "execution_count": 14,
   "metadata": {
    "ExecuteTime": {
     "end_time": "2020-12-03T17:00:28.790685Z",
     "start_time": "2020-12-03T17:00:28.784804Z"
    },
    "code_folding": []
   },
   "outputs": [],
   "source": [
    "# training setup config\n",
    "Y_COLS = ['smart_5_normalized']\n",
    "y_smart_stats = set([col.split('_')[1] for col in Y_COLS])\n",
    "\n",
    "X_COLS = [c for c in smart_cols if c.split('_')[1] not in y_smart_stats]\n",
    "\n",
    "NDAYS_DATA = 6\n",
    "NDAYS_TO_PREDICT = 6"
   ]
  },
  {
   "cell_type": "code",
   "execution_count": 15,
   "metadata": {
    "ExecuteTime": {
     "end_time": "2020-12-03T17:00:28.810861Z",
     "start_time": "2020-12-03T17:00:28.791724Z"
    }
   },
   "outputs": [],
   "source": [
    "# set date column as index\n",
    "working_ts_df = working_ts_df.set_index('date')\n",
    "failed_ts_df = failed_ts_df.set_index('date')"
   ]
  },
  {
   "cell_type": "markdown",
   "metadata": {},
   "source": [
    "## Baseline\n",
    "\n",
    "In this section we will fit baseline models for the forecasting task. We will compare the performance of the ML models with this baseline to gauge how informative are the models. The baseline model here is one that predicts the next N days will be the same as today."
   ]
  },
  {
   "cell_type": "code",
   "execution_count": 16,
   "metadata": {
    "ExecuteTime": {
     "end_time": "2020-12-03T17:00:28.815508Z",
     "start_time": "2020-12-03T17:00:28.811914Z"
    },
    "code_folding": [
     0
    ]
   },
   "outputs": [],
   "source": [
    "def get_baseline_mses_windowwise(drive_ts):\n",
    "    \"\"\"\n",
    "    Predict the next N days the value will be same as today.\n",
    "    Calculate MSE at the end of each training window\n",
    "    \"\"\"\n",
    "    mses = pd.Series(index=drive_ts.index)\n",
    "    for end_idx in range(NDAYS_DATA-1, len(drive_ts)):\n",
    "        mses.iloc[end_idx] = ((drive_ts[Y_COLS[0]].iloc[end_idx+1: end_idx+1+NDAYS_TO_PREDICT] - drive_ts[Y_COLS[0]].iloc[end_idx])**2).mean()\n",
    "        \n",
    "    return mses"
   ]
  },
  {
   "cell_type": "markdown",
   "metadata": {},
   "source": [
    "### Failed Drives"
   ]
  },
  {
   "cell_type": "code",
   "execution_count": 17,
   "metadata": {
    "ExecuteTime": {
     "end_time": "2020-12-03T17:00:33.623366Z",
     "start_time": "2020-12-03T17:00:28.816527Z"
    },
    "code_folding": [
     0
    ]
   },
   "outputs": [
    {
     "name": "stdout",
     "output_type": "stream",
     "text": [
      "MSE for each drive for each train-forecast window:\n",
      "\n",
      " serial_number  date      \n",
      "S300WFGR       2020-07-01   NaN\n",
      "               2020-07-02   NaN\n",
      "S300Z4TZ       2020-07-01   NaN\n",
      "               2020-07-02   NaN\n",
      "               2020-07-03   NaN\n",
      "                             ..\n",
      "ZLW0GPC5       2020-07-01   NaN\n",
      "               2020-07-02   NaN\n",
      "               2020-07-03   NaN\n",
      "               2020-07-04   NaN\n",
      "               2020-07-05   NaN\n",
      "Length: 11735, dtype: float64\n",
      "\n",
      "Average MSE for each drive:\n",
      "\n",
      " serial_number\n",
      "S300WFGR          NaN\n",
      "S300Z4TZ     0.031410\n",
      "S300Z7P1     0.000000\n",
      "S301FDQW    10.322619\n",
      "S301GMWQ     0.000000\n",
      "              ...    \n",
      "ZLW0G6CE     0.000000\n",
      "ZLW0G6FJ          NaN\n",
      "ZLW0GK7E     0.000000\n",
      "ZLW0GKE4     0.000000\n",
      "ZLW0GPC5          NaN\n",
      "Length: 272, dtype: float64\n",
      "\n"
     ]
    }
   ],
   "source": [
    "# calculate baseline\n",
    "baseline_mses = failed_ts_df.groupby('serial_number').apply(get_baseline_mses_windowwise)\n",
    "\n",
    "# df to store all results\n",
    "all_mses = baseline_mses.to_frame('mse_baseline')\n",
    "\n",
    "# mse on each day\n",
    "print('MSE for each drive for each train-forecast window:\\n\\n', baseline_mses, end='\\n\\n')\n",
    "\n",
    "# average mse across days\n",
    "print('Average MSE for each drive:\\n\\n', baseline_mses.mean(level=0), end='\\n\\n')"
   ]
  },
  {
   "cell_type": "code",
   "execution_count": 18,
   "metadata": {
    "ExecuteTime": {
     "end_time": "2020-12-03T17:00:52.914452Z",
     "start_time": "2020-12-03T17:00:33.624825Z"
    },
    "code_folding": [
     0
    ]
   },
   "outputs": [
    {
     "data": {
      "image/png": "[encoded data removed]",
      "text/plain": [
       "<Figure size 432x288 with 1 Axes>"
      ]
     },
     "metadata": {},
     "output_type": "display_data"
    },
    {
     "data": {
      "image/png": "[encoded data removed]",
      "text/plain": [
       "<Figure size 432x288 with 1 Axes>"
      ]
     },
     "metadata": {},
     "output_type": "display_data"
    },
    {
     "data": {
      "image/png": "[encoded data removed]",
      "text/plain": [
       "<Figure size 432x288 with 1 Axes>"
      ]
     },
     "metadata": {},
     "output_type": "display_data"
    },
    {
     "data": {
      "image/png": "[encoded data removed]",
      "text/plain": [
       "<Figure size 432x288 with 1 Axes>"
      ]
     },
     "metadata": {},
     "output_type": "display_data"
    },
    {
     "data": {
      "image/png": "[encoded data removed]",
      "text/plain": [
       "<Figure size 432x288 with 1 Axes>"
      ]
     },
     "metadata": {},
     "output_type": "display_data"
    },
    {
     "data": {
      "image/png": "[encoded data removed]",
      "text/plain": [
       "<Figure size 432x288 with 1 Axes>"
      ]
     },
     "metadata": {},
     "output_type": "display_data"
    },
    {
     "data": {
      "image/png": "[encoded data removed]",
      "text/plain": [
       "<Figure size 432x288 with 1 Axes>"
      ]
     },
     "metadata": {},
     "output_type": "display_data"
    },
    {
     "data": {
      "image/png": "[encoded data removed]",
      "text/plain": [
       "<Figure size 432x288 with 1 Axes>"
      ]
     },
     "metadata": {},
     "output_type": "display_data"
    },
    {
     "data": {
      "image/png": "[encoded data removed]",
      "text/plain": [
       "<Figure size 432x288 with 1 Axes>"
      ]
     },
     "metadata": {},
     "output_type": "display_data"
    },
    {
     "data": {
      "image/png": "[encoded data removed]",
      "text/plain": [
       "<Figure size 432x288 with 1 Axes>"
      ]
     },
     "metadata": {},
     "output_type": "display_data"
    },
    {
     "data": {
      "image/png": "[encoded data removed]",
      "text/plain": [
       "<Figure size 432x288 with 1 Axes>"
      ]
     },
     "metadata": {},
     "output_type": "display_data"
    },
    {
     "data": {
      "image/png": "[encoded data removed]",
      "text/plain": [
       "<Figure size 432x288 with 1 Axes>"
      ]
     },
     "metadata": {},
     "output_type": "display_data"
    },
    {
     "data": {
      "image/png": "[encoded data removed]",
      "text/plain": [
       "<Figure size 432x288 with 1 Axes>"
      ]
     },
     "metadata": {},
     "output_type": "display_data"
    },
    {
     "data": {
      "image/png": "[encoded data removed]",
      "text/plain": [
       "<Figure size 432x288 with 1 Axes>"
      ]
     },
     "metadata": {},
     "output_type": "display_data"
    },
    {
     "data": {
      "image/png": "[encoded data removed]",
      "text/plain": [
       "<Figure size 432x288 with 1 Axes>"
      ]
     },
     "metadata": {},
     "output_type": "display_data"
    }
   ],
   "source": [
    "# visualize how mses change over time when using baseline strategy\n",
    "i = 0\n",
    "to_plot = 15\n",
    "for ser in baseline_mses.index.get_level_values(0).unique():\n",
    "    # get mse for each day/window\n",
    "    ser_mses = baseline_mses.loc[ser]\n",
    "    \n",
    "    # dont plot if all nans\n",
    "    if not ser_mses.isna().all():\n",
    "    \n",
    "        # dont plot if the metric to predict has had the same value till fail\n",
    "        if failed_ts_df[failed_ts_df['serial_number']==ser][Y_COLS[0]].std():\n",
    "            sns.lineplot(\n",
    "                x=ser_mses.index,\n",
    "                y=ser_mses.values,\n",
    "            )\n",
    "            plt.title(ser)\n",
    "            plt.ylabel('MSE')\n",
    "            plt.xticks(rotation=90)\n",
    "            plt.show()\n",
    "            \n",
    "            # dont plot everything\n",
    "            i += 1\n",
    "            if i==to_plot:\n",
    "                break"
   ]
  },
  {
   "cell_type": "markdown",
   "metadata": {},
   "source": [
    "### Results\n",
    "\n",
    "From the above graphs, we can see that the baseline strategy works fine when the hard drive is healthy i.e. shows no symptoms of failure. However, as it approaches end of life the error in baseline model predictions rises significantly. So it might seem like a good strategy but it actually provides very little information when it is needed the most."
   ]
  },
  {
   "cell_type": "markdown",
   "metadata": {},
   "source": [
    "### Working Drives"
   ]
  },
  {
   "cell_type": "code",
   "execution_count": 19,
   "metadata": {
    "ExecuteTime": {
     "end_time": "2020-12-03T17:00:58.221147Z",
     "start_time": "2020-12-03T17:00:52.915827Z"
    },
    "code_folding": [
     0
    ]
   },
   "outputs": [
    {
     "name": "stdout",
     "output_type": "stream",
     "text": [
      "MSE for each drive for each train-forecast window:\n",
      "\n",
      " serial_number  date      \n",
      "S300VKRB       2020-07-01   NaN\n",
      "               2020-07-02   NaN\n",
      "               2020-07-03   NaN\n",
      "               2020-07-04   NaN\n",
      "               2020-07-05   NaN\n",
      "                             ..\n",
      "ZR50121P       2020-09-26   NaN\n",
      "               2020-09-27   NaN\n",
      "               2020-09-28   NaN\n",
      "               2020-09-29   NaN\n",
      "               2020-09-30   NaN\n",
      "Length: 12405, dtype: float64\n",
      "\n",
      "Average MSE for each drive:\n",
      "\n",
      " serial_number\n",
      "S300VKRB    0.0\n",
      "S300VLKS    0.0\n",
      "S300WE24    0.0\n",
      "S300WE6K    0.0\n",
      "S300WEAV    0.0\n",
      "           ... \n",
      "ZHZ656DW    0.0\n",
      "ZHZ65C16    0.0\n",
      "ZJV009E3    0.0\n",
      "ZJV00AR3    0.0\n",
      "ZR50121P    NaN\n",
      "Length: 136, dtype: float64\n",
      "\n"
     ]
    }
   ],
   "source": [
    "# calculate baseline for healthy drives\n",
    "baseline_mses_working = working_ts_df.groupby('serial_number').apply(get_baseline_mses_windowwise)\n",
    "\n",
    "# df to store all results\n",
    "all_mses_working = baseline_mses_working.to_frame('mse_baseline')\n",
    "\n",
    "# mse on each day\n",
    "print('MSE for each drive for each train-forecast window:\\n\\n', baseline_mses_working, end='\\n\\n')\n",
    "\n",
    "# average mse across days\n",
    "print('Average MSE for each drive:\\n\\n', baseline_mses_working.mean(level=0), end='\\n\\n')"
   ]
  },
  {
   "cell_type": "code",
   "execution_count": 20,
   "metadata": {
    "ExecuteTime": {
     "end_time": "2020-12-03T17:00:58.228209Z",
     "start_time": "2020-12-03T17:00:58.223090Z"
    },
    "code_folding": [
     0
    ]
   },
   "outputs": [
    {
     "data": {
      "text/plain": [
       "0.040697674418604654"
      ]
     },
     "execution_count": 20,
     "metadata": {},
     "output_type": "execute_result"
    }
   ],
   "source": [
    "# what is the WORST average mse using baseline strategy\n",
    "baseline_mses_working.mean(level=0).max()"
   ]
  },
  {
   "cell_type": "markdown",
   "metadata": {},
   "source": [
    "### Results\n",
    "\n",
    "From the above results, it seems that baseline model works extremely well for healthy drives (MSE=0 for most hard drives). The graphs in the section above also indicated the same thing - there is barely any unexpected change in these SMART metrics when the drive is healthy. Therefore in the following sections we will evaluate models only on failed data, since any model would likely be decently performant (if not perfect) for healthy drives. "
   ]
  },
  {
   "cell_type": "markdown",
   "metadata": {},
   "source": [
    "## Linear Regression"
   ]
  },
  {
   "cell_type": "code",
   "execution_count": 21,
   "metadata": {
    "ExecuteTime": {
     "end_time": "2020-12-03T17:01:23.801252Z",
     "start_time": "2020-12-03T17:00:58.229515Z"
    },
    "code_folding": [
     0
    ]
   },
   "outputs": [],
   "source": [
    "# calculate windowwise mse for ols model for each drive\n",
    "def get_linreg_mses_windowwise(drive_ts):\n",
    "    # define model\n",
    "    model = LinearRegression(\n",
    "        normalize=True,\n",
    "    )\n",
    "\n",
    "    # create dummy exogenous variable (train)\n",
    "    dummy_xtrain = np.arange(start=0, stop=NDAYS_DATA).reshape(-1, 1)\n",
    "    \n",
    "    mses = pd.Series(index=drive_ts.index)\n",
    "    for end_idx in range(NDAYS_DATA-1, len(drive_ts)-1):\n",
    "        # create dummy exogenous variable (test)\n",
    "        dummy_xtest = np.arange(\n",
    "            start=NDAYS_DATA, \n",
    "            stop=NDAYS_DATA + min(NDAYS_TO_PREDICT, len(drive_ts)-end_idx-1),\n",
    "        ).reshape(-1, 1)\n",
    "\n",
    "        # fit model\n",
    "        model.fit(\n",
    "            X=dummy_xtrain,\n",
    "            y=drive_ts[[Y_COLS[0]]].iloc[end_idx+1-NDAYS_DATA: end_idx+1],\n",
    "        )\n",
    "        \n",
    "        # predict and get mse\n",
    "        preds = model.predict(dummy_xtest).flatten()\n",
    "        mses.iloc[end_idx] = ((drive_ts[Y_COLS[0]].iloc[end_idx+1: end_idx+1+NDAYS_TO_PREDICT] - preds)**2).mean()\n",
    "    return mses\n",
    "\n",
    "windowwise_mses = failed_ts_df.groupby('serial_number').apply(get_linreg_mses_windowwise)"
   ]
  },
  {
   "cell_type": "code",
   "execution_count": 22,
   "metadata": {
    "ExecuteTime": {
     "end_time": "2020-12-03T17:01:23.828549Z",
     "start_time": "2020-12-03T17:01:23.803067Z"
    },
    "code_folding": [
     0
    ]
   },
   "outputs": [
    {
     "name": "stdout",
     "output_type": "stream",
     "text": [
      "MSE for each drive for each train-forecast window:\n"
     ]
    },
    {
     "data": {
      "text/html": [
       "<div>\n",
       "<style scoped>\n",
       "    .dataframe tbody tr th:only-of-type {\n",
       "        vertical-align: middle;\n",
       "    }\n",
       "\n",
       "    .dataframe tbody tr th {\n",
       "        vertical-align: top;\n",
       "    }\n",
       "\n",
       "    .dataframe thead th {\n",
       "        text-align: right;\n",
       "    }\n",
       "</style>\n",
       "<table border=\"1\" class=\"dataframe\">\n",
       "  <thead>\n",
       "    <tr style=\"text-align: right;\">\n",
       "      <th></th>\n",
       "      <th></th>\n",
       "      <th>mse_baseline</th>\n",
       "      <th>mse_linreg</th>\n",
       "    </tr>\n",
       "    <tr>\n",
       "      <th>serial_number</th>\n",
       "      <th>date</th>\n",
       "      <th></th>\n",
       "      <th></th>\n",
       "    </tr>\n",
       "  </thead>\n",
       "  <tbody>\n",
       "    <tr>\n",
       "      <th rowspan=\"2\" valign=\"top\">S300WFGR</th>\n",
       "      <th>2020-07-01</th>\n",
       "      <td>NaN</td>\n",
       "      <td>NaN</td>\n",
       "    </tr>\n",
       "    <tr>\n",
       "      <th>2020-07-02</th>\n",
       "      <td>NaN</td>\n",
       "      <td>NaN</td>\n",
       "    </tr>\n",
       "    <tr>\n",
       "      <th rowspan=\"3\" valign=\"top\">S300Z4TZ</th>\n",
       "      <th>2020-07-01</th>\n",
       "      <td>NaN</td>\n",
       "      <td>NaN</td>\n",
       "    </tr>\n",
       "    <tr>\n",
       "      <th>2020-07-02</th>\n",
       "      <td>NaN</td>\n",
       "      <td>NaN</td>\n",
       "    </tr>\n",
       "    <tr>\n",
       "      <th>2020-07-03</th>\n",
       "      <td>NaN</td>\n",
       "      <td>NaN</td>\n",
       "    </tr>\n",
       "    <tr>\n",
       "      <th>...</th>\n",
       "      <th>...</th>\n",
       "      <td>...</td>\n",
       "      <td>...</td>\n",
       "    </tr>\n",
       "    <tr>\n",
       "      <th rowspan=\"5\" valign=\"top\">ZLW0GPC5</th>\n",
       "      <th>2020-07-01</th>\n",
       "      <td>NaN</td>\n",
       "      <td>NaN</td>\n",
       "    </tr>\n",
       "    <tr>\n",
       "      <th>2020-07-02</th>\n",
       "      <td>NaN</td>\n",
       "      <td>NaN</td>\n",
       "    </tr>\n",
       "    <tr>\n",
       "      <th>2020-07-03</th>\n",
       "      <td>NaN</td>\n",
       "      <td>NaN</td>\n",
       "    </tr>\n",
       "    <tr>\n",
       "      <th>2020-07-04</th>\n",
       "      <td>NaN</td>\n",
       "      <td>NaN</td>\n",
       "    </tr>\n",
       "    <tr>\n",
       "      <th>2020-07-05</th>\n",
       "      <td>NaN</td>\n",
       "      <td>NaN</td>\n",
       "    </tr>\n",
       "  </tbody>\n",
       "</table>\n",
       "<p>11735 rows × 2 columns</p>\n",
       "</div>"
      ],
      "text/plain": [
       "                          mse_baseline  mse_linreg\n",
       "serial_number date                                \n",
       "S300WFGR      2020-07-01           NaN         NaN\n",
       "              2020-07-02           NaN         NaN\n",
       "S300Z4TZ      2020-07-01           NaN         NaN\n",
       "              2020-07-02           NaN         NaN\n",
       "              2020-07-03           NaN         NaN\n",
       "...                                ...         ...\n",
       "ZLW0GPC5      2020-07-01           NaN         NaN\n",
       "              2020-07-02           NaN         NaN\n",
       "              2020-07-03           NaN         NaN\n",
       "              2020-07-04           NaN         NaN\n",
       "              2020-07-05           NaN         NaN\n",
       "\n",
       "[11735 rows x 2 columns]"
      ]
     },
     "metadata": {},
     "output_type": "display_data"
    },
    {
     "name": "stdout",
     "output_type": "stream",
     "text": [
      "Avg. MSE for each drive:\n"
     ]
    },
    {
     "data": {
      "text/html": [
       "<div>\n",
       "<style scoped>\n",
       "    .dataframe tbody tr th:only-of-type {\n",
       "        vertical-align: middle;\n",
       "    }\n",
       "\n",
       "    .dataframe tbody tr th {\n",
       "        vertical-align: top;\n",
       "    }\n",
       "\n",
       "    .dataframe thead th {\n",
       "        text-align: right;\n",
       "    }\n",
       "</style>\n",
       "<table border=\"1\" class=\"dataframe\">\n",
       "  <thead>\n",
       "    <tr style=\"text-align: right;\">\n",
       "      <th></th>\n",
       "      <th>mse_baseline</th>\n",
       "      <th>mse_linreg</th>\n",
       "    </tr>\n",
       "    <tr>\n",
       "      <th>serial_number</th>\n",
       "      <th></th>\n",
       "      <th></th>\n",
       "    </tr>\n",
       "  </thead>\n",
       "  <tbody>\n",
       "    <tr>\n",
       "      <th>ZCH0EA28</th>\n",
       "      <td>381.806250</td>\n",
       "      <td>148.840343</td>\n",
       "    </tr>\n",
       "    <tr>\n",
       "      <th>ZCH0CCSY</th>\n",
       "      <td>736.158333</td>\n",
       "      <td>612.876751</td>\n",
       "    </tr>\n",
       "    <tr>\n",
       "      <th>ZJV5M9KA</th>\n",
       "      <td>460.544444</td>\n",
       "      <td>378.915628</td>\n",
       "    </tr>\n",
       "    <tr>\n",
       "      <th>ZCH074SE</th>\n",
       "      <td>169.000000</td>\n",
       "      <td>157.084444</td>\n",
       "    </tr>\n",
       "    <tr>\n",
       "      <th>ZA1819E9</th>\n",
       "      <td>11.441667</td>\n",
       "      <td>4.145687</td>\n",
       "    </tr>\n",
       "    <tr>\n",
       "      <th>...</th>\n",
       "      <td>...</td>\n",
       "      <td>...</td>\n",
       "    </tr>\n",
       "    <tr>\n",
       "      <th>ZHZ50G0W</th>\n",
       "      <td>NaN</td>\n",
       "      <td>NaN</td>\n",
       "    </tr>\n",
       "    <tr>\n",
       "      <th>ZHZ5W6L4</th>\n",
       "      <td>NaN</td>\n",
       "      <td>NaN</td>\n",
       "    </tr>\n",
       "    <tr>\n",
       "      <th>ZL005C4H</th>\n",
       "      <td>NaN</td>\n",
       "      <td>NaN</td>\n",
       "    </tr>\n",
       "    <tr>\n",
       "      <th>ZLW0G6FJ</th>\n",
       "      <td>NaN</td>\n",
       "      <td>NaN</td>\n",
       "    </tr>\n",
       "    <tr>\n",
       "      <th>ZLW0GPC5</th>\n",
       "      <td>NaN</td>\n",
       "      <td>NaN</td>\n",
       "    </tr>\n",
       "  </tbody>\n",
       "</table>\n",
       "<p>272 rows × 2 columns</p>\n",
       "</div>"
      ],
      "text/plain": [
       "               mse_baseline  mse_linreg\n",
       "serial_number                          \n",
       "ZCH0EA28         381.806250  148.840343\n",
       "ZCH0CCSY         736.158333  612.876751\n",
       "ZJV5M9KA         460.544444  378.915628\n",
       "ZCH074SE         169.000000  157.084444\n",
       "ZA1819E9          11.441667    4.145687\n",
       "...                     ...         ...\n",
       "ZHZ50G0W                NaN         NaN\n",
       "ZHZ5W6L4                NaN         NaN\n",
       "ZL005C4H                NaN         NaN\n",
       "ZLW0G6FJ                NaN         NaN\n",
       "ZLW0GPC5                NaN         NaN\n",
       "\n",
       "[272 rows x 2 columns]"
      ]
     },
     "metadata": {},
     "output_type": "display_data"
    },
    {
     "name": "stdout",
     "output_type": "stream",
     "text": [
      "Avg. Improvement = 1.5228603706772657\n"
     ]
    }
   ],
   "source": [
    "# update all results df and compare\n",
    "all_mses['mse_linreg'] = windowwise_mses\n",
    "\n",
    "# mse on each day\n",
    "print('MSE for each drive for each train-forecast window:')\n",
    "display(all_mses[['mse_baseline', 'mse_linreg']])\n",
    "\n",
    "# average mse across days\n",
    "mean_mses = all_mses[['mse_baseline', 'mse_linreg']].groupby('serial_number').mean()\n",
    "\n",
    "# improvement over baseline\n",
    "diff = mean_mses['mse_linreg']-mean_mses['mse_baseline']\n",
    "mean_mses = mean_mses.reindex(diff.sort_values().index)\n",
    "print('Avg. MSE for each drive:')\n",
    "display(mean_mses)\n",
    "\n",
    "# average overall improvement over baseline\n",
    "print('Avg. Improvement =', -diff.mean())"
   ]
  },
  {
   "cell_type": "code",
   "execution_count": 23,
   "metadata": {
    "ExecuteTime": {
     "end_time": "2020-12-03T17:01:23.837589Z",
     "start_time": "2020-12-03T17:01:23.831178Z"
    },
    "code_folding": [
     0
    ]
   },
   "outputs": [
    {
     "data": {
      "text/html": [
       "<div>\n",
       "<style scoped>\n",
       "    .dataframe tbody tr th:only-of-type {\n",
       "        vertical-align: middle;\n",
       "    }\n",
       "\n",
       "    .dataframe tbody tr th {\n",
       "        vertical-align: top;\n",
       "    }\n",
       "\n",
       "    .dataframe thead th {\n",
       "        text-align: right;\n",
       "    }\n",
       "</style>\n",
       "<table border=\"1\" class=\"dataframe\">\n",
       "  <thead>\n",
       "    <tr style=\"text-align: right;\">\n",
       "      <th></th>\n",
       "      <th>mse_baseline</th>\n",
       "      <th>mse_linreg</th>\n",
       "    </tr>\n",
       "    <tr>\n",
       "      <th>date</th>\n",
       "      <th></th>\n",
       "      <th></th>\n",
       "    </tr>\n",
       "  </thead>\n",
       "  <tbody>\n",
       "    <tr>\n",
       "      <th>2020-07-01</th>\n",
       "      <td>NaN</td>\n",
       "      <td>NaN</td>\n",
       "    </tr>\n",
       "    <tr>\n",
       "      <th>2020-07-02</th>\n",
       "      <td>NaN</td>\n",
       "      <td>NaN</td>\n",
       "    </tr>\n",
       "    <tr>\n",
       "      <th>2020-07-03</th>\n",
       "      <td>NaN</td>\n",
       "      <td>NaN</td>\n",
       "    </tr>\n",
       "    <tr>\n",
       "      <th>2020-07-04</th>\n",
       "      <td>NaN</td>\n",
       "      <td>NaN</td>\n",
       "    </tr>\n",
       "    <tr>\n",
       "      <th>2020-07-05</th>\n",
       "      <td>NaN</td>\n",
       "      <td>NaN</td>\n",
       "    </tr>\n",
       "    <tr>\n",
       "      <th>2020-07-06</th>\n",
       "      <td>958.666667</td>\n",
       "      <td>57.512789</td>\n",
       "    </tr>\n",
       "    <tr>\n",
       "      <th>2020-07-07</th>\n",
       "      <td>973.333333</td>\n",
       "      <td>59.737506</td>\n",
       "    </tr>\n",
       "    <tr>\n",
       "      <th>2020-07-08</th>\n",
       "      <td>479.833333</td>\n",
       "      <td>227.104444</td>\n",
       "    </tr>\n",
       "    <tr>\n",
       "      <th>2020-07-09</th>\n",
       "      <td>122.200000</td>\n",
       "      <td>473.360000</td>\n",
       "    </tr>\n",
       "    <tr>\n",
       "      <th>2020-07-10</th>\n",
       "      <td>152.750000</td>\n",
       "      <td>274.646825</td>\n",
       "    </tr>\n",
       "    <tr>\n",
       "      <th>2020-07-11</th>\n",
       "      <td>203.666667</td>\n",
       "      <td>92.501769</td>\n",
       "    </tr>\n",
       "    <tr>\n",
       "      <th>2020-07-12</th>\n",
       "      <td>148.000000</td>\n",
       "      <td>1.859410</td>\n",
       "    </tr>\n",
       "    <tr>\n",
       "      <th>2020-07-13</th>\n",
       "      <td>16.000000</td>\n",
       "      <td>4.000000</td>\n",
       "    </tr>\n",
       "    <tr>\n",
       "      <th>2020-07-14</th>\n",
       "      <td>NaN</td>\n",
       "      <td>NaN</td>\n",
       "    </tr>\n",
       "  </tbody>\n",
       "</table>\n",
       "</div>"
      ],
      "text/plain": [
       "            mse_baseline  mse_linreg\n",
       "date                                \n",
       "2020-07-01           NaN         NaN\n",
       "2020-07-02           NaN         NaN\n",
       "2020-07-03           NaN         NaN\n",
       "2020-07-04           NaN         NaN\n",
       "2020-07-05           NaN         NaN\n",
       "2020-07-06    958.666667   57.512789\n",
       "2020-07-07    973.333333   59.737506\n",
       "2020-07-08    479.833333  227.104444\n",
       "2020-07-09    122.200000  473.360000\n",
       "2020-07-10    152.750000  274.646825\n",
       "2020-07-11    203.666667   92.501769\n",
       "2020-07-12    148.000000    1.859410\n",
       "2020-07-13     16.000000    4.000000\n",
       "2020-07-14           NaN         NaN"
      ]
     },
     "execution_count": 23,
     "metadata": {},
     "output_type": "execute_result"
    }
   ],
   "source": [
    "# peek at drive with most improvement\n",
    "all_mses.loc[mean_mses.iloc[0].name]"
   ]
  },
  {
   "cell_type": "markdown",
   "metadata": {},
   "source": [
    "## Lasso"
   ]
  },
  {
   "cell_type": "code",
   "execution_count": null,
   "metadata": {
    "ExecuteTime": {
     "end_time": "2020-12-03T17:01:55.159280Z",
     "start_time": "2020-12-03T17:01:23.838855Z"
    },
    "code_folding": [
     0
    ]
   },
   "outputs": [],
   "source": [
    "# calculate windowwise mse for lasso model for each drive\n",
    "def get_lasso_mses_windowwise(drive_ts):\n",
    "    # define model\n",
    "    model = Lasso(\n",
    "        normalize=True,\n",
    "        random_state=42,\n",
    "    )\n",
    "\n",
    "    # create dummy exogenous variable (train)\n",
    "    dummy_xtrain = np.arange(start=0, stop=NDAYS_DATA).reshape(-1, 1)\n",
    "    \n",
    "    mses = pd.Series(index=drive_ts.index)\n",
    "    for end_idx in range(NDAYS_DATA-1, len(drive_ts)-1):\n",
    "        # create dummy exogenous variable (test)\n",
    "        dummy_xtest = np.arange(\n",
    "            start=NDAYS_DATA, \n",
    "            stop=NDAYS_DATA + min(NDAYS_TO_PREDICT, len(drive_ts)-end_idx-1),\n",
    "        ).reshape(-1, 1)\n",
    "\n",
    "        # fit model\n",
    "        model.fit(\n",
    "            X=dummy_xtrain,\n",
    "            y=drive_ts[[Y_COLS[0]]].iloc[end_idx+1-NDAYS_DATA: end_idx+1],\n",
    "        )\n",
    "        \n",
    "        # predict and get mse\n",
    "        preds = model.predict(dummy_xtest).flatten()\n",
    "        mses.iloc[end_idx] = ((drive_ts[Y_COLS[0]].iloc[end_idx+1: end_idx+1+NDAYS_TO_PREDICT] - preds)**2).mean()\n",
    "    return mses\n",
    "\n",
    "windowwise_mses = failed_ts_df.groupby('serial_number').apply(get_lasso_mses_windowwise)"
   ]
  },
  {
   "cell_type": "code",
   "execution_count": 25,
   "metadata": {
    "ExecuteTime": {
     "end_time": "2020-12-03T17:01:55.190833Z",
     "start_time": "2020-12-03T17:01:55.161414Z"
    },
    "code_folding": [
     0
    ]
   },
   "outputs": [
    {
     "name": "stdout",
     "output_type": "stream",
     "text": [
      "MSE for each drive for each train-forecast window:\n"
     ]
    },
    {
     "data": {
      "text/html": [
       "<div>\n",
       "<style scoped>\n",
       "    .dataframe tbody tr th:only-of-type {\n",
       "        vertical-align: middle;\n",
       "    }\n",
       "\n",
       "    .dataframe tbody tr th {\n",
       "        vertical-align: top;\n",
       "    }\n",
       "\n",
       "    .dataframe thead th {\n",
       "        text-align: right;\n",
       "    }\n",
       "</style>\n",
       "<table border=\"1\" class=\"dataframe\">\n",
       "  <thead>\n",
       "    <tr style=\"text-align: right;\">\n",
       "      <th></th>\n",
       "      <th></th>\n",
       "      <th>mse_baseline</th>\n",
       "      <th>mse_lasso</th>\n",
       "    </tr>\n",
       "    <tr>\n",
       "      <th>serial_number</th>\n",
       "      <th>date</th>\n",
       "      <th></th>\n",
       "      <th></th>\n",
       "    </tr>\n",
       "  </thead>\n",
       "  <tbody>\n",
       "    <tr>\n",
       "      <th rowspan=\"2\" valign=\"top\">S300WFGR</th>\n",
       "      <th>2020-07-01</th>\n",
       "      <td>NaN</td>\n",
       "      <td>NaN</td>\n",
       "    </tr>\n",
       "    <tr>\n",
       "      <th>2020-07-02</th>\n",
       "      <td>NaN</td>\n",
       "      <td>NaN</td>\n",
       "    </tr>\n",
       "    <tr>\n",
       "      <th rowspan=\"3\" valign=\"top\">S300Z4TZ</th>\n",
       "      <th>2020-07-01</th>\n",
       "      <td>NaN</td>\n",
       "      <td>NaN</td>\n",
       "    </tr>\n",
       "    <tr>\n",
       "      <th>2020-07-02</th>\n",
       "      <td>NaN</td>\n",
       "      <td>NaN</td>\n",
       "    </tr>\n",
       "    <tr>\n",
       "      <th>2020-07-03</th>\n",
       "      <td>NaN</td>\n",
       "      <td>NaN</td>\n",
       "    </tr>\n",
       "    <tr>\n",
       "      <th>...</th>\n",
       "      <th>...</th>\n",
       "      <td>...</td>\n",
       "      <td>...</td>\n",
       "    </tr>\n",
       "    <tr>\n",
       "      <th rowspan=\"5\" valign=\"top\">ZLW0GPC5</th>\n",
       "      <th>2020-07-01</th>\n",
       "      <td>NaN</td>\n",
       "      <td>NaN</td>\n",
       "    </tr>\n",
       "    <tr>\n",
       "      <th>2020-07-02</th>\n",
       "      <td>NaN</td>\n",
       "      <td>NaN</td>\n",
       "    </tr>\n",
       "    <tr>\n",
       "      <th>2020-07-03</th>\n",
       "      <td>NaN</td>\n",
       "      <td>NaN</td>\n",
       "    </tr>\n",
       "    <tr>\n",
       "      <th>2020-07-04</th>\n",
       "      <td>NaN</td>\n",
       "      <td>NaN</td>\n",
       "    </tr>\n",
       "    <tr>\n",
       "      <th>2020-07-05</th>\n",
       "      <td>NaN</td>\n",
       "      <td>NaN</td>\n",
       "    </tr>\n",
       "  </tbody>\n",
       "</table>\n",
       "<p>11735 rows × 2 columns</p>\n",
       "</div>"
      ],
      "text/plain": [
       "                          mse_baseline  mse_lasso\n",
       "serial_number date                               \n",
       "S300WFGR      2020-07-01           NaN        NaN\n",
       "              2020-07-02           NaN        NaN\n",
       "S300Z4TZ      2020-07-01           NaN        NaN\n",
       "              2020-07-02           NaN        NaN\n",
       "              2020-07-03           NaN        NaN\n",
       "...                                ...        ...\n",
       "ZLW0GPC5      2020-07-01           NaN        NaN\n",
       "              2020-07-02           NaN        NaN\n",
       "              2020-07-03           NaN        NaN\n",
       "              2020-07-04           NaN        NaN\n",
       "              2020-07-05           NaN        NaN\n",
       "\n",
       "[11735 rows x 2 columns]"
      ]
     },
     "metadata": {},
     "output_type": "display_data"
    },
    {
     "name": "stdout",
     "output_type": "stream",
     "text": [
      "Avg. MSE for each drive:\n"
     ]
    },
    {
     "data": {
      "text/html": [
       "<div>\n",
       "<style scoped>\n",
       "    .dataframe tbody tr th:only-of-type {\n",
       "        vertical-align: middle;\n",
       "    }\n",
       "\n",
       "    .dataframe tbody tr th {\n",
       "        vertical-align: top;\n",
       "    }\n",
       "\n",
       "    .dataframe thead th {\n",
       "        text-align: right;\n",
       "    }\n",
       "</style>\n",
       "<table border=\"1\" class=\"dataframe\">\n",
       "  <thead>\n",
       "    <tr style=\"text-align: right;\">\n",
       "      <th></th>\n",
       "      <th>mse_baseline</th>\n",
       "      <th>mse_lasso</th>\n",
       "    </tr>\n",
       "    <tr>\n",
       "      <th>serial_number</th>\n",
       "      <th></th>\n",
       "      <th></th>\n",
       "    </tr>\n",
       "  </thead>\n",
       "  <tbody>\n",
       "    <tr>\n",
       "      <th>ZCH0EA28</th>\n",
       "      <td>381.806250</td>\n",
       "      <td>89.382469</td>\n",
       "    </tr>\n",
       "    <tr>\n",
       "      <th>ZJV5M9KA</th>\n",
       "      <td>460.544444</td>\n",
       "      <td>417.703068</td>\n",
       "    </tr>\n",
       "    <tr>\n",
       "      <th>ZCH0CCSY</th>\n",
       "      <td>736.158333</td>\n",
       "      <td>707.688888</td>\n",
       "    </tr>\n",
       "    <tr>\n",
       "      <th>S300Z4TZ</th>\n",
       "      <td>0.031410</td>\n",
       "      <td>0.031410</td>\n",
       "    </tr>\n",
       "    <tr>\n",
       "      <th>ZCH083F6</th>\n",
       "      <td>0.000000</td>\n",
       "      <td>0.000000</td>\n",
       "    </tr>\n",
       "    <tr>\n",
       "      <th>...</th>\n",
       "      <td>...</td>\n",
       "      <td>...</td>\n",
       "    </tr>\n",
       "    <tr>\n",
       "      <th>ZHZ50G0W</th>\n",
       "      <td>NaN</td>\n",
       "      <td>NaN</td>\n",
       "    </tr>\n",
       "    <tr>\n",
       "      <th>ZHZ5W6L4</th>\n",
       "      <td>NaN</td>\n",
       "      <td>NaN</td>\n",
       "    </tr>\n",
       "    <tr>\n",
       "      <th>ZL005C4H</th>\n",
       "      <td>NaN</td>\n",
       "      <td>NaN</td>\n",
       "    </tr>\n",
       "    <tr>\n",
       "      <th>ZLW0G6FJ</th>\n",
       "      <td>NaN</td>\n",
       "      <td>NaN</td>\n",
       "    </tr>\n",
       "    <tr>\n",
       "      <th>ZLW0GPC5</th>\n",
       "      <td>NaN</td>\n",
       "      <td>NaN</td>\n",
       "    </tr>\n",
       "  </tbody>\n",
       "</table>\n",
       "<p>272 rows × 2 columns</p>\n",
       "</div>"
      ],
      "text/plain": [
       "               mse_baseline   mse_lasso\n",
       "serial_number                          \n",
       "ZCH0EA28         381.806250   89.382469\n",
       "ZJV5M9KA         460.544444  417.703068\n",
       "ZCH0CCSY         736.158333  707.688888\n",
       "S300Z4TZ           0.031410    0.031410\n",
       "ZCH083F6           0.000000    0.000000\n",
       "...                     ...         ...\n",
       "ZHZ50G0W                NaN         NaN\n",
       "ZHZ5W6L4                NaN         NaN\n",
       "ZL005C4H                NaN         NaN\n",
       "ZLW0G6FJ                NaN         NaN\n",
       "ZLW0GPC5                NaN         NaN\n",
       "\n",
       "[272 rows x 2 columns]"
      ]
     },
     "metadata": {},
     "output_type": "display_data"
    },
    {
     "name": "stdout",
     "output_type": "stream",
     "text": [
      "Avg. Improvement = 0.1446787476441166\n"
     ]
    }
   ],
   "source": [
    "# update all results df and compare\n",
    "all_mses['mse_lasso'] = windowwise_mses\n",
    "\n",
    "# mse on each day\n",
    "print('MSE for each drive for each train-forecast window:')\n",
    "display(all_mses[['mse_baseline', 'mse_lasso']])\n",
    "\n",
    "# average mse across days\n",
    "mean_mses = all_mses[['mse_baseline', 'mse_lasso']].groupby('serial_number').mean()\n",
    "\n",
    "# improvement over baseline\n",
    "diff = mean_mses['mse_lasso']-mean_mses['mse_baseline']\n",
    "mean_mses = mean_mses.reindex(diff.sort_values().index)\n",
    "print('Avg. MSE for each drive:')\n",
    "display(mean_mses)\n",
    "\n",
    "# average overall improvement over baseline\n",
    "print('Avg. Improvement =', -diff.mean())"
   ]
  },
  {
   "cell_type": "code",
   "execution_count": 26,
   "metadata": {
    "ExecuteTime": {
     "end_time": "2020-12-03T17:01:55.201355Z",
     "start_time": "2020-12-03T17:01:55.192774Z"
    },
    "code_folding": [
     0
    ]
   },
   "outputs": [
    {
     "data": {
      "text/html": [
       "<div>\n",
       "<style scoped>\n",
       "    .dataframe tbody tr th:only-of-type {\n",
       "        vertical-align: middle;\n",
       "    }\n",
       "\n",
       "    .dataframe tbody tr th {\n",
       "        vertical-align: top;\n",
       "    }\n",
       "\n",
       "    .dataframe thead th {\n",
       "        text-align: right;\n",
       "    }\n",
       "</style>\n",
       "<table border=\"1\" class=\"dataframe\">\n",
       "  <thead>\n",
       "    <tr style=\"text-align: right;\">\n",
       "      <th></th>\n",
       "      <th>mse_baseline</th>\n",
       "      <th>mse_linreg</th>\n",
       "      <th>mse_lasso</th>\n",
       "    </tr>\n",
       "    <tr>\n",
       "      <th>date</th>\n",
       "      <th></th>\n",
       "      <th></th>\n",
       "      <th></th>\n",
       "    </tr>\n",
       "  </thead>\n",
       "  <tbody>\n",
       "    <tr>\n",
       "      <th>2020-07-01</th>\n",
       "      <td>NaN</td>\n",
       "      <td>NaN</td>\n",
       "      <td>NaN</td>\n",
       "    </tr>\n",
       "    <tr>\n",
       "      <th>2020-07-02</th>\n",
       "      <td>NaN</td>\n",
       "      <td>NaN</td>\n",
       "      <td>NaN</td>\n",
       "    </tr>\n",
       "    <tr>\n",
       "      <th>2020-07-03</th>\n",
       "      <td>NaN</td>\n",
       "      <td>NaN</td>\n",
       "      <td>NaN</td>\n",
       "    </tr>\n",
       "    <tr>\n",
       "      <th>2020-07-04</th>\n",
       "      <td>NaN</td>\n",
       "      <td>NaN</td>\n",
       "      <td>NaN</td>\n",
       "    </tr>\n",
       "    <tr>\n",
       "      <th>2020-07-05</th>\n",
       "      <td>NaN</td>\n",
       "      <td>NaN</td>\n",
       "      <td>NaN</td>\n",
       "    </tr>\n",
       "    <tr>\n",
       "      <th>2020-07-06</th>\n",
       "      <td>958.666667</td>\n",
       "      <td>57.512789</td>\n",
       "      <td>209.017283</td>\n",
       "    </tr>\n",
       "    <tr>\n",
       "      <th>2020-07-07</th>\n",
       "      <td>973.333333</td>\n",
       "      <td>59.737506</td>\n",
       "      <td>82.382696</td>\n",
       "    </tr>\n",
       "    <tr>\n",
       "      <th>2020-07-08</th>\n",
       "      <td>479.833333</td>\n",
       "      <td>227.104444</td>\n",
       "      <td>64.721416</td>\n",
       "    </tr>\n",
       "    <tr>\n",
       "      <th>2020-07-09</th>\n",
       "      <td>122.200000</td>\n",
       "      <td>473.360000</td>\n",
       "      <td>188.592501</td>\n",
       "    </tr>\n",
       "    <tr>\n",
       "      <th>2020-07-10</th>\n",
       "      <td>152.750000</td>\n",
       "      <td>274.646825</td>\n",
       "      <td>86.134941</td>\n",
       "    </tr>\n",
       "    <tr>\n",
       "      <th>2020-07-11</th>\n",
       "      <td>203.666667</td>\n",
       "      <td>92.501769</td>\n",
       "      <td>11.390482</td>\n",
       "    </tr>\n",
       "    <tr>\n",
       "      <th>2020-07-12</th>\n",
       "      <td>148.000000</td>\n",
       "      <td>1.859410</td>\n",
       "      <td>23.540592</td>\n",
       "    </tr>\n",
       "    <tr>\n",
       "      <th>2020-07-13</th>\n",
       "      <td>16.000000</td>\n",
       "      <td>4.000000</td>\n",
       "      <td>49.279841</td>\n",
       "    </tr>\n",
       "    <tr>\n",
       "      <th>2020-07-14</th>\n",
       "      <td>NaN</td>\n",
       "      <td>NaN</td>\n",
       "      <td>NaN</td>\n",
       "    </tr>\n",
       "  </tbody>\n",
       "</table>\n",
       "</div>"
      ],
      "text/plain": [
       "            mse_baseline  mse_linreg   mse_lasso\n",
       "date                                            \n",
       "2020-07-01           NaN         NaN         NaN\n",
       "2020-07-02           NaN         NaN         NaN\n",
       "2020-07-03           NaN         NaN         NaN\n",
       "2020-07-04           NaN         NaN         NaN\n",
       "2020-07-05           NaN         NaN         NaN\n",
       "2020-07-06    958.666667   57.512789  209.017283\n",
       "2020-07-07    973.333333   59.737506   82.382696\n",
       "2020-07-08    479.833333  227.104444   64.721416\n",
       "2020-07-09    122.200000  473.360000  188.592501\n",
       "2020-07-10    152.750000  274.646825   86.134941\n",
       "2020-07-11    203.666667   92.501769   11.390482\n",
       "2020-07-12    148.000000    1.859410   23.540592\n",
       "2020-07-13     16.000000    4.000000   49.279841\n",
       "2020-07-14           NaN         NaN         NaN"
      ]
     },
     "execution_count": 26,
     "metadata": {},
     "output_type": "execute_result"
    }
   ],
   "source": [
    "# peek at drive with most improvement\n",
    "all_mses.loc[mean_mses.iloc[0].name]"
   ]
  },
  {
   "cell_type": "markdown",
   "metadata": {},
   "source": [
    "## Bayesian Ridge Regression"
   ]
  },
  {
   "cell_type": "code",
   "execution_count": 27,
   "metadata": {
    "ExecuteTime": {
     "end_time": "2020-12-03T17:02:06.564387Z",
     "start_time": "2020-12-03T17:01:55.202569Z"
    },
    "code_folding": [
     0
    ]
   },
   "outputs": [],
   "source": [
    "# calculate windowwise mse for br model for each drive\n",
    "def get_br_mses_windowwise(drive_ts):\n",
    "    # define model\n",
    "    model = BayesianRidge(\n",
    "        normalize=True,\n",
    "    )\n",
    "\n",
    "    # create dummy exogenous variable (train)\n",
    "    dummy_xtrain = np.arange(start=0, stop=NDAYS_DATA).reshape(-1, 1)\n",
    "    \n",
    "    mses = pd.Series(index=drive_ts.index)\n",
    "    for end_idx in range(NDAYS_DATA-1, len(drive_ts)-1):\n",
    "        \n",
    "        # create dummy exogenous variable (test)\n",
    "        dummy_xtest = np.arange(\n",
    "            start=NDAYS_DATA, \n",
    "            stop=NDAYS_DATA + min(NDAYS_TO_PREDICT, len(drive_ts)-end_idx-1),\n",
    "        ).reshape(-1, 1)\n",
    "\n",
    "        # fit model\n",
    "        model.fit(\n",
    "            X=dummy_xtrain,\n",
    "            y=drive_ts[Y_COLS[0]].iloc[end_idx+1-NDAYS_DATA: end_idx+1],\n",
    "        )\n",
    "        \n",
    "        # predict and get mse\n",
    "        preds = model.predict(dummy_xtest).flatten()\n",
    "        \n",
    "        if np.isnan(preds).any():\n",
    "            pdb.set_trace()\n",
    "            \n",
    "        mses.iloc[end_idx] = ((drive_ts[Y_COLS[0]].iloc[end_idx+1: end_idx+1+NDAYS_TO_PREDICT] - preds)**2).mean()\n",
    "    return mses\n",
    "\n",
    "windowwise_mses = failed_ts_df.groupby('serial_number').apply(get_br_mses_windowwise)"
   ]
  },
  {
   "cell_type": "code",
   "execution_count": 28,
   "metadata": {
    "ExecuteTime": {
     "end_time": "2020-12-03T17:02:06.590114Z",
     "start_time": "2020-12-03T17:02:06.566187Z"
    },
    "code_folding": [
     0
    ]
   },
   "outputs": [
    {
     "name": "stdout",
     "output_type": "stream",
     "text": [
      "MSE for each drive for each train-forecast window:\n"
     ]
    },
    {
     "data": {
      "text/html": [
       "<div>\n",
       "<style scoped>\n",
       "    .dataframe tbody tr th:only-of-type {\n",
       "        vertical-align: middle;\n",
       "    }\n",
       "\n",
       "    .dataframe tbody tr th {\n",
       "        vertical-align: top;\n",
       "    }\n",
       "\n",
       "    .dataframe thead th {\n",
       "        text-align: right;\n",
       "    }\n",
       "</style>\n",
       "<table border=\"1\" class=\"dataframe\">\n",
       "  <thead>\n",
       "    <tr style=\"text-align: right;\">\n",
       "      <th></th>\n",
       "      <th></th>\n",
       "      <th>mse_baseline</th>\n",
       "      <th>mse_br</th>\n",
       "    </tr>\n",
       "    <tr>\n",
       "      <th>serial_number</th>\n",
       "      <th>date</th>\n",
       "      <th></th>\n",
       "      <th></th>\n",
       "    </tr>\n",
       "  </thead>\n",
       "  <tbody>\n",
       "    <tr>\n",
       "      <th rowspan=\"2\" valign=\"top\">S300WFGR</th>\n",
       "      <th>2020-07-01</th>\n",
       "      <td>NaN</td>\n",
       "      <td>NaN</td>\n",
       "    </tr>\n",
       "    <tr>\n",
       "      <th>2020-07-02</th>\n",
       "      <td>NaN</td>\n",
       "      <td>NaN</td>\n",
       "    </tr>\n",
       "    <tr>\n",
       "      <th rowspan=\"3\" valign=\"top\">S300Z4TZ</th>\n",
       "      <th>2020-07-01</th>\n",
       "      <td>NaN</td>\n",
       "      <td>NaN</td>\n",
       "    </tr>\n",
       "    <tr>\n",
       "      <th>2020-07-02</th>\n",
       "      <td>NaN</td>\n",
       "      <td>NaN</td>\n",
       "    </tr>\n",
       "    <tr>\n",
       "      <th>2020-07-03</th>\n",
       "      <td>NaN</td>\n",
       "      <td>NaN</td>\n",
       "    </tr>\n",
       "    <tr>\n",
       "      <th>...</th>\n",
       "      <th>...</th>\n",
       "      <td>...</td>\n",
       "      <td>...</td>\n",
       "    </tr>\n",
       "    <tr>\n",
       "      <th rowspan=\"5\" valign=\"top\">ZLW0GPC5</th>\n",
       "      <th>2020-07-01</th>\n",
       "      <td>NaN</td>\n",
       "      <td>NaN</td>\n",
       "    </tr>\n",
       "    <tr>\n",
       "      <th>2020-07-02</th>\n",
       "      <td>NaN</td>\n",
       "      <td>NaN</td>\n",
       "    </tr>\n",
       "    <tr>\n",
       "      <th>2020-07-03</th>\n",
       "      <td>NaN</td>\n",
       "      <td>NaN</td>\n",
       "    </tr>\n",
       "    <tr>\n",
       "      <th>2020-07-04</th>\n",
       "      <td>NaN</td>\n",
       "      <td>NaN</td>\n",
       "    </tr>\n",
       "    <tr>\n",
       "      <th>2020-07-05</th>\n",
       "      <td>NaN</td>\n",
       "      <td>NaN</td>\n",
       "    </tr>\n",
       "  </tbody>\n",
       "</table>\n",
       "<p>11735 rows × 2 columns</p>\n",
       "</div>"
      ],
      "text/plain": [
       "                          mse_baseline  mse_br\n",
       "serial_number date                            \n",
       "S300WFGR      2020-07-01           NaN     NaN\n",
       "              2020-07-02           NaN     NaN\n",
       "S300Z4TZ      2020-07-01           NaN     NaN\n",
       "              2020-07-02           NaN     NaN\n",
       "              2020-07-03           NaN     NaN\n",
       "...                                ...     ...\n",
       "ZLW0GPC5      2020-07-01           NaN     NaN\n",
       "              2020-07-02           NaN     NaN\n",
       "              2020-07-03           NaN     NaN\n",
       "              2020-07-04           NaN     NaN\n",
       "              2020-07-05           NaN     NaN\n",
       "\n",
       "[11735 rows x 2 columns]"
      ]
     },
     "metadata": {},
     "output_type": "display_data"
    },
    {
     "name": "stdout",
     "output_type": "stream",
     "text": [
      "Avg. MSE for each drive:\n"
     ]
    },
    {
     "data": {
      "text/html": [
       "<div>\n",
       "<style scoped>\n",
       "    .dataframe tbody tr th:only-of-type {\n",
       "        vertical-align: middle;\n",
       "    }\n",
       "\n",
       "    .dataframe tbody tr th {\n",
       "        vertical-align: top;\n",
       "    }\n",
       "\n",
       "    .dataframe thead th {\n",
       "        text-align: right;\n",
       "    }\n",
       "</style>\n",
       "<table border=\"1\" class=\"dataframe\">\n",
       "  <thead>\n",
       "    <tr style=\"text-align: right;\">\n",
       "      <th></th>\n",
       "      <th>mse_baseline</th>\n",
       "      <th>mse_br</th>\n",
       "    </tr>\n",
       "    <tr>\n",
       "      <th>serial_number</th>\n",
       "      <th></th>\n",
       "      <th></th>\n",
       "    </tr>\n",
       "  </thead>\n",
       "  <tbody>\n",
       "    <tr>\n",
       "      <th>ZCH0EA28</th>\n",
       "      <td>381.806250</td>\n",
       "      <td>142.547238</td>\n",
       "    </tr>\n",
       "    <tr>\n",
       "      <th>ZCH0CCSY</th>\n",
       "      <td>736.158333</td>\n",
       "      <td>635.306334</td>\n",
       "    </tr>\n",
       "    <tr>\n",
       "      <th>ZJV5M9KA</th>\n",
       "      <td>460.544444</td>\n",
       "      <td>400.676324</td>\n",
       "    </tr>\n",
       "    <tr>\n",
       "      <th>ZA1819E9</th>\n",
       "      <td>11.441667</td>\n",
       "      <td>4.100040</td>\n",
       "    </tr>\n",
       "    <tr>\n",
       "      <th>ZCH074SE</th>\n",
       "      <td>169.000000</td>\n",
       "      <td>162.721665</td>\n",
       "    </tr>\n",
       "    <tr>\n",
       "      <th>...</th>\n",
       "      <td>...</td>\n",
       "      <td>...</td>\n",
       "    </tr>\n",
       "    <tr>\n",
       "      <th>ZHZ50G0W</th>\n",
       "      <td>NaN</td>\n",
       "      <td>NaN</td>\n",
       "    </tr>\n",
       "    <tr>\n",
       "      <th>ZHZ5W6L4</th>\n",
       "      <td>NaN</td>\n",
       "      <td>NaN</td>\n",
       "    </tr>\n",
       "    <tr>\n",
       "      <th>ZL005C4H</th>\n",
       "      <td>NaN</td>\n",
       "      <td>NaN</td>\n",
       "    </tr>\n",
       "    <tr>\n",
       "      <th>ZLW0G6FJ</th>\n",
       "      <td>NaN</td>\n",
       "      <td>NaN</td>\n",
       "    </tr>\n",
       "    <tr>\n",
       "      <th>ZLW0GPC5</th>\n",
       "      <td>NaN</td>\n",
       "      <td>NaN</td>\n",
       "    </tr>\n",
       "  </tbody>\n",
       "</table>\n",
       "<p>272 rows × 2 columns</p>\n",
       "</div>"
      ],
      "text/plain": [
       "               mse_baseline      mse_br\n",
       "serial_number                          \n",
       "ZCH0EA28         381.806250  142.547238\n",
       "ZCH0CCSY         736.158333  635.306334\n",
       "ZJV5M9KA         460.544444  400.676324\n",
       "ZA1819E9          11.441667    4.100040\n",
       "ZCH074SE         169.000000  162.721665\n",
       "...                     ...         ...\n",
       "ZHZ50G0W                NaN         NaN\n",
       "ZHZ5W6L4                NaN         NaN\n",
       "ZL005C4H                NaN         NaN\n",
       "ZLW0G6FJ                NaN         NaN\n",
       "ZLW0GPC5                NaN         NaN\n",
       "\n",
       "[272 rows x 2 columns]"
      ]
     },
     "metadata": {},
     "output_type": "display_data"
    },
    {
     "name": "stdout",
     "output_type": "stream",
     "text": [
      "Avg. Improvement = 1.3640115323365776\n"
     ]
    }
   ],
   "source": [
    "# update all results df and compare\n",
    "all_mses['mse_br'] = windowwise_mses\n",
    "\n",
    "# mse on each day\n",
    "print('MSE for each drive for each train-forecast window:')\n",
    "display(all_mses[['mse_baseline', 'mse_br']])\n",
    "\n",
    "# average mse across days\n",
    "mean_mses = all_mses[['mse_baseline', 'mse_br']].groupby('serial_number').mean()\n",
    "\n",
    "# improvement over baseline\n",
    "diff = mean_mses['mse_br']-mean_mses['mse_baseline']\n",
    "mean_mses = mean_mses.reindex(diff.sort_values().index)\n",
    "print('Avg. MSE for each drive:')\n",
    "display(mean_mses)\n",
    "\n",
    "# average overall improvement over baseline\n",
    "print('Avg. Improvement =', -diff.mean())"
   ]
  },
  {
   "cell_type": "code",
   "execution_count": 29,
   "metadata": {
    "ExecuteTime": {
     "end_time": "2020-12-03T17:02:06.598575Z",
     "start_time": "2020-12-03T17:02:06.591166Z"
    },
    "code_folding": [
     0
    ]
   },
   "outputs": [
    {
     "data": {
      "text/html": [
       "<div>\n",
       "<style scoped>\n",
       "    .dataframe tbody tr th:only-of-type {\n",
       "        vertical-align: middle;\n",
       "    }\n",
       "\n",
       "    .dataframe tbody tr th {\n",
       "        vertical-align: top;\n",
       "    }\n",
       "\n",
       "    .dataframe thead th {\n",
       "        text-align: right;\n",
       "    }\n",
       "</style>\n",
       "<table border=\"1\" class=\"dataframe\">\n",
       "  <thead>\n",
       "    <tr style=\"text-align: right;\">\n",
       "      <th></th>\n",
       "      <th>mse_baseline</th>\n",
       "      <th>mse_linreg</th>\n",
       "      <th>mse_lasso</th>\n",
       "      <th>mse_br</th>\n",
       "    </tr>\n",
       "    <tr>\n",
       "      <th>date</th>\n",
       "      <th></th>\n",
       "      <th></th>\n",
       "      <th></th>\n",
       "      <th></th>\n",
       "    </tr>\n",
       "  </thead>\n",
       "  <tbody>\n",
       "    <tr>\n",
       "      <th>2020-07-01</th>\n",
       "      <td>NaN</td>\n",
       "      <td>NaN</td>\n",
       "      <td>NaN</td>\n",
       "      <td>NaN</td>\n",
       "    </tr>\n",
       "    <tr>\n",
       "      <th>2020-07-02</th>\n",
       "      <td>NaN</td>\n",
       "      <td>NaN</td>\n",
       "      <td>NaN</td>\n",
       "      <td>NaN</td>\n",
       "    </tr>\n",
       "    <tr>\n",
       "      <th>2020-07-03</th>\n",
       "      <td>NaN</td>\n",
       "      <td>NaN</td>\n",
       "      <td>NaN</td>\n",
       "      <td>NaN</td>\n",
       "    </tr>\n",
       "    <tr>\n",
       "      <th>2020-07-04</th>\n",
       "      <td>NaN</td>\n",
       "      <td>NaN</td>\n",
       "      <td>NaN</td>\n",
       "      <td>NaN</td>\n",
       "    </tr>\n",
       "    <tr>\n",
       "      <th>2020-07-05</th>\n",
       "      <td>NaN</td>\n",
       "      <td>NaN</td>\n",
       "      <td>NaN</td>\n",
       "      <td>NaN</td>\n",
       "    </tr>\n",
       "    <tr>\n",
       "      <th>2020-07-06</th>\n",
       "      <td>958.666667</td>\n",
       "      <td>57.512789</td>\n",
       "      <td>209.017283</td>\n",
       "      <td>66.331898</td>\n",
       "    </tr>\n",
       "    <tr>\n",
       "      <th>2020-07-07</th>\n",
       "      <td>973.333333</td>\n",
       "      <td>59.737506</td>\n",
       "      <td>82.382696</td>\n",
       "      <td>57.570863</td>\n",
       "    </tr>\n",
       "    <tr>\n",
       "      <th>2020-07-08</th>\n",
       "      <td>479.833333</td>\n",
       "      <td>227.104444</td>\n",
       "      <td>64.721416</td>\n",
       "      <td>219.038516</td>\n",
       "    </tr>\n",
       "    <tr>\n",
       "      <th>2020-07-09</th>\n",
       "      <td>122.200000</td>\n",
       "      <td>473.360000</td>\n",
       "      <td>188.592501</td>\n",
       "      <td>457.571010</td>\n",
       "    </tr>\n",
       "    <tr>\n",
       "      <th>2020-07-10</th>\n",
       "      <td>152.750000</td>\n",
       "      <td>274.646825</td>\n",
       "      <td>86.134941</td>\n",
       "      <td>258.313124</td>\n",
       "    </tr>\n",
       "    <tr>\n",
       "      <th>2020-07-11</th>\n",
       "      <td>203.666667</td>\n",
       "      <td>92.501769</td>\n",
       "      <td>11.390482</td>\n",
       "      <td>73.581766</td>\n",
       "    </tr>\n",
       "    <tr>\n",
       "      <th>2020-07-12</th>\n",
       "      <td>148.000000</td>\n",
       "      <td>1.859410</td>\n",
       "      <td>23.540592</td>\n",
       "      <td>0.948216</td>\n",
       "    </tr>\n",
       "    <tr>\n",
       "      <th>2020-07-13</th>\n",
       "      <td>16.000000</td>\n",
       "      <td>4.000000</td>\n",
       "      <td>49.279841</td>\n",
       "      <td>7.022507</td>\n",
       "    </tr>\n",
       "    <tr>\n",
       "      <th>2020-07-14</th>\n",
       "      <td>NaN</td>\n",
       "      <td>NaN</td>\n",
       "      <td>NaN</td>\n",
       "      <td>NaN</td>\n",
       "    </tr>\n",
       "  </tbody>\n",
       "</table>\n",
       "</div>"
      ],
      "text/plain": [
       "            mse_baseline  mse_linreg   mse_lasso      mse_br\n",
       "date                                                        \n",
       "2020-07-01           NaN         NaN         NaN         NaN\n",
       "2020-07-02           NaN         NaN         NaN         NaN\n",
       "2020-07-03           NaN         NaN         NaN         NaN\n",
       "2020-07-04           NaN         NaN         NaN         NaN\n",
       "2020-07-05           NaN         NaN         NaN         NaN\n",
       "2020-07-06    958.666667   57.512789  209.017283   66.331898\n",
       "2020-07-07    973.333333   59.737506   82.382696   57.570863\n",
       "2020-07-08    479.833333  227.104444   64.721416  219.038516\n",
       "2020-07-09    122.200000  473.360000  188.592501  457.571010\n",
       "2020-07-10    152.750000  274.646825   86.134941  258.313124\n",
       "2020-07-11    203.666667   92.501769   11.390482   73.581766\n",
       "2020-07-12    148.000000    1.859410   23.540592    0.948216\n",
       "2020-07-13     16.000000    4.000000   49.279841    7.022507\n",
       "2020-07-14           NaN         NaN         NaN         NaN"
      ]
     },
     "execution_count": 29,
     "metadata": {},
     "output_type": "execute_result"
    }
   ],
   "source": [
    "# peek at drive with most improvement\n",
    "all_mses.loc[mean_mses.iloc[0].name]"
   ]
  },
  {
   "cell_type": "markdown",
   "metadata": {},
   "source": [
    "## ARIMA"
   ]
  },
  {
   "cell_type": "code",
   "execution_count": null,
   "metadata": {
    "ExecuteTime": {
     "end_time": "2020-12-03T17:10:46.900545Z",
     "start_time": "2020-12-03T17:02:06.599597Z"
    },
    "code_folding": [
     0
    ]
   },
   "outputs": [],
   "source": [
    "# calculate windowwise mse for arima model for each drive\n",
    "def get_arima_mses_windowwise(drive_ts):\n",
    "    mses = pd.Series(index=drive_ts.index)\n",
    "    \n",
    "    for end_idx in range(NDAYS_DATA-1, len(drive_ts)):\n",
    "        try:\n",
    "            # init model and train\n",
    "            model = ARIMA(\n",
    "                endog=drive_ts[[Y_COLS[0]]].iloc[end_idx+1-NDAYS_DATA: end_idx+1],\n",
    "                order=(1, 1, 0),\n",
    "                freq='D',\n",
    "            )\n",
    "            model = model.fit()\n",
    "            \n",
    "            # forecast and calculate error\n",
    "            preds = model.forecast(steps=NDAYS_TO_PREDICT)\n",
    "            mses.iloc[end_idx] = ((drive_ts[Y_COLS[0]].iloc[end_idx+1: end_idx+1+NDAYS_TO_PREDICT] - preds)**2).mean()\n",
    "\n",
    "        # value errors occur when dates are not continuous\n",
    "        except ValueError as ve:\n",
    "            mses.iloc[end_idx] = np.nan\n",
    "            \n",
    "    return mses\n",
    "\n",
    "windowwise_mses = failed_ts_df.groupby('serial_number').apply(get_arima_mses_windowwise)"
   ]
  },
  {
   "cell_type": "code",
   "execution_count": 31,
   "metadata": {
    "ExecuteTime": {
     "end_time": "2020-12-03T17:10:46.925376Z",
     "start_time": "2020-12-03T17:10:46.901992Z"
    },
    "code_folding": [
     0
    ],
    "scrolled": false
   },
   "outputs": [
    {
     "name": "stdout",
     "output_type": "stream",
     "text": [
      "MSE for each drive for each train-forecast window:\n"
     ]
    },
    {
     "data": {
      "text/html": [
       "<div>\n",
       "<style scoped>\n",
       "    .dataframe tbody tr th:only-of-type {\n",
       "        vertical-align: middle;\n",
       "    }\n",
       "\n",
       "    .dataframe tbody tr th {\n",
       "        vertical-align: top;\n",
       "    }\n",
       "\n",
       "    .dataframe thead th {\n",
       "        text-align: right;\n",
       "    }\n",
       "</style>\n",
       "<table border=\"1\" class=\"dataframe\">\n",
       "  <thead>\n",
       "    <tr style=\"text-align: right;\">\n",
       "      <th></th>\n",
       "      <th></th>\n",
       "      <th>mse_baseline</th>\n",
       "      <th>mse_arima</th>\n",
       "    </tr>\n",
       "    <tr>\n",
       "      <th>serial_number</th>\n",
       "      <th>date</th>\n",
       "      <th></th>\n",
       "      <th></th>\n",
       "    </tr>\n",
       "  </thead>\n",
       "  <tbody>\n",
       "    <tr>\n",
       "      <th rowspan=\"2\" valign=\"top\">S300WFGR</th>\n",
       "      <th>2020-07-01</th>\n",
       "      <td>NaN</td>\n",
       "      <td>NaN</td>\n",
       "    </tr>\n",
       "    <tr>\n",
       "      <th>2020-07-02</th>\n",
       "      <td>NaN</td>\n",
       "      <td>NaN</td>\n",
       "    </tr>\n",
       "    <tr>\n",
       "      <th rowspan=\"3\" valign=\"top\">S300Z4TZ</th>\n",
       "      <th>2020-07-01</th>\n",
       "      <td>NaN</td>\n",
       "      <td>NaN</td>\n",
       "    </tr>\n",
       "    <tr>\n",
       "      <th>2020-07-02</th>\n",
       "      <td>NaN</td>\n",
       "      <td>NaN</td>\n",
       "    </tr>\n",
       "    <tr>\n",
       "      <th>2020-07-03</th>\n",
       "      <td>NaN</td>\n",
       "      <td>NaN</td>\n",
       "    </tr>\n",
       "    <tr>\n",
       "      <th>...</th>\n",
       "      <th>...</th>\n",
       "      <td>...</td>\n",
       "      <td>...</td>\n",
       "    </tr>\n",
       "    <tr>\n",
       "      <th rowspan=\"5\" valign=\"top\">ZLW0GPC5</th>\n",
       "      <th>2020-07-01</th>\n",
       "      <td>NaN</td>\n",
       "      <td>NaN</td>\n",
       "    </tr>\n",
       "    <tr>\n",
       "      <th>2020-07-02</th>\n",
       "      <td>NaN</td>\n",
       "      <td>NaN</td>\n",
       "    </tr>\n",
       "    <tr>\n",
       "      <th>2020-07-03</th>\n",
       "      <td>NaN</td>\n",
       "      <td>NaN</td>\n",
       "    </tr>\n",
       "    <tr>\n",
       "      <th>2020-07-04</th>\n",
       "      <td>NaN</td>\n",
       "      <td>NaN</td>\n",
       "    </tr>\n",
       "    <tr>\n",
       "      <th>2020-07-05</th>\n",
       "      <td>NaN</td>\n",
       "      <td>NaN</td>\n",
       "    </tr>\n",
       "  </tbody>\n",
       "</table>\n",
       "<p>11735 rows × 2 columns</p>\n",
       "</div>"
      ],
      "text/plain": [
       "                          mse_baseline  mse_arima\n",
       "serial_number date                               \n",
       "S300WFGR      2020-07-01           NaN        NaN\n",
       "              2020-07-02           NaN        NaN\n",
       "S300Z4TZ      2020-07-01           NaN        NaN\n",
       "              2020-07-02           NaN        NaN\n",
       "              2020-07-03           NaN        NaN\n",
       "...                                ...        ...\n",
       "ZLW0GPC5      2020-07-01           NaN        NaN\n",
       "              2020-07-02           NaN        NaN\n",
       "              2020-07-03           NaN        NaN\n",
       "              2020-07-04           NaN        NaN\n",
       "              2020-07-05           NaN        NaN\n",
       "\n",
       "[11735 rows x 2 columns]"
      ]
     },
     "metadata": {},
     "output_type": "display_data"
    },
    {
     "name": "stdout",
     "output_type": "stream",
     "text": [
      "Avg. MSE for each drive:\n"
     ]
    },
    {
     "data": {
      "text/html": [
       "<div>\n",
       "<style scoped>\n",
       "    .dataframe tbody tr th:only-of-type {\n",
       "        vertical-align: middle;\n",
       "    }\n",
       "\n",
       "    .dataframe tbody tr th {\n",
       "        vertical-align: top;\n",
       "    }\n",
       "\n",
       "    .dataframe thead th {\n",
       "        text-align: right;\n",
       "    }\n",
       "</style>\n",
       "<table border=\"1\" class=\"dataframe\">\n",
       "  <thead>\n",
       "    <tr style=\"text-align: right;\">\n",
       "      <th></th>\n",
       "      <th>mse_baseline</th>\n",
       "      <th>mse_arima</th>\n",
       "    </tr>\n",
       "    <tr>\n",
       "      <th>serial_number</th>\n",
       "      <th></th>\n",
       "      <th></th>\n",
       "    </tr>\n",
       "  </thead>\n",
       "  <tbody>\n",
       "    <tr>\n",
       "      <th>ZCH0EA28</th>\n",
       "      <td>381.806250</td>\n",
       "      <td>267.692262</td>\n",
       "    </tr>\n",
       "    <tr>\n",
       "      <th>ZCH0CCSY</th>\n",
       "      <td>736.158333</td>\n",
       "      <td>661.323586</td>\n",
       "    </tr>\n",
       "    <tr>\n",
       "      <th>ZCH074SE</th>\n",
       "      <td>169.000000</td>\n",
       "      <td>145.534586</td>\n",
       "    </tr>\n",
       "    <tr>\n",
       "      <th>ZA12RB44</th>\n",
       "      <td>4.000000</td>\n",
       "      <td>0.133154</td>\n",
       "    </tr>\n",
       "    <tr>\n",
       "      <th>ZA16DDTZ</th>\n",
       "      <td>9.000000</td>\n",
       "      <td>5.670446</td>\n",
       "    </tr>\n",
       "    <tr>\n",
       "      <th>...</th>\n",
       "      <td>...</td>\n",
       "      <td>...</td>\n",
       "    </tr>\n",
       "    <tr>\n",
       "      <th>ZHZ50G0W</th>\n",
       "      <td>NaN</td>\n",
       "      <td>NaN</td>\n",
       "    </tr>\n",
       "    <tr>\n",
       "      <th>ZHZ5W6L4</th>\n",
       "      <td>NaN</td>\n",
       "      <td>NaN</td>\n",
       "    </tr>\n",
       "    <tr>\n",
       "      <th>ZL005C4H</th>\n",
       "      <td>NaN</td>\n",
       "      <td>NaN</td>\n",
       "    </tr>\n",
       "    <tr>\n",
       "      <th>ZLW0G6FJ</th>\n",
       "      <td>NaN</td>\n",
       "      <td>NaN</td>\n",
       "    </tr>\n",
       "    <tr>\n",
       "      <th>ZLW0GPC5</th>\n",
       "      <td>NaN</td>\n",
       "      <td>NaN</td>\n",
       "    </tr>\n",
       "  </tbody>\n",
       "</table>\n",
       "<p>272 rows × 2 columns</p>\n",
       "</div>"
      ],
      "text/plain": [
       "               mse_baseline   mse_arima\n",
       "serial_number                          \n",
       "ZCH0EA28         381.806250  267.692262\n",
       "ZCH0CCSY         736.158333  661.323586\n",
       "ZCH074SE         169.000000  145.534586\n",
       "ZA12RB44           4.000000    0.133154\n",
       "ZA16DDTZ           9.000000    5.670446\n",
       "...                     ...         ...\n",
       "ZHZ50G0W                NaN         NaN\n",
       "ZHZ5W6L4                NaN         NaN\n",
       "ZL005C4H                NaN         NaN\n",
       "ZLW0G6FJ                NaN         NaN\n",
       "ZLW0GPC5                NaN         NaN\n",
       "\n",
       "[272 rows x 2 columns]"
      ]
     },
     "metadata": {},
     "output_type": "display_data"
    },
    {
     "name": "stdout",
     "output_type": "stream",
     "text": [
      "Avg. Improvement = 0.7232415451033791\n"
     ]
    }
   ],
   "source": [
    "# update all results df and compare\n",
    "all_mses['mse_arima'] = windowwise_mses\n",
    "\n",
    "# mse on each day\n",
    "print('MSE for each drive for each train-forecast window:')\n",
    "display(all_mses[['mse_baseline', 'mse_arima']])\n",
    "\n",
    "# average mse across days\n",
    "mean_mses = all_mses[['mse_baseline', 'mse_arima']].groupby('serial_number').mean()\n",
    "\n",
    "# improvement over baseline\n",
    "diff = mean_mses['mse_arima']-mean_mses['mse_baseline']\n",
    "mean_mses = mean_mses.reindex(diff.sort_values().index)\n",
    "print('Avg. MSE for each drive:')\n",
    "display(mean_mses)\n",
    "\n",
    "# average overall improvement over baseline\n",
    "print('Avg. Improvement =', -diff.mean())"
   ]
  },
  {
   "cell_type": "code",
   "execution_count": 32,
   "metadata": {
    "ExecuteTime": {
     "end_time": "2020-12-03T17:10:46.934879Z",
     "start_time": "2020-12-03T17:10:46.926491Z"
    },
    "code_folding": [
     0
    ]
   },
   "outputs": [
    {
     "data": {
      "text/html": [
       "<div>\n",
       "<style scoped>\n",
       "    .dataframe tbody tr th:only-of-type {\n",
       "        vertical-align: middle;\n",
       "    }\n",
       "\n",
       "    .dataframe tbody tr th {\n",
       "        vertical-align: top;\n",
       "    }\n",
       "\n",
       "    .dataframe thead th {\n",
       "        text-align: right;\n",
       "    }\n",
       "</style>\n",
       "<table border=\"1\" class=\"dataframe\">\n",
       "  <thead>\n",
       "    <tr style=\"text-align: right;\">\n",
       "      <th></th>\n",
       "      <th>mse_baseline</th>\n",
       "      <th>mse_linreg</th>\n",
       "      <th>mse_lasso</th>\n",
       "      <th>mse_br</th>\n",
       "      <th>mse_arima</th>\n",
       "    </tr>\n",
       "    <tr>\n",
       "      <th>date</th>\n",
       "      <th></th>\n",
       "      <th></th>\n",
       "      <th></th>\n",
       "      <th></th>\n",
       "      <th></th>\n",
       "    </tr>\n",
       "  </thead>\n",
       "  <tbody>\n",
       "    <tr>\n",
       "      <th>2020-07-01</th>\n",
       "      <td>NaN</td>\n",
       "      <td>NaN</td>\n",
       "      <td>NaN</td>\n",
       "      <td>NaN</td>\n",
       "      <td>NaN</td>\n",
       "    </tr>\n",
       "    <tr>\n",
       "      <th>2020-07-02</th>\n",
       "      <td>NaN</td>\n",
       "      <td>NaN</td>\n",
       "      <td>NaN</td>\n",
       "      <td>NaN</td>\n",
       "      <td>NaN</td>\n",
       "    </tr>\n",
       "    <tr>\n",
       "      <th>2020-07-03</th>\n",
       "      <td>NaN</td>\n",
       "      <td>NaN</td>\n",
       "      <td>NaN</td>\n",
       "      <td>NaN</td>\n",
       "      <td>NaN</td>\n",
       "    </tr>\n",
       "    <tr>\n",
       "      <th>2020-07-04</th>\n",
       "      <td>NaN</td>\n",
       "      <td>NaN</td>\n",
       "      <td>NaN</td>\n",
       "      <td>NaN</td>\n",
       "      <td>NaN</td>\n",
       "    </tr>\n",
       "    <tr>\n",
       "      <th>2020-07-05</th>\n",
       "      <td>NaN</td>\n",
       "      <td>NaN</td>\n",
       "      <td>NaN</td>\n",
       "      <td>NaN</td>\n",
       "      <td>NaN</td>\n",
       "    </tr>\n",
       "    <tr>\n",
       "      <th>2020-07-06</th>\n",
       "      <td>958.666667</td>\n",
       "      <td>57.512789</td>\n",
       "      <td>209.017283</td>\n",
       "      <td>66.331898</td>\n",
       "      <td>628.750569</td>\n",
       "    </tr>\n",
       "    <tr>\n",
       "      <th>2020-07-07</th>\n",
       "      <td>973.333333</td>\n",
       "      <td>59.737506</td>\n",
       "      <td>82.382696</td>\n",
       "      <td>57.570863</td>\n",
       "      <td>524.365544</td>\n",
       "    </tr>\n",
       "    <tr>\n",
       "      <th>2020-07-08</th>\n",
       "      <td>479.833333</td>\n",
       "      <td>227.104444</td>\n",
       "      <td>64.721416</td>\n",
       "      <td>219.038516</td>\n",
       "      <td>48.255805</td>\n",
       "    </tr>\n",
       "    <tr>\n",
       "      <th>2020-07-09</th>\n",
       "      <td>122.200000</td>\n",
       "      <td>473.360000</td>\n",
       "      <td>188.592501</td>\n",
       "      <td>457.571010</td>\n",
       "      <td>530.488499</td>\n",
       "    </tr>\n",
       "    <tr>\n",
       "      <th>2020-07-10</th>\n",
       "      <td>152.750000</td>\n",
       "      <td>274.646825</td>\n",
       "      <td>86.134941</td>\n",
       "      <td>258.313124</td>\n",
       "      <td>152.750000</td>\n",
       "    </tr>\n",
       "    <tr>\n",
       "      <th>2020-07-11</th>\n",
       "      <td>203.666667</td>\n",
       "      <td>92.501769</td>\n",
       "      <td>11.390482</td>\n",
       "      <td>73.581766</td>\n",
       "      <td>203.666667</td>\n",
       "    </tr>\n",
       "    <tr>\n",
       "      <th>2020-07-12</th>\n",
       "      <td>148.000000</td>\n",
       "      <td>1.859410</td>\n",
       "      <td>23.540592</td>\n",
       "      <td>0.948216</td>\n",
       "      <td>52.187715</td>\n",
       "    </tr>\n",
       "    <tr>\n",
       "      <th>2020-07-13</th>\n",
       "      <td>16.000000</td>\n",
       "      <td>4.000000</td>\n",
       "      <td>49.279841</td>\n",
       "      <td>7.022507</td>\n",
       "      <td>1.073299</td>\n",
       "    </tr>\n",
       "    <tr>\n",
       "      <th>2020-07-14</th>\n",
       "      <td>NaN</td>\n",
       "      <td>NaN</td>\n",
       "      <td>NaN</td>\n",
       "      <td>NaN</td>\n",
       "      <td>NaN</td>\n",
       "    </tr>\n",
       "  </tbody>\n",
       "</table>\n",
       "</div>"
      ],
      "text/plain": [
       "            mse_baseline  mse_linreg   mse_lasso      mse_br   mse_arima\n",
       "date                                                                    \n",
       "2020-07-01           NaN         NaN         NaN         NaN         NaN\n",
       "2020-07-02           NaN         NaN         NaN         NaN         NaN\n",
       "2020-07-03           NaN         NaN         NaN         NaN         NaN\n",
       "2020-07-04           NaN         NaN         NaN         NaN         NaN\n",
       "2020-07-05           NaN         NaN         NaN         NaN         NaN\n",
       "2020-07-06    958.666667   57.512789  209.017283   66.331898  628.750569\n",
       "2020-07-07    973.333333   59.737506   82.382696   57.570863  524.365544\n",
       "2020-07-08    479.833333  227.104444   64.721416  219.038516   48.255805\n",
       "2020-07-09    122.200000  473.360000  188.592501  457.571010  530.488499\n",
       "2020-07-10    152.750000  274.646825   86.134941  258.313124  152.750000\n",
       "2020-07-11    203.666667   92.501769   11.390482   73.581766  203.666667\n",
       "2020-07-12    148.000000    1.859410   23.540592    0.948216   52.187715\n",
       "2020-07-13     16.000000    4.000000   49.279841    7.022507    1.073299\n",
       "2020-07-14           NaN         NaN         NaN         NaN         NaN"
      ]
     },
     "execution_count": 32,
     "metadata": {},
     "output_type": "execute_result"
    }
   ],
   "source": [
    "# peek at drive with most improvement\n",
    "all_mses.loc[mean_mses.iloc[0].name]"
   ]
  },
  {
   "cell_type": "markdown",
   "metadata": {},
   "source": [
    "## SARIMAX"
   ]
  },
  {
   "cell_type": "code",
   "execution_count": null,
   "metadata": {
    "ExecuteTime": {
     "end_time": "2020-12-03T17:19:27.465525Z",
     "start_time": "2020-12-03T17:10:46.935922Z"
    },
    "code_folding": [
     0
    ]
   },
   "outputs": [],
   "source": [
    "# calculate windowwise mse for sarimax model for each drive\n",
    "def get_sarimax_mses_windowwise(drive_ts):\n",
    "    mses = pd.Series(index=drive_ts.index)\n",
    "\n",
    "    for end_idx in range(NDAYS_DATA-1, len(drive_ts)):\n",
    "        try:\n",
    "            model = SARIMAX(\n",
    "                endog=drive_ts[[Y_COLS[0]]].iloc[end_idx+1-NDAYS_DATA: end_idx+1],\n",
    "                order=(1, 1, 0),\n",
    "                freq='D',\n",
    "            )\n",
    "            model = model.fit()\n",
    "            preds = model.forecast(steps=NDAYS_TO_PREDICT)\n",
    "            mses.iloc[end_idx] = ((drive_ts[Y_COLS[0]].iloc[end_idx+1: end_idx+1+NDAYS_TO_PREDICT] - preds)**2).mean()\n",
    "        except ValueError as ve:\n",
    "            mses.iloc[end_idx] = np.nan\n",
    "    return mses\n",
    "\n",
    "windowwise_mses = failed_ts_df.groupby('serial_number').apply(get_sarimax_mses_windowwise)"
   ]
  },
  {
   "cell_type": "code",
   "execution_count": 34,
   "metadata": {
    "ExecuteTime": {
     "end_time": "2020-12-03T17:19:27.489991Z",
     "start_time": "2020-12-03T17:19:27.466999Z"
    },
    "code_folding": [
     0
    ]
   },
   "outputs": [
    {
     "name": "stdout",
     "output_type": "stream",
     "text": [
      "MSE for each drive for each train-forecast window:\n"
     ]
    },
    {
     "data": {
      "text/html": [
       "<div>\n",
       "<style scoped>\n",
       "    .dataframe tbody tr th:only-of-type {\n",
       "        vertical-align: middle;\n",
       "    }\n",
       "\n",
       "    .dataframe tbody tr th {\n",
       "        vertical-align: top;\n",
       "    }\n",
       "\n",
       "    .dataframe thead th {\n",
       "        text-align: right;\n",
       "    }\n",
       "</style>\n",
       "<table border=\"1\" class=\"dataframe\">\n",
       "  <thead>\n",
       "    <tr style=\"text-align: right;\">\n",
       "      <th></th>\n",
       "      <th></th>\n",
       "      <th>mse_baseline</th>\n",
       "      <th>mse_sarimax</th>\n",
       "    </tr>\n",
       "    <tr>\n",
       "      <th>serial_number</th>\n",
       "      <th>date</th>\n",
       "      <th></th>\n",
       "      <th></th>\n",
       "    </tr>\n",
       "  </thead>\n",
       "  <tbody>\n",
       "    <tr>\n",
       "      <th rowspan=\"2\" valign=\"top\">S300WFGR</th>\n",
       "      <th>2020-07-01</th>\n",
       "      <td>NaN</td>\n",
       "      <td>NaN</td>\n",
       "    </tr>\n",
       "    <tr>\n",
       "      <th>2020-07-02</th>\n",
       "      <td>NaN</td>\n",
       "      <td>NaN</td>\n",
       "    </tr>\n",
       "    <tr>\n",
       "      <th rowspan=\"3\" valign=\"top\">S300Z4TZ</th>\n",
       "      <th>2020-07-01</th>\n",
       "      <td>NaN</td>\n",
       "      <td>NaN</td>\n",
       "    </tr>\n",
       "    <tr>\n",
       "      <th>2020-07-02</th>\n",
       "      <td>NaN</td>\n",
       "      <td>NaN</td>\n",
       "    </tr>\n",
       "    <tr>\n",
       "      <th>2020-07-03</th>\n",
       "      <td>NaN</td>\n",
       "      <td>NaN</td>\n",
       "    </tr>\n",
       "    <tr>\n",
       "      <th>...</th>\n",
       "      <th>...</th>\n",
       "      <td>...</td>\n",
       "      <td>...</td>\n",
       "    </tr>\n",
       "    <tr>\n",
       "      <th rowspan=\"5\" valign=\"top\">ZLW0GPC5</th>\n",
       "      <th>2020-07-01</th>\n",
       "      <td>NaN</td>\n",
       "      <td>NaN</td>\n",
       "    </tr>\n",
       "    <tr>\n",
       "      <th>2020-07-02</th>\n",
       "      <td>NaN</td>\n",
       "      <td>NaN</td>\n",
       "    </tr>\n",
       "    <tr>\n",
       "      <th>2020-07-03</th>\n",
       "      <td>NaN</td>\n",
       "      <td>NaN</td>\n",
       "    </tr>\n",
       "    <tr>\n",
       "      <th>2020-07-04</th>\n",
       "      <td>NaN</td>\n",
       "      <td>NaN</td>\n",
       "    </tr>\n",
       "    <tr>\n",
       "      <th>2020-07-05</th>\n",
       "      <td>NaN</td>\n",
       "      <td>NaN</td>\n",
       "    </tr>\n",
       "  </tbody>\n",
       "</table>\n",
       "<p>11735 rows × 2 columns</p>\n",
       "</div>"
      ],
      "text/plain": [
       "                          mse_baseline  mse_sarimax\n",
       "serial_number date                                 \n",
       "S300WFGR      2020-07-01           NaN          NaN\n",
       "              2020-07-02           NaN          NaN\n",
       "S300Z4TZ      2020-07-01           NaN          NaN\n",
       "              2020-07-02           NaN          NaN\n",
       "              2020-07-03           NaN          NaN\n",
       "...                                ...          ...\n",
       "ZLW0GPC5      2020-07-01           NaN          NaN\n",
       "              2020-07-02           NaN          NaN\n",
       "              2020-07-03           NaN          NaN\n",
       "              2020-07-04           NaN          NaN\n",
       "              2020-07-05           NaN          NaN\n",
       "\n",
       "[11735 rows x 2 columns]"
      ]
     },
     "metadata": {},
     "output_type": "display_data"
    },
    {
     "name": "stdout",
     "output_type": "stream",
     "text": [
      "Avg. MSE for each drive:\n"
     ]
    },
    {
     "data": {
      "text/html": [
       "<div>\n",
       "<style scoped>\n",
       "    .dataframe tbody tr th:only-of-type {\n",
       "        vertical-align: middle;\n",
       "    }\n",
       "\n",
       "    .dataframe tbody tr th {\n",
       "        vertical-align: top;\n",
       "    }\n",
       "\n",
       "    .dataframe thead th {\n",
       "        text-align: right;\n",
       "    }\n",
       "</style>\n",
       "<table border=\"1\" class=\"dataframe\">\n",
       "  <thead>\n",
       "    <tr style=\"text-align: right;\">\n",
       "      <th></th>\n",
       "      <th>mse_baseline</th>\n",
       "      <th>mse_sarimax</th>\n",
       "    </tr>\n",
       "    <tr>\n",
       "      <th>serial_number</th>\n",
       "      <th></th>\n",
       "      <th></th>\n",
       "    </tr>\n",
       "  </thead>\n",
       "  <tbody>\n",
       "    <tr>\n",
       "      <th>ZCH0EA28</th>\n",
       "      <td>381.806250</td>\n",
       "      <td>267.692262</td>\n",
       "    </tr>\n",
       "    <tr>\n",
       "      <th>ZCH0CCSY</th>\n",
       "      <td>736.158333</td>\n",
       "      <td>661.323586</td>\n",
       "    </tr>\n",
       "    <tr>\n",
       "      <th>ZCH074SE</th>\n",
       "      <td>169.000000</td>\n",
       "      <td>145.534586</td>\n",
       "    </tr>\n",
       "    <tr>\n",
       "      <th>ZA12RB44</th>\n",
       "      <td>4.000000</td>\n",
       "      <td>0.133154</td>\n",
       "    </tr>\n",
       "    <tr>\n",
       "      <th>ZA16DDTZ</th>\n",
       "      <td>9.000000</td>\n",
       "      <td>5.670446</td>\n",
       "    </tr>\n",
       "    <tr>\n",
       "      <th>...</th>\n",
       "      <td>...</td>\n",
       "      <td>...</td>\n",
       "    </tr>\n",
       "    <tr>\n",
       "      <th>ZHZ50G0W</th>\n",
       "      <td>NaN</td>\n",
       "      <td>NaN</td>\n",
       "    </tr>\n",
       "    <tr>\n",
       "      <th>ZHZ5W6L4</th>\n",
       "      <td>NaN</td>\n",
       "      <td>NaN</td>\n",
       "    </tr>\n",
       "    <tr>\n",
       "      <th>ZL005C4H</th>\n",
       "      <td>NaN</td>\n",
       "      <td>NaN</td>\n",
       "    </tr>\n",
       "    <tr>\n",
       "      <th>ZLW0G6FJ</th>\n",
       "      <td>NaN</td>\n",
       "      <td>NaN</td>\n",
       "    </tr>\n",
       "    <tr>\n",
       "      <th>ZLW0GPC5</th>\n",
       "      <td>NaN</td>\n",
       "      <td>NaN</td>\n",
       "    </tr>\n",
       "  </tbody>\n",
       "</table>\n",
       "<p>272 rows × 2 columns</p>\n",
       "</div>"
      ],
      "text/plain": [
       "               mse_baseline  mse_sarimax\n",
       "serial_number                           \n",
       "ZCH0EA28         381.806250   267.692262\n",
       "ZCH0CCSY         736.158333   661.323586\n",
       "ZCH074SE         169.000000   145.534586\n",
       "ZA12RB44           4.000000     0.133154\n",
       "ZA16DDTZ           9.000000     5.670446\n",
       "...                     ...          ...\n",
       "ZHZ50G0W                NaN          NaN\n",
       "ZHZ5W6L4                NaN          NaN\n",
       "ZL005C4H                NaN          NaN\n",
       "ZLW0G6FJ                NaN          NaN\n",
       "ZLW0GPC5                NaN          NaN\n",
       "\n",
       "[272 rows x 2 columns]"
      ]
     },
     "metadata": {},
     "output_type": "display_data"
    },
    {
     "name": "stdout",
     "output_type": "stream",
     "text": [
      "Avg. Improvement = 0.7232415451033791\n"
     ]
    }
   ],
   "source": [
    "# update all results df and compare\n",
    "all_mses['mse_sarimax'] = windowwise_mses\n",
    "\n",
    "# mse on each day\n",
    "print('MSE for each drive for each train-forecast window:')\n",
    "display(all_mses[['mse_baseline', 'mse_sarimax']])\n",
    "\n",
    "# average mse across days\n",
    "mean_mses = all_mses[['mse_baseline', 'mse_sarimax']].groupby('serial_number').mean()\n",
    "\n",
    "# improvement over baseline\n",
    "diff = mean_mses['mse_sarimax']-mean_mses['mse_baseline']\n",
    "mean_mses = mean_mses.reindex(diff.sort_values().index)\n",
    "print('Avg. MSE for each drive:')\n",
    "display(mean_mses)\n",
    "\n",
    "# average overall improvement over baseline\n",
    "print('Avg. Improvement =', -diff.mean())"
   ]
  },
  {
   "cell_type": "code",
   "execution_count": 35,
   "metadata": {
    "ExecuteTime": {
     "end_time": "2020-12-03T17:19:27.499795Z",
     "start_time": "2020-12-03T17:19:27.491048Z"
    },
    "code_folding": [
     0
    ]
   },
   "outputs": [
    {
     "data": {
      "text/html": [
       "<div>\n",
       "<style scoped>\n",
       "    .dataframe tbody tr th:only-of-type {\n",
       "        vertical-align: middle;\n",
       "    }\n",
       "\n",
       "    .dataframe tbody tr th {\n",
       "        vertical-align: top;\n",
       "    }\n",
       "\n",
       "    .dataframe thead th {\n",
       "        text-align: right;\n",
       "    }\n",
       "</style>\n",
       "<table border=\"1\" class=\"dataframe\">\n",
       "  <thead>\n",
       "    <tr style=\"text-align: right;\">\n",
       "      <th></th>\n",
       "      <th>mse_baseline</th>\n",
       "      <th>mse_linreg</th>\n",
       "      <th>mse_lasso</th>\n",
       "      <th>mse_br</th>\n",
       "      <th>mse_arima</th>\n",
       "      <th>mse_sarimax</th>\n",
       "    </tr>\n",
       "    <tr>\n",
       "      <th>date</th>\n",
       "      <th></th>\n",
       "      <th></th>\n",
       "      <th></th>\n",
       "      <th></th>\n",
       "      <th></th>\n",
       "      <th></th>\n",
       "    </tr>\n",
       "  </thead>\n",
       "  <tbody>\n",
       "    <tr>\n",
       "      <th>2020-07-01</th>\n",
       "      <td>NaN</td>\n",
       "      <td>NaN</td>\n",
       "      <td>NaN</td>\n",
       "      <td>NaN</td>\n",
       "      <td>NaN</td>\n",
       "      <td>NaN</td>\n",
       "    </tr>\n",
       "    <tr>\n",
       "      <th>2020-07-02</th>\n",
       "      <td>NaN</td>\n",
       "      <td>NaN</td>\n",
       "      <td>NaN</td>\n",
       "      <td>NaN</td>\n",
       "      <td>NaN</td>\n",
       "      <td>NaN</td>\n",
       "    </tr>\n",
       "    <tr>\n",
       "      <th>2020-07-03</th>\n",
       "      <td>NaN</td>\n",
       "      <td>NaN</td>\n",
       "      <td>NaN</td>\n",
       "      <td>NaN</td>\n",
       "      <td>NaN</td>\n",
       "      <td>NaN</td>\n",
       "    </tr>\n",
       "    <tr>\n",
       "      <th>2020-07-04</th>\n",
       "      <td>NaN</td>\n",
       "      <td>NaN</td>\n",
       "      <td>NaN</td>\n",
       "      <td>NaN</td>\n",
       "      <td>NaN</td>\n",
       "      <td>NaN</td>\n",
       "    </tr>\n",
       "    <tr>\n",
       "      <th>2020-07-05</th>\n",
       "      <td>NaN</td>\n",
       "      <td>NaN</td>\n",
       "      <td>NaN</td>\n",
       "      <td>NaN</td>\n",
       "      <td>NaN</td>\n",
       "      <td>NaN</td>\n",
       "    </tr>\n",
       "    <tr>\n",
       "      <th>2020-07-06</th>\n",
       "      <td>958.666667</td>\n",
       "      <td>57.512789</td>\n",
       "      <td>209.017283</td>\n",
       "      <td>66.331898</td>\n",
       "      <td>628.750569</td>\n",
       "      <td>628.750569</td>\n",
       "    </tr>\n",
       "    <tr>\n",
       "      <th>2020-07-07</th>\n",
       "      <td>973.333333</td>\n",
       "      <td>59.737506</td>\n",
       "      <td>82.382696</td>\n",
       "      <td>57.570863</td>\n",
       "      <td>524.365544</td>\n",
       "      <td>524.365544</td>\n",
       "    </tr>\n",
       "    <tr>\n",
       "      <th>2020-07-08</th>\n",
       "      <td>479.833333</td>\n",
       "      <td>227.104444</td>\n",
       "      <td>64.721416</td>\n",
       "      <td>219.038516</td>\n",
       "      <td>48.255805</td>\n",
       "      <td>48.255805</td>\n",
       "    </tr>\n",
       "    <tr>\n",
       "      <th>2020-07-09</th>\n",
       "      <td>122.200000</td>\n",
       "      <td>473.360000</td>\n",
       "      <td>188.592501</td>\n",
       "      <td>457.571010</td>\n",
       "      <td>530.488499</td>\n",
       "      <td>530.488499</td>\n",
       "    </tr>\n",
       "    <tr>\n",
       "      <th>2020-07-10</th>\n",
       "      <td>152.750000</td>\n",
       "      <td>274.646825</td>\n",
       "      <td>86.134941</td>\n",
       "      <td>258.313124</td>\n",
       "      <td>152.750000</td>\n",
       "      <td>152.750000</td>\n",
       "    </tr>\n",
       "    <tr>\n",
       "      <th>2020-07-11</th>\n",
       "      <td>203.666667</td>\n",
       "      <td>92.501769</td>\n",
       "      <td>11.390482</td>\n",
       "      <td>73.581766</td>\n",
       "      <td>203.666667</td>\n",
       "      <td>203.666667</td>\n",
       "    </tr>\n",
       "    <tr>\n",
       "      <th>2020-07-12</th>\n",
       "      <td>148.000000</td>\n",
       "      <td>1.859410</td>\n",
       "      <td>23.540592</td>\n",
       "      <td>0.948216</td>\n",
       "      <td>52.187715</td>\n",
       "      <td>52.187715</td>\n",
       "    </tr>\n",
       "    <tr>\n",
       "      <th>2020-07-13</th>\n",
       "      <td>16.000000</td>\n",
       "      <td>4.000000</td>\n",
       "      <td>49.279841</td>\n",
       "      <td>7.022507</td>\n",
       "      <td>1.073299</td>\n",
       "      <td>1.073299</td>\n",
       "    </tr>\n",
       "    <tr>\n",
       "      <th>2020-07-14</th>\n",
       "      <td>NaN</td>\n",
       "      <td>NaN</td>\n",
       "      <td>NaN</td>\n",
       "      <td>NaN</td>\n",
       "      <td>NaN</td>\n",
       "      <td>NaN</td>\n",
       "    </tr>\n",
       "  </tbody>\n",
       "</table>\n",
       "</div>"
      ],
      "text/plain": [
       "            mse_baseline  mse_linreg   mse_lasso      mse_br   mse_arima  \\\n",
       "date                                                                       \n",
       "2020-07-01           NaN         NaN         NaN         NaN         NaN   \n",
       "2020-07-02           NaN         NaN         NaN         NaN         NaN   \n",
       "2020-07-03           NaN         NaN         NaN         NaN         NaN   \n",
       "2020-07-04           NaN         NaN         NaN         NaN         NaN   \n",
       "2020-07-05           NaN         NaN         NaN         NaN         NaN   \n",
       "2020-07-06    958.666667   57.512789  209.017283   66.331898  628.750569   \n",
       "2020-07-07    973.333333   59.737506   82.382696   57.570863  524.365544   \n",
       "2020-07-08    479.833333  227.104444   64.721416  219.038516   48.255805   \n",
       "2020-07-09    122.200000  473.360000  188.592501  457.571010  530.488499   \n",
       "2020-07-10    152.750000  274.646825   86.134941  258.313124  152.750000   \n",
       "2020-07-11    203.666667   92.501769   11.390482   73.581766  203.666667   \n",
       "2020-07-12    148.000000    1.859410   23.540592    0.948216   52.187715   \n",
       "2020-07-13     16.000000    4.000000   49.279841    7.022507    1.073299   \n",
       "2020-07-14           NaN         NaN         NaN         NaN         NaN   \n",
       "\n",
       "            mse_sarimax  \n",
       "date                     \n",
       "2020-07-01          NaN  \n",
       "2020-07-02          NaN  \n",
       "2020-07-03          NaN  \n",
       "2020-07-04          NaN  \n",
       "2020-07-05          NaN  \n",
       "2020-07-06   628.750569  \n",
       "2020-07-07   524.365544  \n",
       "2020-07-08    48.255805  \n",
       "2020-07-09   530.488499  \n",
       "2020-07-10   152.750000  \n",
       "2020-07-11   203.666667  \n",
       "2020-07-12    52.187715  \n",
       "2020-07-13     1.073299  \n",
       "2020-07-14          NaN  "
      ]
     },
     "execution_count": 35,
     "metadata": {},
     "output_type": "execute_result"
    }
   ],
   "source": [
    "# peek at drive with most improvement\n",
    "all_mses.loc[mean_mses.iloc[0].name]"
   ]
  },
  {
   "cell_type": "markdown",
   "metadata": {},
   "source": [
    "## Prophet"
   ]
  },
  {
   "cell_type": "code",
   "execution_count": 36,
   "metadata": {
    "ExecuteTime": {
     "end_time": "2020-12-03T17:42:58.324844Z",
     "start_time": "2020-12-03T17:19:27.500809Z"
    },
    "code_folding": [
     0
    ]
   },
   "outputs": [],
   "source": [
    "# calculate windowwise mse for sarimax model for each drive\n",
    "def get_prophet_mses_windowwise(drive_ts):\n",
    "    mses = pd.Series(index=drive_ts.index)\n",
    "    for end_idx in range(NDAYS_DATA-1, len(drive_ts)-1):\n",
    "        try:\n",
    "            # init prophet model\n",
    "            model = Prophet(\n",
    "                n_changepoints=3,\n",
    "                daily_seasonality=True,\n",
    "                weekly_seasonality=False,\n",
    "                yearly_seasonality=False,\n",
    "                uncertainty_samples=False,\n",
    "            )\n",
    "\n",
    "            # fit to historical data (today to today minus NDAYS_TO_PREDICT)\n",
    "            model.fit(\n",
    "\n",
    "                drive_ts[Y_COLS].iloc[end_idx+1-NDAYS_DATA: end_idx+1]\\\n",
    "                        .reset_index()\\\n",
    "                        .rename(columns={'date': 'ds', f'{Y_COLS[0]}': 'y'})\n",
    "\n",
    "            )\n",
    "\n",
    "            # predict future\n",
    "            preds = model.predict(\n",
    "                model.make_future_dataframe(\n",
    "                    periods=min(NDAYS_TO_PREDICT, len(drive_ts)-end_idx-1),\n",
    "                    include_history=False,\n",
    "                )\n",
    "            )['yhat'].values\n",
    "\n",
    "            # calculate mean squared error at this date\n",
    "            mses.iloc[end_idx] = ((drive_ts[Y_COLS[0]].iloc[end_idx+1: end_idx+1+NDAYS_TO_PREDICT].values - preds)**2).mean()\n",
    "        except ValueError as ve:\n",
    "            mses.iloc[end_idx] = np.nan\n",
    "    return mses\n",
    "\n",
    "windowwise_mses = failed_ts_df.groupby('serial_number').apply(get_prophet_mses_windowwise)"
   ]
  },
  {
   "cell_type": "code",
   "execution_count": 37,
   "metadata": {
    "ExecuteTime": {
     "end_time": "2020-12-03T17:42:58.384692Z",
     "start_time": "2020-12-03T17:42:58.326446Z"
    },
    "code_folding": [
     0
    ]
   },
   "outputs": [],
   "source": [
    "# save so that computation doesnt have to be run again\n",
    "import datetime as dt\n",
    "pd.DataFrame(windowwise_mses.to_frame('mse').to_records()).to_parquet(\n",
    "    f\"prophet_mses_{dt.datetime.now().strftime('%Y-%m-%d-%H-%M-%S')}.parquet\",\n",
    ")\n",
    "\n",
    "# # read from saved so that computation doesnt have to be run again\n",
    "# windowwise_mses = pd.read_parquet('prophet_mses.parquet').set_index(['serial_number', 'date'])['mse']\n",
    "# windowwise_mses"
   ]
  },
  {
   "cell_type": "code",
   "execution_count": 38,
   "metadata": {
    "ExecuteTime": {
     "end_time": "2020-12-03T17:42:58.408712Z",
     "start_time": "2020-12-03T17:42:58.385883Z"
    },
    "code_folding": [
     0
    ]
   },
   "outputs": [
    {
     "name": "stdout",
     "output_type": "stream",
     "text": [
      "MSE for each drive for each train-forecast window:\n"
     ]
    },
    {
     "data": {
      "text/html": [
       "<div>\n",
       "<style scoped>\n",
       "    .dataframe tbody tr th:only-of-type {\n",
       "        vertical-align: middle;\n",
       "    }\n",
       "\n",
       "    .dataframe tbody tr th {\n",
       "        vertical-align: top;\n",
       "    }\n",
       "\n",
       "    .dataframe thead th {\n",
       "        text-align: right;\n",
       "    }\n",
       "</style>\n",
       "<table border=\"1\" class=\"dataframe\">\n",
       "  <thead>\n",
       "    <tr style=\"text-align: right;\">\n",
       "      <th></th>\n",
       "      <th></th>\n",
       "      <th>mse_baseline</th>\n",
       "      <th>mse_prophet</th>\n",
       "    </tr>\n",
       "    <tr>\n",
       "      <th>serial_number</th>\n",
       "      <th>date</th>\n",
       "      <th></th>\n",
       "      <th></th>\n",
       "    </tr>\n",
       "  </thead>\n",
       "  <tbody>\n",
       "    <tr>\n",
       "      <th rowspan=\"2\" valign=\"top\">S300WFGR</th>\n",
       "      <th>2020-07-01</th>\n",
       "      <td>NaN</td>\n",
       "      <td>NaN</td>\n",
       "    </tr>\n",
       "    <tr>\n",
       "      <th>2020-07-02</th>\n",
       "      <td>NaN</td>\n",
       "      <td>NaN</td>\n",
       "    </tr>\n",
       "    <tr>\n",
       "      <th rowspan=\"3\" valign=\"top\">S300Z4TZ</th>\n",
       "      <th>2020-07-01</th>\n",
       "      <td>NaN</td>\n",
       "      <td>NaN</td>\n",
       "    </tr>\n",
       "    <tr>\n",
       "      <th>2020-07-02</th>\n",
       "      <td>NaN</td>\n",
       "      <td>NaN</td>\n",
       "    </tr>\n",
       "    <tr>\n",
       "      <th>2020-07-03</th>\n",
       "      <td>NaN</td>\n",
       "      <td>NaN</td>\n",
       "    </tr>\n",
       "    <tr>\n",
       "      <th>...</th>\n",
       "      <th>...</th>\n",
       "      <td>...</td>\n",
       "      <td>...</td>\n",
       "    </tr>\n",
       "    <tr>\n",
       "      <th rowspan=\"5\" valign=\"top\">ZLW0GPC5</th>\n",
       "      <th>2020-07-01</th>\n",
       "      <td>NaN</td>\n",
       "      <td>NaN</td>\n",
       "    </tr>\n",
       "    <tr>\n",
       "      <th>2020-07-02</th>\n",
       "      <td>NaN</td>\n",
       "      <td>NaN</td>\n",
       "    </tr>\n",
       "    <tr>\n",
       "      <th>2020-07-03</th>\n",
       "      <td>NaN</td>\n",
       "      <td>NaN</td>\n",
       "    </tr>\n",
       "    <tr>\n",
       "      <th>2020-07-04</th>\n",
       "      <td>NaN</td>\n",
       "      <td>NaN</td>\n",
       "    </tr>\n",
       "    <tr>\n",
       "      <th>2020-07-05</th>\n",
       "      <td>NaN</td>\n",
       "      <td>NaN</td>\n",
       "    </tr>\n",
       "  </tbody>\n",
       "</table>\n",
       "<p>11735 rows × 2 columns</p>\n",
       "</div>"
      ],
      "text/plain": [
       "                          mse_baseline  mse_prophet\n",
       "serial_number date                                 \n",
       "S300WFGR      2020-07-01           NaN          NaN\n",
       "              2020-07-02           NaN          NaN\n",
       "S300Z4TZ      2020-07-01           NaN          NaN\n",
       "              2020-07-02           NaN          NaN\n",
       "              2020-07-03           NaN          NaN\n",
       "...                                ...          ...\n",
       "ZLW0GPC5      2020-07-01           NaN          NaN\n",
       "              2020-07-02           NaN          NaN\n",
       "              2020-07-03           NaN          NaN\n",
       "              2020-07-04           NaN          NaN\n",
       "              2020-07-05           NaN          NaN\n",
       "\n",
       "[11735 rows x 2 columns]"
      ]
     },
     "metadata": {},
     "output_type": "display_data"
    },
    {
     "name": "stdout",
     "output_type": "stream",
     "text": [
      "Avg. MSE for each drive:\n"
     ]
    },
    {
     "data": {
      "text/html": [
       "<div>\n",
       "<style scoped>\n",
       "    .dataframe tbody tr th:only-of-type {\n",
       "        vertical-align: middle;\n",
       "    }\n",
       "\n",
       "    .dataframe tbody tr th {\n",
       "        vertical-align: top;\n",
       "    }\n",
       "\n",
       "    .dataframe thead th {\n",
       "        text-align: right;\n",
       "    }\n",
       "</style>\n",
       "<table border=\"1\" class=\"dataframe\">\n",
       "  <thead>\n",
       "    <tr style=\"text-align: right;\">\n",
       "      <th></th>\n",
       "      <th>mse_baseline</th>\n",
       "      <th>mse_prophet</th>\n",
       "    </tr>\n",
       "    <tr>\n",
       "      <th>serial_number</th>\n",
       "      <th></th>\n",
       "      <th></th>\n",
       "    </tr>\n",
       "  </thead>\n",
       "  <tbody>\n",
       "    <tr>\n",
       "      <th>ZCH0EA28</th>\n",
       "      <td>381.806250</td>\n",
       "      <td>148.774488</td>\n",
       "    </tr>\n",
       "    <tr>\n",
       "      <th>ZCH0CCSY</th>\n",
       "      <td>736.158333</td>\n",
       "      <td>591.042024</td>\n",
       "    </tr>\n",
       "    <tr>\n",
       "      <th>ZJV5M9KA</th>\n",
       "      <td>460.544444</td>\n",
       "      <td>376.511968</td>\n",
       "    </tr>\n",
       "    <tr>\n",
       "      <th>ZA180YNM</th>\n",
       "      <td>62.883333</td>\n",
       "      <td>50.712123</td>\n",
       "    </tr>\n",
       "    <tr>\n",
       "      <th>ZCH074SE</th>\n",
       "      <td>169.000000</td>\n",
       "      <td>157.133496</td>\n",
       "    </tr>\n",
       "    <tr>\n",
       "      <th>...</th>\n",
       "      <td>...</td>\n",
       "      <td>...</td>\n",
       "    </tr>\n",
       "    <tr>\n",
       "      <th>ZHZ50G0W</th>\n",
       "      <td>NaN</td>\n",
       "      <td>NaN</td>\n",
       "    </tr>\n",
       "    <tr>\n",
       "      <th>ZHZ5W6L4</th>\n",
       "      <td>NaN</td>\n",
       "      <td>NaN</td>\n",
       "    </tr>\n",
       "    <tr>\n",
       "      <th>ZL005C4H</th>\n",
       "      <td>NaN</td>\n",
       "      <td>NaN</td>\n",
       "    </tr>\n",
       "    <tr>\n",
       "      <th>ZLW0G6FJ</th>\n",
       "      <td>NaN</td>\n",
       "      <td>NaN</td>\n",
       "    </tr>\n",
       "    <tr>\n",
       "      <th>ZLW0GPC5</th>\n",
       "      <td>NaN</td>\n",
       "      <td>NaN</td>\n",
       "    </tr>\n",
       "  </tbody>\n",
       "</table>\n",
       "<p>272 rows × 2 columns</p>\n",
       "</div>"
      ],
      "text/plain": [
       "               mse_baseline  mse_prophet\n",
       "serial_number                           \n",
       "ZCH0EA28         381.806250   148.774488\n",
       "ZCH0CCSY         736.158333   591.042024\n",
       "ZJV5M9KA         460.544444   376.511968\n",
       "ZA180YNM          62.883333    50.712123\n",
       "ZCH074SE         169.000000   157.133496\n",
       "...                     ...          ...\n",
       "ZHZ50G0W                NaN          NaN\n",
       "ZHZ5W6L4                NaN          NaN\n",
       "ZL005C4H                NaN          NaN\n",
       "ZLW0G6FJ                NaN          NaN\n",
       "ZLW0GPC5                NaN          NaN\n",
       "\n",
       "[272 rows x 2 columns]"
      ]
     },
     "metadata": {},
     "output_type": "display_data"
    },
    {
     "name": "stdout",
     "output_type": "stream",
     "text": [
      "Avg. Improvement = 1.695440886904843\n"
     ]
    }
   ],
   "source": [
    "# update all results df and compare\n",
    "all_mses['mse_prophet'] = windowwise_mses\n",
    "\n",
    "# mse on each day\n",
    "print('MSE for each drive for each train-forecast window:')\n",
    "display(all_mses[['mse_baseline', 'mse_prophet']])\n",
    "\n",
    "# average mse across days\n",
    "mean_mses = all_mses[['mse_baseline', 'mse_prophet']].groupby('serial_number').mean()\n",
    "\n",
    "# improvement over baseline\n",
    "diff = mean_mses['mse_prophet'] - mean_mses['mse_baseline']\n",
    "mean_mses = mean_mses.reindex(diff.sort_values().index)\n",
    "print('Avg. MSE for each drive:')\n",
    "display(mean_mses)\n",
    "\n",
    "# average overall improvement over baseline\n",
    "print('Avg. Improvement =', -diff.mean())"
   ]
  },
  {
   "cell_type": "code",
   "execution_count": 39,
   "metadata": {
    "ExecuteTime": {
     "end_time": "2020-12-03T17:42:58.419190Z",
     "start_time": "2020-12-03T17:42:58.409756Z"
    },
    "code_folding": [
     0
    ]
   },
   "outputs": [
    {
     "data": {
      "text/html": [
       "<div>\n",
       "<style scoped>\n",
       "    .dataframe tbody tr th:only-of-type {\n",
       "        vertical-align: middle;\n",
       "    }\n",
       "\n",
       "    .dataframe tbody tr th {\n",
       "        vertical-align: top;\n",
       "    }\n",
       "\n",
       "    .dataframe thead th {\n",
       "        text-align: right;\n",
       "    }\n",
       "</style>\n",
       "<table border=\"1\" class=\"dataframe\">\n",
       "  <thead>\n",
       "    <tr style=\"text-align: right;\">\n",
       "      <th></th>\n",
       "      <th>mse_baseline</th>\n",
       "      <th>mse_linreg</th>\n",
       "      <th>mse_lasso</th>\n",
       "      <th>mse_br</th>\n",
       "      <th>mse_arima</th>\n",
       "      <th>mse_sarimax</th>\n",
       "      <th>mse_prophet</th>\n",
       "    </tr>\n",
       "    <tr>\n",
       "      <th>date</th>\n",
       "      <th></th>\n",
       "      <th></th>\n",
       "      <th></th>\n",
       "      <th></th>\n",
       "      <th></th>\n",
       "      <th></th>\n",
       "      <th></th>\n",
       "    </tr>\n",
       "  </thead>\n",
       "  <tbody>\n",
       "    <tr>\n",
       "      <th>2020-07-01</th>\n",
       "      <td>NaN</td>\n",
       "      <td>NaN</td>\n",
       "      <td>NaN</td>\n",
       "      <td>NaN</td>\n",
       "      <td>NaN</td>\n",
       "      <td>NaN</td>\n",
       "      <td>NaN</td>\n",
       "    </tr>\n",
       "    <tr>\n",
       "      <th>2020-07-02</th>\n",
       "      <td>NaN</td>\n",
       "      <td>NaN</td>\n",
       "      <td>NaN</td>\n",
       "      <td>NaN</td>\n",
       "      <td>NaN</td>\n",
       "      <td>NaN</td>\n",
       "      <td>NaN</td>\n",
       "    </tr>\n",
       "    <tr>\n",
       "      <th>2020-07-03</th>\n",
       "      <td>NaN</td>\n",
       "      <td>NaN</td>\n",
       "      <td>NaN</td>\n",
       "      <td>NaN</td>\n",
       "      <td>NaN</td>\n",
       "      <td>NaN</td>\n",
       "      <td>NaN</td>\n",
       "    </tr>\n",
       "    <tr>\n",
       "      <th>2020-07-04</th>\n",
       "      <td>NaN</td>\n",
       "      <td>NaN</td>\n",
       "      <td>NaN</td>\n",
       "      <td>NaN</td>\n",
       "      <td>NaN</td>\n",
       "      <td>NaN</td>\n",
       "      <td>NaN</td>\n",
       "    </tr>\n",
       "    <tr>\n",
       "      <th>2020-07-05</th>\n",
       "      <td>NaN</td>\n",
       "      <td>NaN</td>\n",
       "      <td>NaN</td>\n",
       "      <td>NaN</td>\n",
       "      <td>NaN</td>\n",
       "      <td>NaN</td>\n",
       "      <td>NaN</td>\n",
       "    </tr>\n",
       "    <tr>\n",
       "      <th>2020-07-06</th>\n",
       "      <td>958.666667</td>\n",
       "      <td>57.512789</td>\n",
       "      <td>209.017283</td>\n",
       "      <td>66.331898</td>\n",
       "      <td>628.750569</td>\n",
       "      <td>628.750569</td>\n",
       "      <td>57.550052</td>\n",
       "    </tr>\n",
       "    <tr>\n",
       "      <th>2020-07-07</th>\n",
       "      <td>973.333333</td>\n",
       "      <td>59.737506</td>\n",
       "      <td>82.382696</td>\n",
       "      <td>57.570863</td>\n",
       "      <td>524.365544</td>\n",
       "      <td>524.365544</td>\n",
       "      <td>59.718423</td>\n",
       "    </tr>\n",
       "    <tr>\n",
       "      <th>2020-07-08</th>\n",
       "      <td>479.833333</td>\n",
       "      <td>227.104444</td>\n",
       "      <td>64.721416</td>\n",
       "      <td>219.038516</td>\n",
       "      <td>48.255805</td>\n",
       "      <td>48.255805</td>\n",
       "      <td>226.997537</td>\n",
       "    </tr>\n",
       "    <tr>\n",
       "      <th>2020-07-09</th>\n",
       "      <td>122.200000</td>\n",
       "      <td>473.360000</td>\n",
       "      <td>188.592501</td>\n",
       "      <td>457.571010</td>\n",
       "      <td>530.488499</td>\n",
       "      <td>530.488499</td>\n",
       "      <td>473.553431</td>\n",
       "    </tr>\n",
       "    <tr>\n",
       "      <th>2020-07-10</th>\n",
       "      <td>152.750000</td>\n",
       "      <td>274.646825</td>\n",
       "      <td>86.134941</td>\n",
       "      <td>258.313124</td>\n",
       "      <td>152.750000</td>\n",
       "      <td>152.750000</td>\n",
       "      <td>274.366472</td>\n",
       "    </tr>\n",
       "    <tr>\n",
       "      <th>2020-07-11</th>\n",
       "      <td>203.666667</td>\n",
       "      <td>92.501769</td>\n",
       "      <td>11.390482</td>\n",
       "      <td>73.581766</td>\n",
       "      <td>203.666667</td>\n",
       "      <td>203.666667</td>\n",
       "      <td>92.204758</td>\n",
       "    </tr>\n",
       "    <tr>\n",
       "      <th>2020-07-12</th>\n",
       "      <td>148.000000</td>\n",
       "      <td>1.859410</td>\n",
       "      <td>23.540592</td>\n",
       "      <td>0.948216</td>\n",
       "      <td>52.187715</td>\n",
       "      <td>52.187715</td>\n",
       "      <td>1.774653</td>\n",
       "    </tr>\n",
       "    <tr>\n",
       "      <th>2020-07-13</th>\n",
       "      <td>16.000000</td>\n",
       "      <td>4.000000</td>\n",
       "      <td>49.279841</td>\n",
       "      <td>7.022507</td>\n",
       "      <td>1.073299</td>\n",
       "      <td>1.073299</td>\n",
       "      <td>4.030581</td>\n",
       "    </tr>\n",
       "    <tr>\n",
       "      <th>2020-07-14</th>\n",
       "      <td>NaN</td>\n",
       "      <td>NaN</td>\n",
       "      <td>NaN</td>\n",
       "      <td>NaN</td>\n",
       "      <td>NaN</td>\n",
       "      <td>NaN</td>\n",
       "      <td>NaN</td>\n",
       "    </tr>\n",
       "  </tbody>\n",
       "</table>\n",
       "</div>"
      ],
      "text/plain": [
       "            mse_baseline  mse_linreg   mse_lasso      mse_br   mse_arima  \\\n",
       "date                                                                       \n",
       "2020-07-01           NaN         NaN         NaN         NaN         NaN   \n",
       "2020-07-02           NaN         NaN         NaN         NaN         NaN   \n",
       "2020-07-03           NaN         NaN         NaN         NaN         NaN   \n",
       "2020-07-04           NaN         NaN         NaN         NaN         NaN   \n",
       "2020-07-05           NaN         NaN         NaN         NaN         NaN   \n",
       "2020-07-06    958.666667   57.512789  209.017283   66.331898  628.750569   \n",
       "2020-07-07    973.333333   59.737506   82.382696   57.570863  524.365544   \n",
       "2020-07-08    479.833333  227.104444   64.721416  219.038516   48.255805   \n",
       "2020-07-09    122.200000  473.360000  188.592501  457.571010  530.488499   \n",
       "2020-07-10    152.750000  274.646825   86.134941  258.313124  152.750000   \n",
       "2020-07-11    203.666667   92.501769   11.390482   73.581766  203.666667   \n",
       "2020-07-12    148.000000    1.859410   23.540592    0.948216   52.187715   \n",
       "2020-07-13     16.000000    4.000000   49.279841    7.022507    1.073299   \n",
       "2020-07-14           NaN         NaN         NaN         NaN         NaN   \n",
       "\n",
       "            mse_sarimax  mse_prophet  \n",
       "date                                  \n",
       "2020-07-01          NaN          NaN  \n",
       "2020-07-02          NaN          NaN  \n",
       "2020-07-03          NaN          NaN  \n",
       "2020-07-04          NaN          NaN  \n",
       "2020-07-05          NaN          NaN  \n",
       "2020-07-06   628.750569    57.550052  \n",
       "2020-07-07   524.365544    59.718423  \n",
       "2020-07-08    48.255805   226.997537  \n",
       "2020-07-09   530.488499   473.553431  \n",
       "2020-07-10   152.750000   274.366472  \n",
       "2020-07-11   203.666667    92.204758  \n",
       "2020-07-12    52.187715     1.774653  \n",
       "2020-07-13     1.073299     4.030581  \n",
       "2020-07-14          NaN          NaN  "
      ]
     },
     "execution_count": 39,
     "metadata": {},
     "output_type": "execute_result"
    }
   ],
   "source": [
    "# peek at drive with most improvement\n",
    "all_mses.loc[mean_mses.iloc[0].name]"
   ]
  },
  {
   "cell_type": "markdown",
   "metadata": {},
   "source": [
    "# Conclusion\n",
    "\n",
    "From the above experiments it seems like the Prophet model outperforms the rest. However, a simple OLS model works quite well too with its average MSE not too far away from that of Prophet. Nonetheless, Prophet has the advantage of providing confidence intervals, and also account for weekly/daily/yearly seasonality. Therefore it is likely that when the amount of available historical data at runtime is increased, Prophet would perform even better than OLS."
   ]
  }
 ],
 "metadata": {
  "finalized": {
   "timestamp": 1606753468306,
   "trusted": false
  },
  "kernelspec": {
   "display_name": "ceph_drive_failure",
   "language": "python",
   "name": "ceph_drive_failure"
  },
  "language_info": {
   "codemirror_mode": {
    "name": "ipython",
    "version": 3
   },
   "file_extension": ".py",
   "mimetype": "text/x-python",
   "name": "python",
   "nbconvert_exporter": "python",
   "pygments_lexer": "ipython3",
   "version": "3.6.8"
  },
  "toc": {
   "base_numbering": 1,
   "nav_menu": {},
   "number_sections": true,
   "sideBar": true,
   "skip_h1_title": false,
   "title_cell": "Table of Contents",
   "title_sidebar": "Contents",
   "toc_cell": false,
   "toc_position": {},
   "toc_section_display": true,
   "toc_window_display": false
  }
 },
 "nbformat": 4,
 "nbformat_minor": 2
}
